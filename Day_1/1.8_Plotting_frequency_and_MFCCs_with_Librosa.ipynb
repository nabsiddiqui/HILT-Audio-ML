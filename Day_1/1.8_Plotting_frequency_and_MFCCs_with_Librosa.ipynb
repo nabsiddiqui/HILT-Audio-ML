{
 "cells": [
  {
   "cell_type": "code",
   "execution_count": null,
   "metadata": {
    "collapsed": true
   },
   "outputs": [],
   "source": [
    "import numpy as np\n",
    "import librosa\n",
    "from matplotlib import pyplot as plt\n",
    "%matplotlib inline\n",
    "\n",
    "wav_pathname = 'Creeley-Robert_23_The-Warning_Chicago_5-15-61.wav'\n",
    "\n",
    "sample_array, sample_rate = librosa.load(wav_pathname)\n",
    "\n",
    "spectral_frames = librosa.stft(sample_array, hop_length=512).T\n",
    "\n",
    "spectral_power_frames = [abs(frame_values) for frame_values in spectral_frames]\n"
   ]
  },
  {
   "cell_type": "code",
   "execution_count": null,
   "metadata": {},
   "outputs": [],
   "source": [
    "## Plotting frequency domain for random frame\n",
    "\n",
    "import random\n",
    "\n",
    "i = random.randint(0,len(spectral_power_frames))\n",
    "\n",
    "print(i)\n",
    "\n",
    "plt.figure(figsize=(15,5))\n",
    "plt.plot(spectral_power_frames[i])\n",
    "plt.show()"
   ]
  },
  {
   "cell_type": "code",
   "execution_count": null,
   "metadata": {},
   "outputs": [],
   "source": [
    "## Plotting average spectral power over time\n",
    "\n",
    "mean_power_vals = [np.mean(frame_values) for frame_values in spectral_power_frames]\n",
    "\n",
    "plt.figure(figsize=(15,5))\n",
    "plt.plot(mean_power_vals)\n",
    "plt.show()"
   ]
  },
  {
   "cell_type": "code",
   "execution_count": null,
   "metadata": {
    "collapsed": true
   },
   "outputs": [],
   "source": []
  },
  {
   "cell_type": "code",
   "execution_count": null,
   "metadata": {
    "collapsed": true
   },
   "outputs": [],
   "source": [
    "## Extracting MFCCs\n",
    "\n",
    "mfcc_frames = librosa.feature.mfcc(sample_array, sample_rate, hop_length=512, n_mfcc=13).T\n"
   ]
  },
  {
   "cell_type": "code",
   "execution_count": null,
   "metadata": {},
   "outputs": [],
   "source": [
    "## Plotting random MFCC frames\n",
    "\n",
    "import random\n",
    "\n",
    "i = random.randint(0,len(mfcc_frames))\n",
    "\n",
    "print(i)\n",
    "\n",
    "plt.figure(figsize=(15,5))\n",
    "plt.plot(mfcc_frames[i])\n",
    "plt.show()"
   ]
  },
  {
   "cell_type": "code",
   "execution_count": null,
   "metadata": {},
   "outputs": [],
   "source": [
    "## Plotting average MFCC values over time\n",
    "\n",
    "mean_mfcc_vals = [np.mean(frame_values) for frame_values in mfcc_frames]\n",
    "\n",
    "plt.figure(figsize=(15,5))\n",
    "plt.plot(mean_mfcc_vals)\n",
    "plt.show()"
   ]
  },
  {
   "cell_type": "code",
   "execution_count": null,
   "metadata": {},
   "outputs": [],
   "source": [
    "## Plotting average MFCC values over time, excluding 0th coefficient\n",
    "\n",
    "mean_mfcc_vals = [np.mean(frame_values[1:]) for frame_values in mfcc_frames]\n",
    "\n",
    "plt.figure(figsize=(15,5))\n",
    "plt.plot(mean_mfcc_vals)\n",
    "plt.show()"
   ]
  },
  {
   "cell_type": "code",
   "execution_count": null,
   "metadata": {},
   "outputs": [],
   "source": [
    "## Comparing spectral and MFCC frames\n",
    "\n",
    "import random\n",
    "\n",
    "i = random.randint(0,len(mfcc_frames))\n",
    "\n",
    "print(i)\n",
    "\n",
    "plt.figure(figsize=(15,3))\n",
    "plt.plot(spectral_power_frames[i])\n",
    "plt.show()\n",
    "\n",
    "plt.figure(figsize=(15,3))\n",
    "plt.plot(mfcc_frames[i][1:]) # excluding 0th coefficient\n",
    "plt.show()"
   ]
  },
  {
   "cell_type": "code",
   "execution_count": null,
   "metadata": {
    "collapsed": true
   },
   "outputs": [],
   "source": []
  }
 ],
 "metadata": {
  "kernelspec": {
   "display_name": "Python 2",
   "language": "python",
   "name": "python2"
  },
  "language_info": {
   "codemirror_mode": {
    "name": "ipython",
    "version": 2
   },
   "file_extension": ".py",
   "mimetype": "text/x-python",
   "name": "python",
   "nbconvert_exporter": "python",
   "pygments_lexer": "ipython2",
   "version": "2.7.6"
  }
 },
 "nbformat": 4,
 "nbformat_minor": 2
}
