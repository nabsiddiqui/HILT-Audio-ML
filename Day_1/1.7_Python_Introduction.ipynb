{
 "cells": [
  {
   "cell_type": "markdown",
   "metadata": {},
   "source": [
    "## Python Introduction\n",
    "\n",
    "In this module we'll briefly walk through a handful of tools and techniques in Python — but I don't expect you to remember every last detail! My goal is to give you a lay of the land; think of it as an interactive cheat sheet you can come back to later.\n",
    "\n",
    "Each rectangular box in the Jupyter interface is called a **cell**. Click inside a cell below to highight it, then click the \"play\" button at the top of the window to run the code. Or just press **`Shift+Return`**, which does the same thing."
   ]
  },
  {
   "cell_type": "code",
   "execution_count": 2,
   "metadata": {},
   "outputs": [
    {
     "data": {
      "text/plain": [
       "2"
      ]
     },
     "execution_count": 2,
     "metadata": {},
     "output_type": "execute_result"
    }
   ],
   "source": [
    "# Text on the right side of a pound sign is \"commented out,\" meaning it won't run as code.\n",
    "# Let's start by running the same commands we just tried in the Python shell.\n",
    "\n",
    "1+1"
   ]
  },
  {
   "cell_type": "code",
   "execution_count": 3,
   "metadata": {},
   "outputs": [
    {
     "name": "stdout",
     "output_type": "stream",
     "text": [
      "1337 skillz\n"
     ]
    }
   ],
   "source": [
    "print('1337 skillz')"
   ]
  },
  {
   "cell_type": "code",
   "execution_count": 4,
   "metadata": {},
   "outputs": [
    {
     "data": {
      "text/plain": [
       "400"
      ]
     },
     "execution_count": 4,
     "metadata": {},
     "output_type": "execute_result"
    }
   ],
   "source": [
    "# Note that if we include multiple expressions in a cell that each generate output, \n",
    "# we'll only see output from the last one in the series.\n",
    "\n",
    "1+1\n",
    "50-9\n",
    "200+200"
   ]
  },
  {
   "cell_type": "code",
   "execution_count": 5,
   "metadata": {},
   "outputs": [
    {
     "name": "stdout",
     "output_type": "stream",
     "text": [
      "2\n",
      "41\n",
      "400\n"
     ]
    }
   ],
   "source": [
    "# But if we include multiple print() functions, each one will write to a separate line.\n",
    "# For the sake of clarity, I tend to print all my outputs by default.\n",
    "\n",
    "print(1+1)\n",
    "print(50-9)\n",
    "print(200+200)"
   ]
  },
  {
   "cell_type": "code",
   "execution_count": 6,
   "metadata": {},
   "outputs": [
    {
     "name": "stdout",
     "output_type": "stream",
     "text": [
      "42\n",
      "Hello\n"
     ]
    }
   ],
   "source": [
    "# We use the equals sign (with or without spaces on either side) to assign variables in Python.\n",
    "# These variables then stand in for the values we've given them.\n",
    "\n",
    "abc = 42\n",
    "xyz=\"Hello\"\n",
    "\n",
    "print(abc)\n",
    "print(xyz)"
   ]
  },
  {
   "cell_type": "code",
   "execution_count": 8,
   "metadata": {},
   "outputs": [
    {
     "name": "stdout",
     "output_type": "stream",
     "text": [
      "20\n",
      "6\n",
      "91\n",
      "1\n",
      "62748517\n"
     ]
    }
   ],
   "source": [
    "# Arithmetic syntax is fairly straightforward. In this cell we're working with integers, a.k.a. ints.\n",
    "\n",
    "int1 = 13\n",
    "int2 = 7\n",
    "\n",
    "print(int1+int2)    # addition\n",
    "print(int1-int2)    # subtraction\n",
    "print(int1*int2)    # multiplication\n",
    "print(int1/int2)    # division\n",
    "print(int1**int2)   # exponentiation\n",
    "\n",
    "# Note that integer division always rounds down."
   ]
  },
  {
   "cell_type": "code",
   "execution_count": 10,
   "metadata": {},
   "outputs": [
    {
     "name": "stdout",
     "output_type": "stream",
     "text": [
      "20.0\n",
      "6.0\n",
      "91.0\n",
      "1.85714285714\n",
      "62748517.0\n"
     ]
    }
   ],
   "source": [
    "# Floating-point numbers, known as floats, are numbers with decimal values. \n",
    "# They're a different data type than ints, but the same syntax applies for arithmetic.\n",
    "\n",
    "float1 = 13.0\n",
    "float2 = 7.0\n",
    "\n",
    "print(float1+float2)  # add\n",
    "print(float1-float2) # subtract\n",
    "print(float1*float2) # multiply\n",
    "print(float1/float2) # divide\n",
    "print(float1**float2) # exponent"
   ]
  },
  {
   "cell_type": "code",
   "execution_count": 20,
   "metadata": {},
   "outputs": [
    {
     "name": "stdout",
     "output_type": "stream",
     "text": [
      "10\n",
      "13.0\n"
     ]
    }
   ],
   "source": [
    "# When we combine floats and ints in arithmetic expressions, the result is always a float.\n",
    "\n",
    "x = 5\n",
    "y = 8.0\n",
    "\n",
    "print(x+x)\n",
    "print(x+y)"
   ]
  },
  {
   "cell_type": "code",
   "execution_count": 19,
   "metadata": {},
   "outputs": [
    {
     "name": "stdout",
     "output_type": "stream",
     "text": [
      "15\n",
      "7.0\n"
     ]
    }
   ],
   "source": [
    "# We can, however, use the int() and float() functions to \"cast\" ints to floats and vice-versa.\n",
    "# Note that casting a float to an int always rounds down.\n",
    "\n",
    "print(int(15.9))\n",
    "print(float(7))"
   ]
  },
  {
   "cell_type": "code",
   "execution_count": 39,
   "metadata": {},
   "outputs": [
    {
     "name": "stdout",
     "output_type": "stream",
     "text": [
      "5\n",
      "5.0\n"
     ]
    }
   ],
   "source": [
    "# We can also cast strings (if they happen to be numbers) to int and float types.\n",
    "\n",
    "print(int(\"5\"))\n",
    "print(float(\"5\"))"
   ]
  },
  {
   "cell_type": "code",
   "execution_count": 28,
   "metadata": {},
   "outputs": [
    {
     "name": "stdout",
     "output_type": "stream",
     "text": [
      "Hello Jupyter!\n"
     ]
    }
   ],
   "source": [
    "# Now try using the \"+\" operator on two strings.\n",
    "\n",
    "z = 'Hello'\n",
    "\n",
    "print(z + \" Jupyter!\")\n",
    "\n",
    "# We've used \"+\" for two different purposes so far: adding numbers and combining, or concatenating, strings."
   ]
  },
  {
   "cell_type": "code",
   "execution_count": 30,
   "metadata": {},
   "outputs": [
    {
     "name": "stdout",
     "output_type": "stream",
     "text": [
      "This is a string that's got an apostrophe in it.\n"
     ]
    }
   ],
   "source": [
    "# In the cell above we enclosed one string in single quotes and put the other in double quotes.\n",
    "# Either is fine; whichever you choose is up to you. But if your string contains a single quote \n",
    "# character, you'll need to enclose it in double quotes.\n",
    "\n",
    "print(\"This is a string that's got an apostrophe in it.\")"
   ]
  },
  {
   "cell_type": "code",
   "execution_count": 31,
   "metadata": {},
   "outputs": [
    {
     "name": "stdout",
     "output_type": "stream",
     "text": [
      "Fleas and lice\n",
      "a horse pissing\n",
      "next to my pillow\n"
     ]
    }
   ],
   "source": [
    "# If you're working with a string that contains double quotes and/or line breaks, use triple \n",
    "# quotes instead (i.e., three single quotes in a row).\n",
    "\n",
    "print('''Fleas and lice\n",
    "a horse pissing\n",
    "next to my pillow''')\n",
    "\n",
    "# My favorite Bashō haiku, translated by David Young"
   ]
  },
  {
   "cell_type": "code",
   "execution_count": 33,
   "metadata": {},
   "outputs": [
    {
     "name": "stdout",
     "output_type": "stream",
     "text": [
      "['Austria', 'Belgium', 'Bulgaria', 'Croatia', 'Republic of Cyprus', 'Czech Republic', 'Denmark', 'Estonia', 'Finland', 'France', 'Germany', 'Greece', 'Hungary', 'Ireland', 'Italy', 'Latvia', 'Lithuania', 'Luxembourg', 'Malta', 'Netherlands', 'Poland', 'Portugal', 'Romania', 'Slovakia', 'Slovenia', 'Spain', 'Sweden', 'UK']\n"
     ]
    }
   ],
   "source": [
    "# Now let's create a list. There are a few ways to represent an ordered sequence of items \n",
    "# in Python, but we’ll be using lists most frequently.\n",
    "\n",
    "eu_countries=['Austria', 'Belgium', 'Bulgaria', 'Croatia', 'Republic of Cyprus', 'Czech Republic', 'Denmark', 'Estonia', 'Finland', 'France', 'Germany', 'Greece', 'Hungary', 'Ireland', 'Italy', 'Latvia', 'Lithuania', 'Luxembourg', 'Malta', 'Netherlands', 'Poland', 'Portugal', 'Romania', 'Slovakia', 'Slovenia', 'Spain', 'Sweden', 'UK']\n",
    "\n",
    "print(eu_countries)"
   ]
  },
  {
   "cell_type": "code",
   "execution_count": 34,
   "metadata": {},
   "outputs": [
    {
     "data": {
      "text/plain": [
       "'Croatia'"
      ]
     },
     "execution_count": 34,
     "metadata": {},
     "output_type": "execute_result"
    }
   ],
   "source": [
    "# We can refer to individual list members using bracket notation. As in most programming \n",
    "# languages, we begin counting from 0 when working with ordered data — so list index 3\n",
    "# is actually the fourth item in the list.\n",
    "\n",
    "eu_countries[3]"
   ]
  },
  {
   "cell_type": "code",
   "execution_count": 40,
   "metadata": {},
   "outputs": [
    {
     "ename": "IndexError",
     "evalue": "list index out of range",
     "output_type": "error",
     "traceback": [
      "\u001b[0;31m---------------------------------------------------------------------------\u001b[0m",
      "\u001b[0;31mIndexError\u001b[0m                                Traceback (most recent call last)",
      "\u001b[0;32m<ipython-input-40-b5e107cc2b6b>\u001b[0m in \u001b[0;36m<module>\u001b[0;34m()\u001b[0m\n\u001b[1;32m      1\u001b[0m \u001b[0;31m# If you try to access an out-of-range index value, you’ll get an error.\u001b[0m\u001b[0;34m\u001b[0m\u001b[0;34m\u001b[0m\u001b[0m\n\u001b[1;32m      2\u001b[0m \u001b[0;34m\u001b[0m\u001b[0m\n\u001b[0;32m----> 3\u001b[0;31m \u001b[0meu_countries\u001b[0m\u001b[0;34m[\u001b[0m\u001b[0;36m99\u001b[0m\u001b[0;34m]\u001b[0m\u001b[0;34m\u001b[0m\u001b[0m\n\u001b[0m",
      "\u001b[0;31mIndexError\u001b[0m: list index out of range"
     ]
    }
   ],
   "source": [
    "# If you try to access an out-of-range index value, you’ll get an error.\n",
    "\n",
    "eu_countries[99]"
   ]
  },
  {
   "cell_type": "code",
   "execution_count": 42,
   "metadata": {},
   "outputs": [
    {
     "name": "stdout",
     "output_type": "stream",
     "text": [
      "['Croatia', 'Republic of Cyprus', 'Czech Republic', 'Denmark']\n"
     ]
    }
   ],
   "source": [
    "# We can also create a subset of a list using Python’s slice notation.\n",
    "\n",
    "print(eu_countries[3:7])"
   ]
  },
  {
   "cell_type": "code",
   "execution_count": 43,
   "metadata": {},
   "outputs": [
    {
     "name": "stdout",
     "output_type": "stream",
     "text": [
      "['Denmark', 'Estonia', 'Finland', 'France', 'Germany', 'Greece', 'Hungary', 'Ireland', 'Italy', 'Latvia', 'Lithuania', 'Luxembourg', 'Malta', 'Netherlands', 'Poland', 'Portugal', 'Romania', 'Slovakia', 'Slovenia', 'Spain', 'Sweden', 'UK']\n"
     ]
    }
   ],
   "source": [
    "print(eu_countries[6:])"
   ]
  },
  {
   "cell_type": "code",
   "execution_count": 48,
   "metadata": {},
   "outputs": [
    {
     "name": "stdout",
     "output_type": "stream",
     "text": [
      "['Austria', 'Belgium', 'Bulgaria', 'Croatia', 'Republic of Cyprus', 'Czech Republic', 'Denmark']\n"
     ]
    }
   ],
   "source": [
    "print(eu_countries[:7])"
   ]
  },
  {
   "cell_type": "code",
   "execution_count": 47,
   "metadata": {},
   "outputs": [
    {
     "name": "stdout",
     "output_type": "stream",
     "text": [
      "['Spain', 'Sweden', 'UK']\n"
     ]
    }
   ],
   "source": [
    "print(eu_countries[-3:])"
   ]
  },
  {
   "cell_type": "code",
   "execution_count": 50,
   "metadata": {},
   "outputs": [
    {
     "data": {
      "text/plain": [
       "28"
      ]
     },
     "execution_count": 50,
     "metadata": {},
     "output_type": "execute_result"
    }
   ],
   "source": [
    "# If we want to know the length of a list or string, the len() function can tell us.\n",
    "\n",
    "len(eu_countries)"
   ]
  },
  {
   "cell_type": "code",
   "execution_count": 64,
   "metadata": {},
   "outputs": [
    {
     "name": "stdout",
     "output_type": "stream",
     "text": [
      "True\n",
      "False\n",
      "True\n",
      "True\n"
     ]
    }
   ],
   "source": [
    "# We can check whether two values are the same with the boolean operator \"==\", which works \n",
    "# for strings as well as numbers.\n",
    "\n",
    "number = 12\n",
    "word = \"giraffe\"\n",
    "\n",
    "print(number==12)\n",
    "print(number==13)\n",
    "print(word == \"giraffe\")"
   ]
  },
  {
   "cell_type": "code",
   "execution_count": 60,
   "metadata": {},
   "outputs": [
    {
     "name": "stdout",
     "output_type": "stream",
     "text": [
      "False\n",
      "True\n",
      "True\n"
     ]
    }
   ],
   "source": [
    "# The \"!=\" operator asks whether two values are different.\n",
    "\n",
    "print(number!=12)\n",
    "print(number!=13)\n",
    "print(word!=\"pineapple\")"
   ]
  },
  {
   "cell_type": "code",
   "execution_count": 66,
   "metadata": {},
   "outputs": [
    {
     "name": "stdout",
     "output_type": "stream",
     "text": [
      "True\n",
      "False\n"
     ]
    }
   ],
   "source": [
    "# True and False are known as boolean values, which together comprise their own data type.\n",
    "\n",
    "print(True==True)\n",
    "print(True==False)"
   ]
  },
  {
   "cell_type": "code",
   "execution_count": 67,
   "metadata": {},
   "outputs": [
    {
     "name": "stdout",
     "output_type": "stream",
     "text": [
      "The value is equal to 12.\n"
     ]
    }
   ],
   "source": [
    "# Conditional statements are a fundamental part of all programming languages. \n",
    "# We use the \"if\" operator to make something happen if a boolean expression is equal to True.\n",
    "\n",
    "number=12\n",
    "\n",
    "if number==12:\n",
    "    print(\"The value is equal to 12.\")"
   ]
  },
  {
   "cell_type": "code",
   "execution_count": 68,
   "metadata": {},
   "outputs": [
    {
     "name": "stdout",
     "output_type": "stream",
     "text": [
      "The value is not equal to 12.\n"
     ]
    }
   ],
   "source": [
    "number=11\n",
    "\n",
    "if number!=12:\n",
    "    print(\"The value is not equal to 12.\")"
   ]
  },
  {
   "cell_type": "code",
   "execution_count": null,
   "metadata": {
    "collapsed": true
   },
   "outputs": [],
   "source": [
    "# By adding \"else\" below \"if,\" we can tell Python to do something if the boolean expression\n",
    "# is not equal to True.\n",
    "\n",
    "number=10\n",
    "\n",
    "if number==12:\n",
    "    print(\"The value is equal to 12.\")\n",
    "else:\n",
    "    print(\"The value is not equal to 12.\")"
   ]
  },
  {
   "cell_type": "code",
   "execution_count": 70,
   "metadata": {},
   "outputs": [
    {
     "name": "stdout",
     "output_type": "stream",
     "text": [
      "Austria is great.\n",
      "Belgium is great.\n",
      "Bulgaria is great.\n",
      "Croatia is great.\n",
      "Republic of Cyprus is great.\n",
      "Czech Republic is great.\n",
      "Denmark is great.\n",
      "Estonia is great.\n",
      "Finland is great.\n",
      "France is great.\n",
      "Germany is great.\n",
      "Greece is great.\n",
      "Hungary is great.\n",
      "Ireland is great.\n",
      "Italy is great.\n",
      "Latvia is great.\n",
      "Lithuania is great.\n",
      "Luxembourg is great.\n",
      "Malta is great.\n",
      "Netherlands is great.\n",
      "Poland is great.\n",
      "Portugal is great.\n",
      "Romania is great.\n",
      "Slovakia is great.\n",
      "Slovenia is great.\n",
      "Spain is great.\n",
      "Sweden is great.\n",
      "UK is great.\n"
     ]
    }
   ],
   "source": [
    "# A \"for loop\" is a structure that lets us iterate through lists and related data structures \n",
    "# so we can do something with each item one at a time.\n",
    "\n",
    "for country in eu_countries:\n",
    "    print(country + ' is great.')"
   ]
  },
  {
   "cell_type": "code",
   "execution_count": 71,
   "metadata": {},
   "outputs": [
    {
     "name": "stdout",
     "output_type": "stream",
     "text": [
      "Austria is great.\n",
      "Belgium is great.\n",
      "Bulgaria is great.\n",
      "Croatia is great.\n",
      "Republic of Cyprus is great.\n",
      "Czech Republic is great.\n",
      "Denmark is great.\n",
      "Estonia is great.\n",
      "Finland is great.\n",
      "France is great.\n",
      "Germany is great.\n",
      "Greece is great.\n",
      "Hungary is great.\n",
      "Ireland is great.\n",
      "Italy is great.\n",
      "Latvia is great.\n",
      "Lithuania is great.\n",
      "Luxembourg is great.\n",
      "Malta is great.\n",
      "Netherlands is great.\n",
      "Poland is great.\n",
      "Portugal is great.\n",
      "Romania is great.\n",
      "Slovakia is great.\n",
      "Slovenia is great.\n",
      "Spain is great.\n",
      "Sweden is great.\n",
      "UK is great.\n"
     ]
    }
   ],
   "source": [
    "# Finally, we can create functions to automate processes we want to repeat. Use the \"def\" \n",
    "# declaration to begin a function definition. The code below will produce the same output \n",
    "# as the last example.\n",
    "\n",
    "def is_great(word):\n",
    "    return word + ' is great.'\n",
    "\n",
    "for country in eu_countries:\n",
    "    print(is_great(country))"
   ]
  },
  {
   "cell_type": "code",
   "execution_count": 72,
   "metadata": {},
   "outputs": [
    {
     "data": {
      "text/plain": [
       "'/home/sharedfolder/HILT-Audio-ML/Day_1'"
      ]
     },
     "execution_count": 72,
     "metadata": {},
     "output_type": "execute_result"
    }
   ],
   "source": [
    "# This cell imports the 'os' package (which stands for \"operating system\"),\n",
    "# then prints the current working directory, just like \"ls\" does in Bash.\n",
    "\n",
    "import os\n",
    "\n",
    "os.getcwd()"
   ]
  },
  {
   "cell_type": "code",
   "execution_count": 74,
   "metadata": {},
   "outputs": [
    {
     "data": {
      "text/plain": [
       "'/'"
      ]
     },
     "execution_count": 74,
     "metadata": {},
     "output_type": "execute_result"
    }
   ],
   "source": [
    "# Just like \"cd\" in Bash, os.chdir() changes the working directory.\n",
    "\n",
    "os.chdir(\"/\")\n",
    "\n",
    "os.getcwd()"
   ]
  },
  {
   "cell_type": "code",
   "execution_count": 75,
   "metadata": {},
   "outputs": [
    {
     "name": "stdout",
     "output_type": "stream",
     "text": [
      "['usr', 'var', 'tmp', 'root', 'dev', 'etc', '.dockerenv', 'home', 'opt', 'bin', 'lib', 'run', 'sbin', 'srv', 'mnt', 'lib64', 'proc', 'sys', 'boot', 'media']\n"
     ]
    }
   ],
   "source": [
    "# Use os.listdir() with any directory pathname as an argument, and it will return a \n",
    "# list of all the files in that directory. As in Bash, \"./\" refers to the current working directory.\n",
    "\n",
    "filenames = os.listdir(\"./\")\n",
    "\n",
    "print(filenames)"
   ]
  },
  {
   "cell_type": "code",
   "execution_count": 77,
   "metadata": {},
   "outputs": [
    {
     "name": "stdout",
     "output_type": "stream",
     "text": [
      "['usr',\n",
      " 'var',\n",
      " 'tmp',\n",
      " 'root',\n",
      " 'dev',\n",
      " 'etc',\n",
      " '.dockerenv',\n",
      " 'home',\n",
      " 'opt',\n",
      " 'bin',\n",
      " 'lib',\n",
      " 'run',\n",
      " 'sbin',\n",
      " 'srv',\n",
      " 'mnt',\n",
      " 'lib64',\n",
      " 'proc',\n",
      " 'sys',\n",
      " 'boot',\n",
      " 'media']\n"
     ]
    }
   ],
   "source": [
    "# The pprint.pprint() module will output list above in a more readable format.\n",
    "\n",
    "from pprint import pprint\n",
    "\n",
    "pprint(filenames)"
   ]
  },
  {
   "cell_type": "code",
   "execution_count": null,
   "metadata": {
    "collapsed": true
   },
   "outputs": [],
   "source": [
    "# The split() function \n",
    "\n",
    "sentence = \"A green hunting cap squeezed the top of a fleshy balloon of a head.\"\n",
    "print(sentence)\n",
    "\n",
    "words = sentence.split(\" \")\n",
    "print(words)"
   ]
  },
  {
   "cell_type": "code",
   "execution_count": null,
   "metadata": {
    "collapsed": true
   },
   "outputs": [],
   "source": [
    "joined_sentence = \"_\".join(words)\n",
    "print(joined_sentence)"
   ]
  },
  {
   "cell_type": "code",
   "execution_count": null,
   "metadata": {
    "collapsed": true
   },
   "outputs": [],
   "source": [
    "# The 'replace()' function\n",
    "\n",
    "print(sentence.replace(\" \",\"_\"))"
   ]
  },
  {
   "cell_type": "code",
   "execution_count": null,
   "metadata": {
    "collapsed": true
   },
   "outputs": [],
   "source": [
    "# Review: List slice notation\n",
    "\n",
    "print(len(words))\n",
    "print(words[4])\n",
    "print(words[2:5])\n",
    "print(words[2:])\n",
    "print(words[:2])\n",
    "print(words[-4])\n",
    "print(words[-4:])"
   ]
  },
  {
   "cell_type": "code",
   "execution_count": null,
   "metadata": {
    "collapsed": true
   },
   "outputs": [],
   "source": [
    "# Appending items to a list\n",
    "\n",
    "names = []\n",
    "\n",
    "names.append('Janice')\n",
    "\n",
    "print(names)"
   ]
  },
  {
   "cell_type": "code",
   "execution_count": null,
   "metadata": {
    "collapsed": true
   },
   "outputs": [],
   "source": [
    "names.append('Jordan')\n",
    "names.append('Jonathan')\n",
    "names.append('Julie')\n",
    "names.append('Jill')\n",
    "\n",
    "print(names)"
   ]
  },
  {
   "cell_type": "code",
   "execution_count": null,
   "metadata": {
    "collapsed": true
   },
   "outputs": [],
   "source": [
    "# Lists concatenation\n",
    "\n",
    "numbers = [99,34,54,23,11,203]\n",
    "\n",
    "print(names + numbers)"
   ]
  },
  {
   "cell_type": "code",
   "execution_count": null,
   "metadata": {
    "collapsed": true
   },
   "outputs": [],
   "source": [
    "# More list concatenation\n",
    "\n",
    "names += ['Jim','Janette','Jerry', 'Heather']\n",
    "\n",
    "print(names)"
   ]
  },
  {
   "cell_type": "code",
   "execution_count": null,
   "metadata": {
    "collapsed": true
   },
   "outputs": [],
   "source": [
    "# Checking for inclusion in a list\n",
    "\n",
    "\"Jerry\" in names"
   ]
  },
  {
   "cell_type": "code",
   "execution_count": null,
   "metadata": {
    "collapsed": true
   },
   "outputs": [],
   "source": [
    "\"Charles\" in names"
   ]
  },
  {
   "cell_type": "code",
   "execution_count": null,
   "metadata": {
    "collapsed": true
   },
   "outputs": [],
   "source": [
    "###"
   ]
  },
  {
   "cell_type": "code",
   "execution_count": null,
   "metadata": {
    "collapsed": true
   },
   "outputs": [],
   "source": [
    "filenames = os.listdir('./')\n",
    "\n",
    "os.chdir('/home/sharedfolder/sample_audio')\n",
    "\n",
    "pprint(os.listdir('./'))"
   ]
  },
  {
   "cell_type": "code",
   "execution_count": null,
   "metadata": {
    "collapsed": true
   },
   "outputs": [],
   "source": [
    "filenames = os.listdir('./')\n",
    "\n",
    "for filename in filenames:\n",
    "    os.rename(filename, filename.replace(' ','_'))\n",
    "\n",
    "pprint(os.listdir('./'))"
   ]
  },
  {
   "cell_type": "code",
   "execution_count": null,
   "metadata": {
    "collapsed": true
   },
   "outputs": [],
   "source": [
    "filenames = os.listdir('./')\n",
    "\n",
    "for filename in filenames:\n",
    "    os.rename(filename, \"HILT_\"+filename)\n",
    "\n",
    "pprint(os.listdir('./'))"
   ]
  },
  {
   "cell_type": "code",
   "execution_count": null,
   "metadata": {
    "collapsed": true
   },
   "outputs": [],
   "source": [
    "# List comprehension format\n",
    "\n",
    "filenames = os.listdir('./')\n",
    "\n",
    "basenames = [item.replace('.mp3','').replace('.wav','') for item in filenames]\n",
    "\n",
    "pprint(basenames)"
   ]
  },
  {
   "cell_type": "code",
   "execution_count": null,
   "metadata": {
    "collapsed": true
   },
   "outputs": [],
   "source": [
    "# More list comprehension\n",
    "\n",
    "filenames = os.listdir('./')\n",
    "\n",
    "mp3_basenames = [item.replace('.mp3','') for item in filenames if '.mp3' in item]\n",
    "\n",
    "pprint(mp3_basenames)"
   ]
  },
  {
   "cell_type": "code",
   "execution_count": null,
   "metadata": {
    "collapsed": true
   },
   "outputs": [],
   "source": [
    "# More list comprehension\n",
    "\n",
    "filenames = os.listdir('./')\n",
    "\n",
    "mp3_filenames = [item for item in filenames if '.mp3' in item]\n",
    "\n",
    "pprint(mp3_filenames)"
   ]
  },
  {
   "cell_type": "code",
   "execution_count": null,
   "metadata": {
    "collapsed": true
   },
   "outputs": [],
   "source": [
    "# More list comprehension\n",
    "\n",
    "filenames = os.listdir('./')\n",
    "\n",
    "mp3_filenames = [item for item in filenames if '.mp3' in item.lower()]\n",
    "\n",
    "pprint(mp3_basenames)"
   ]
  },
  {
   "cell_type": "markdown",
   "metadata": {},
   "source": [
    "### Executing Bash commands from Python with the \"subprocess\" module"
   ]
  },
  {
   "cell_type": "code",
   "execution_count": null,
   "metadata": {
    "collapsed": true
   },
   "outputs": [],
   "source": [
    "# First, let's create a list of \n",
    "\n",
    "urls = ['http://media.sas.upenn.edu/pennsound/authors/Morris/Close-Lstening/Morris-Tracie_04_Discussion2_WPS1_NY_5-22-05.mp3', \\\n",
    "        'http://media.sas.upenn.edu/pennsound/authors/Morris/Close-Lstening/Morris-Tracie_05_Theres-Traces_WPS1_NY_5-22-05.mp3', \\\n",
    "        'http://media.sas.upenn.edu/pennsound/authors/Morris/Close-Lstening/Morris-Tracie_06_Physical-Plane_WPS1_NY_5-22-05.mp3']\n",
    "\n",
    "pprint(urls)"
   ]
  },
  {
   "cell_type": "code",
   "execution_count": null,
   "metadata": {
    "collapsed": true
   },
   "outputs": [],
   "source": [
    "for item in urls:\n",
    "    print(['wget',item])"
   ]
  },
  {
   "cell_type": "code",
   "execution_count": null,
   "metadata": {
    "collapsed": true
   },
   "outputs": [],
   "source": [
    "import subprocess\n",
    "\n"
   ]
  },
  {
   "cell_type": "code",
   "execution_count": null,
   "metadata": {
    "collapsed": true
   },
   "outputs": [],
   "source": []
  },
  {
   "cell_type": "code",
   "execution_count": null,
   "metadata": {
    "collapsed": true
   },
   "outputs": [],
   "source": []
  },
  {
   "cell_type": "code",
   "execution_count": null,
   "metadata": {
    "collapsed": true
   },
   "outputs": [],
   "source": []
  },
  {
   "cell_type": "markdown",
   "metadata": {},
   "source": [
    "### Text input/output"
   ]
  },
  {
   "cell_type": "code",
   "execution_count": null,
   "metadata": {
    "collapsed": true
   },
   "outputs": [],
   "source": [
    "# The shortest format for creating a string from a text file:\n",
    "\n",
    "text=open(\"test_file.txt\").read()\n",
    "\n",
    "print(text)"
   ]
  },
  {
   "cell_type": "code",
   "execution_count": null,
   "metadata": {
    "collapsed": true
   },
   "outputs": [],
   "source": [
    "# Or we can work with one line at a time. Note that the newline character at the end of the\n",
    "# first line ends up creating a gap when the lines are printed separately.\n",
    "\n",
    "with open(\"test_file.txt\") as fi:\n",
    "    for line in fi:\n",
    "    print(line)"
   ]
  },
  {
   "cell_type": "code",
   "execution_count": null,
   "metadata": {
    "collapsed": true
   },
   "outputs": [],
   "source": [
    "# Load a text file as a list of lines, discarding newline characters.\n",
    "\n",
    "line_list=open(\"test_file.txt\").read().splitlines()\n",
    "\n",
    "print(line_list)"
   ]
  },
  {
   "cell_type": "code",
   "execution_count": null,
   "metadata": {
    "collapsed": true
   },
   "outputs": [],
   "source": [
    "# And we can write string data to a new text file like so:\n",
    "\n",
    "fo=open(\"test_file_2.txt\",\"w\")  ### Swap in your username here. ##\\#\n",
    "\n",
    "fo.write(\"This is another first line.\\n\")\n",
    "fo.write(\"This is another second line.\")\n",
    "\n",
    "fo.close()\n",
    "\n",
    "# A file called \"test_file_2.txt\" should appear in `sharedfolder`."
   ]
  },
  {
   "cell_type": "code",
   "execution_count": null,
   "metadata": {
    "collapsed": true
   },
   "outputs": [],
   "source": []
  },
  {
   "cell_type": "code",
   "execution_count": null,
   "metadata": {
    "collapsed": true
   },
   "outputs": [],
   "source": []
  },
  {
   "cell_type": "code",
   "execution_count": null,
   "metadata": {
    "collapsed": true
   },
   "outputs": [],
   "source": [
    "\n",
    "#### **11.** Accessing the shell from Python with the `os` package (if time permits)\n",
    "The next section is intended as an instructor demonstration, to be included if time permits.\n",
    "\n",
    "First, let’s check the length of the film with `exiftool`. Open a new terminal window and enter the following.\n",
    "\tcd ~/Desktop\n",
    "\texiftool Bucket.mp4\n",
    "\n",
    "The file comes to 1:05:57, or 3907 seconds. Lets extract 10 5-second clips at random and combine them to create a new video.\n",
    "\n",
    " ```python\n",
    "import os\n",
    "import random\n",
    "\n",
    "total*time=3907\n",
    "clip*time=5\n",
    "\n",
    "def random*start():\n",
    "\treturn random.random()*(total*time-clip*time)\n",
    "\n",
    "os.system('cd /Users/yourname/Desktop/')\n",
    "\n",
    "for i in range(10):\n",
    "\tos.system(\"ffmpeg -i Bucket.mp4 -ss \"+str(random*start())+\" -t 4 clip\"+str(i)+\".mpg\")\n",
    "\n",
    "os.system('''ffmpeg -i \"concat:clip0.mpg|clip1.mpg|clip2.mpg|clip3.mpg|clip4.mpg|clip5.mpg|clip6.mpg|clip7.mpg|clip8.mpg|clip9.mpg\" -c copy collage.mpg''')\n",
    "```\n"
   ]
  },
  {
   "cell_type": "code",
   "execution_count": null,
   "metadata": {
    "collapsed": true
   },
   "outputs": [],
   "source": []
  },
  {
   "cell_type": "code",
   "execution_count": null,
   "metadata": {
    "collapsed": true
   },
   "outputs": [],
   "source": []
  },
  {
   "cell_type": "code",
   "execution_count": null,
   "metadata": {
    "collapsed": true
   },
   "outputs": [],
   "source": []
  }
 ],
 "metadata": {
  "kernelspec": {
   "display_name": "Python 2",
   "language": "python",
   "name": "python2"
  },
  "language_info": {
   "codemirror_mode": {
    "name": "ipython",
    "version": 2
   },
   "file_extension": ".py",
   "mimetype": "text/x-python",
   "name": "python",
   "nbconvert_exporter": "python",
   "pygments_lexer": "ipython2",
   "version": "2.7.6"
  }
 },
 "nbformat": 4,
 "nbformat_minor": 2
}
