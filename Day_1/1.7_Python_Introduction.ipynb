{
 "cells": [
  {
   "cell_type": "markdown",
   "metadata": {},
   "source": [
    "# Python Introduction\n",
    "\n",
    "In this module we'll briefly walk through a handful of tools and techniques in Python — but I don't expect you to remember every last detail! My goal is to give you a lay of the land; think of it as an interactive cheat sheet you can come back to later.\n",
    "\n",
    "Each rectangular box in the Jupyter interface is called a **cell**. Click inside a cell below to highight it, then click the \"play\" button at the top of the window to run the code. Or just press **`Shift+Return`**, which does the same thing."
   ]
  },
  {
   "cell_type": "code",
   "execution_count": 2,
   "metadata": {},
   "outputs": [
    {
     "data": {
      "text/plain": [
       "2"
      ]
     },
     "execution_count": 2,
     "metadata": {},
     "output_type": "execute_result"
    }
   ],
   "source": [
    "# Text on the right side of a pound sign is \"commented out,\" meaning it won't run as code.\n",
    "# Let's start by running the same commands we just tried in the Python shell.\n",
    "\n",
    "1+1"
   ]
  },
  {
   "cell_type": "code",
   "execution_count": 3,
   "metadata": {},
   "outputs": [
    {
     "name": "stdout",
     "output_type": "stream",
     "text": [
      "1337 skillz\n"
     ]
    }
   ],
   "source": [
    "print('1337 skillz')"
   ]
  },
  {
   "cell_type": "code",
   "execution_count": 4,
   "metadata": {},
   "outputs": [
    {
     "data": {
      "text/plain": [
       "400"
      ]
     },
     "execution_count": 4,
     "metadata": {},
     "output_type": "execute_result"
    }
   ],
   "source": [
    "# Note that if we include multiple expressions in a cell that each generate output, \n",
    "# we'll only see output from the last one in the series.\n",
    "\n",
    "1+1\n",
    "50-9\n",
    "200+200"
   ]
  },
  {
   "cell_type": "code",
   "execution_count": 5,
   "metadata": {},
   "outputs": [
    {
     "name": "stdout",
     "output_type": "stream",
     "text": [
      "2\n",
      "41\n",
      "400\n"
     ]
    }
   ],
   "source": [
    "# But if we include multiple print() functions, each one will write to a separate line.\n",
    "# For the sake of clarity, I tend to print all my outputs by default.\n",
    "\n",
    "print(1+1)\n",
    "print(50-9)\n",
    "print(200+200)"
   ]
  },
  {
   "cell_type": "code",
   "execution_count": 6,
   "metadata": {},
   "outputs": [
    {
     "name": "stdout",
     "output_type": "stream",
     "text": [
      "42\n",
      "Hello\n"
     ]
    }
   ],
   "source": [
    "# We use the equals sign (with or without spaces on either side) to assign variables in Python.\n",
    "# These variables then stand in for the values we've given them.\n",
    "\n",
    "abc = 42\n",
    "xyz=\"Hello\"\n",
    "\n",
    "print(abc)\n",
    "print(xyz)"
   ]
  },
  {
   "cell_type": "markdown",
   "metadata": {},
   "source": [
    "## *Arithmetic operations*"
   ]
  },
  {
   "cell_type": "code",
   "execution_count": 8,
   "metadata": {},
   "outputs": [
    {
     "name": "stdout",
     "output_type": "stream",
     "text": [
      "20\n",
      "6\n",
      "91\n",
      "1\n",
      "62748517\n"
     ]
    }
   ],
   "source": [
    "# Arithmetic syntax is fairly straightforward. In this cell we're working with integers, a.k.a. ints.\n",
    "\n",
    "int1 = 13\n",
    "int2 = 7\n",
    "\n",
    "print(int1+int2)    # addition\n",
    "print(int1-int2)    # subtraction\n",
    "print(int1*int2)    # multiplication\n",
    "print(int1/int2)    # division\n",
    "print(int1**int2)   # exponentiation\n",
    "\n",
    "# Note that integer division always rounds down."
   ]
  },
  {
   "cell_type": "code",
   "execution_count": 10,
   "metadata": {},
   "outputs": [
    {
     "name": "stdout",
     "output_type": "stream",
     "text": [
      "20.0\n",
      "6.0\n",
      "91.0\n",
      "1.85714285714\n",
      "62748517.0\n"
     ]
    }
   ],
   "source": [
    "# Floating-point numbers, known as floats, are numbers with decimal values. \n",
    "# They're a different data type than ints, but the same syntax applies for arithmetic.\n",
    "\n",
    "float1 = 13.0\n",
    "float2 = 7.0\n",
    "\n",
    "print(float1+float2)  # add\n",
    "print(float1-float2) # subtract\n",
    "print(float1*float2) # multiply\n",
    "print(float1/float2) # divide\n",
    "print(float1**float2) # exponent"
   ]
  },
  {
   "cell_type": "code",
   "execution_count": 20,
   "metadata": {},
   "outputs": [
    {
     "name": "stdout",
     "output_type": "stream",
     "text": [
      "10\n",
      "13.0\n"
     ]
    }
   ],
   "source": [
    "# When we combine floats and ints in arithmetic expressions, the result is always a float.\n",
    "\n",
    "x = 5\n",
    "y = 8.0\n",
    "\n",
    "print(x+x)\n",
    "print(x+y)"
   ]
  },
  {
   "cell_type": "code",
   "execution_count": 19,
   "metadata": {},
   "outputs": [
    {
     "name": "stdout",
     "output_type": "stream",
     "text": [
      "15\n",
      "7.0\n"
     ]
    }
   ],
   "source": [
    "# We can, however, use the int() and float() functions to \"cast\" ints to floats and vice-versa.\n",
    "# Note that casting a float to an int always rounds down.\n",
    "\n",
    "print(int(15.9))\n",
    "print(float(7))"
   ]
  },
  {
   "cell_type": "code",
   "execution_count": 39,
   "metadata": {},
   "outputs": [
    {
     "name": "stdout",
     "output_type": "stream",
     "text": [
      "5\n",
      "5.0\n"
     ]
    }
   ],
   "source": [
    "# We can also cast strings (if they happen to be numbers) to int and float types.\n",
    "\n",
    "print(int(\"5\"))\n",
    "print(float(\"5\"))"
   ]
  },
  {
   "cell_type": "markdown",
   "metadata": {},
   "source": [
    "## *Strings and lists*"
   ]
  },
  {
   "cell_type": "code",
   "execution_count": 180,
   "metadata": {},
   "outputs": [
    {
     "name": "stdout",
     "output_type": "stream",
     "text": [
      "Hello Jupyter!\n"
     ]
    }
   ],
   "source": [
    "# Now try using the \"+\" operator on two strings.\n",
    "\n",
    "zyx = 'Hello'\n",
    "\n",
    "print(zyx + \" Jupyter!\")\n",
    "\n",
    "# Note that we've used \"+\" for two different purposes so far: adding numbers as well as \n",
    "# combining, or concatenating, strings. In the parlance of CS, \"+\" is an \"overloaded\" operator."
   ]
  },
  {
   "cell_type": "code",
   "execution_count": 30,
   "metadata": {},
   "outputs": [
    {
     "name": "stdout",
     "output_type": "stream",
     "text": [
      "This is a string that's got an apostrophe in it.\n"
     ]
    }
   ],
   "source": [
    "# In the cell above we enclosed one string in single quotes and put the other in double quotes.\n",
    "# Either is fine; whichever you choose is up to you. But if your string contains a single quote \n",
    "# character, you'll need to enclose it in double quotes.\n",
    "\n",
    "print(\"This is a string that's got an apostrophe in it.\")"
   ]
  },
  {
   "cell_type": "code",
   "execution_count": 79,
   "metadata": {},
   "outputs": [
    {
     "name": "stdout",
     "output_type": "stream",
     "text": [
      "Fleas and lice\n",
      "a horse pissing\n",
      "next to my pillow\n"
     ]
    }
   ],
   "source": [
    "# If you're working with a string that contains double quotes and/or line breaks, use triple \n",
    "# quotes instead (three single quotes in a row).\n",
    "\n",
    "print('''Fleas and lice\n",
    "a horse pissing\n",
    "next to my pillow''')\n",
    "\n",
    "# (the best Bashō poem, translated by David Young)"
   ]
  },
  {
   "cell_type": "code",
   "execution_count": 113,
   "metadata": {},
   "outputs": [
    {
     "name": "stdout",
     "output_type": "stream",
     "text": [
      "11, OSullivan-Maggie, 10, Lottery-&-Requiem, States-of-Emergency, Rockdrill-11, 05.mp3\n"
     ]
    }
   ],
   "source": [
    "# The replace() function replaces a character or series of characters with another.\n",
    "\n",
    "filename = \"11_OSullivan-Maggie_10_Lottery-&-Requiem_States-of-Emergency_Rockdrill-11_05.mp3\"\n",
    "\n",
    "print(filename.replace(\"_\",\", \"))"
   ]
  },
  {
   "cell_type": "code",
   "execution_count": 116,
   "metadata": {},
   "outputs": [
    {
     "name": "stdout",
     "output_type": "stream",
     "text": [
      "11, OSullivan-Maggie, 10, Lottery-&-Requiem, States-of-Emergency, Rockdrill-11, 05\n"
     ]
    }
   ],
   "source": [
    "# And you can chain replace() together to make multiple replacements.\n",
    "\n",
    "filename = \"11_OSullivan-Maggie_10_Lottery-&-Requiem_States-of-Emergency_Rockdrill-11_05.mp3\"\n",
    "\n",
    "print(filename.replace(\"_\",\", \").replace(\".mp3\",\"\"))"
   ]
  },
  {
   "cell_type": "code",
   "execution_count": 127,
   "metadata": {},
   "outputs": [
    {
     "name": "stdout",
     "output_type": "stream",
     "text": [
      "['11', 'OSullivan-Maggie', '10', 'Lottery-&-Requiem', 'States-of-Emergency', 'Rockdrill-11', '05.mp3']\n"
     ]
    }
   ],
   "source": [
    "# Use the split() function to divide a string into a list using a specified delimiter.\n",
    "\n",
    "filename = \"11_OSullivan-Maggie_10_Lottery-&-Requiem_States-of-Emergency_Rockdrill-11_05.mp3\"\n",
    "\n",
    "fields = filename.split(\"_\")\n",
    "\n",
    "print(fields)"
   ]
  },
  {
   "cell_type": "code",
   "execution_count": 126,
   "metadata": {},
   "outputs": [
    {
     "name": "stdout",
     "output_type": "stream",
     "text": [
      "11 | OSullivan-Maggie | 10 | Lottery-&-Requiem | States-of-Emergency | Rockdrill-11 | 05.mp3\n"
     ]
    }
   ],
   "source": [
    "# join() is the exact opposite of split().\n",
    "\n",
    "fields = ['11', 'OSullivan-Maggie', '10', 'Lottery-&-Requiem', 'States-of-Emergency', 'Rockdrill-11', '05.mp3']\n",
    "\n",
    "joined_sentence = \" | \".join(fields)\n",
    "\n",
    "print(joined_sentence)"
   ]
  },
  {
   "cell_type": "code",
   "execution_count": 120,
   "metadata": {
    "collapsed": true
   },
   "outputs": [],
   "source": [
    "## Can you do a better job of parsing the filename above?\n",
    "\n",
    "\n",
    "\n"
   ]
  },
  {
   "cell_type": "code",
   "execution_count": 121,
   "metadata": {},
   "outputs": [
    {
     "name": "stdout",
     "output_type": "stream",
     "text": [
      "['Austria', 'Belgium', 'Bulgaria', 'Croatia', 'Republic of Cyprus', 'Czech Republic', 'Denmark', 'Estonia', 'Finland', 'France', 'Germany', 'Greece', 'Hungary', 'Ireland', 'Italy', 'Latvia', 'Lithuania', 'Luxembourg', 'Malta', 'Netherlands', 'Poland', 'Portugal', 'Romania', 'Slovakia', 'Slovenia', 'Spain', 'Sweden', 'UK']\n"
     ]
    }
   ],
   "source": [
    "# There are a few ways to represent an ordered sequence of items in Python, but \n",
    "# we’ll be using lists most frequently.\n",
    "\n",
    "eu_countries=['Austria', 'Belgium', 'Bulgaria', 'Croatia', 'Republic of Cyprus', 'Czech Republic', 'Denmark', 'Estonia', 'Finland', 'France', 'Germany', 'Greece', 'Hungary', 'Ireland', 'Italy', 'Latvia', 'Lithuania', 'Luxembourg', 'Malta', 'Netherlands', 'Poland', 'Portugal', 'Romania', 'Slovakia', 'Slovenia', 'Spain', 'Sweden', 'UK']\n",
    "\n",
    "print(eu_countries)"
   ]
  },
  {
   "cell_type": "code",
   "execution_count": 122,
   "metadata": {},
   "outputs": [
    {
     "data": {
      "text/plain": [
       "'Croatia'"
      ]
     },
     "execution_count": 122,
     "metadata": {},
     "output_type": "execute_result"
    }
   ],
   "source": [
    "# We can refer to individual list members using bracket notation. As in most programming \n",
    "# languages, we begin counting from 0 when working with ordered data — so list index 3\n",
    "# is actually the fourth item in the list.\n",
    "\n",
    "eu_countries[3]"
   ]
  },
  {
   "cell_type": "code",
   "execution_count": 123,
   "metadata": {},
   "outputs": [
    {
     "ename": "IndexError",
     "evalue": "list index out of range",
     "output_type": "error",
     "traceback": [
      "\u001b[0;31m---------------------------------------------------------------------------\u001b[0m",
      "\u001b[0;31mIndexError\u001b[0m                                Traceback (most recent call last)",
      "\u001b[0;32m<ipython-input-123-b5e107cc2b6b>\u001b[0m in \u001b[0;36m<module>\u001b[0;34m()\u001b[0m\n\u001b[1;32m      1\u001b[0m \u001b[0;31m# If you try to access an out-of-range index value, you’ll get an error.\u001b[0m\u001b[0;34m\u001b[0m\u001b[0;34m\u001b[0m\u001b[0m\n\u001b[1;32m      2\u001b[0m \u001b[0;34m\u001b[0m\u001b[0m\n\u001b[0;32m----> 3\u001b[0;31m \u001b[0meu_countries\u001b[0m\u001b[0;34m[\u001b[0m\u001b[0;36m99\u001b[0m\u001b[0;34m]\u001b[0m\u001b[0;34m\u001b[0m\u001b[0m\n\u001b[0m",
      "\u001b[0;31mIndexError\u001b[0m: list index out of range"
     ]
    }
   ],
   "source": [
    "# If you try to access an out-of-range index value, you’ll get an error.\n",
    "\n",
    "eu_countries[99]"
   ]
  },
  {
   "cell_type": "code",
   "execution_count": 42,
   "metadata": {},
   "outputs": [
    {
     "name": "stdout",
     "output_type": "stream",
     "text": [
      "['Croatia', 'Republic of Cyprus', 'Czech Republic', 'Denmark']\n"
     ]
    }
   ],
   "source": [
    "# We can also create a subset of a list using Python’s slice notation.\n",
    "\n",
    "eu_countries[3:7]"
   ]
  },
  {
   "cell_type": "code",
   "execution_count": 43,
   "metadata": {},
   "outputs": [
    {
     "name": "stdout",
     "output_type": "stream",
     "text": [
      "['Denmark', 'Estonia', 'Finland', 'France', 'Germany', 'Greece', 'Hungary', 'Ireland', 'Italy', 'Latvia', 'Lithuania', 'Luxembourg', 'Malta', 'Netherlands', 'Poland', 'Portugal', 'Romania', 'Slovakia', 'Slovenia', 'Spain', 'Sweden', 'UK']\n"
     ]
    }
   ],
   "source": [
    "eu_countries[6:]"
   ]
  },
  {
   "cell_type": "code",
   "execution_count": 48,
   "metadata": {},
   "outputs": [
    {
     "name": "stdout",
     "output_type": "stream",
     "text": [
      "['Austria', 'Belgium', 'Bulgaria', 'Croatia', 'Republic of Cyprus', 'Czech Republic', 'Denmark']\n"
     ]
    }
   ],
   "source": [
    "eu_countries[:7]"
   ]
  },
  {
   "cell_type": "code",
   "execution_count": 47,
   "metadata": {},
   "outputs": [
    {
     "name": "stdout",
     "output_type": "stream",
     "text": [
      "['Spain', 'Sweden', 'UK']\n"
     ]
    }
   ],
   "source": [
    "eu_countries[-3:]"
   ]
  },
  {
   "cell_type": "code",
   "execution_count": 50,
   "metadata": {},
   "outputs": [
    {
     "data": {
      "text/plain": [
       "28"
      ]
     },
     "execution_count": 50,
     "metadata": {},
     "output_type": "execute_result"
    }
   ],
   "source": [
    "# If we want to know the length of a list or string, the len() function can tell us.\n",
    "\n",
    "len(eu_countries)"
   ]
  },
  {
   "cell_type": "code",
   "execution_count": 132,
   "metadata": {},
   "outputs": [
    {
     "data": {
      "text/plain": [
       "True"
      ]
     },
     "execution_count": 132,
     "metadata": {},
     "output_type": "execute_result"
    }
   ],
   "source": [
    "# The \"in\" operator checks whether one string is a substring of another ...\n",
    "\n",
    "\"green\" in \"A green hunting cap squeezed the top of the fleshy balloon of a head.\""
   ]
  },
  {
   "cell_type": "code",
   "execution_count": 134,
   "metadata": {},
   "outputs": [
    {
     "name": "stdout",
     "output_type": "stream",
     "text": [
      "True\n",
      "False\n"
     ]
    }
   ],
   "source": [
    "# ... and whether a given value is included in a list.\n",
    "\n",
    "print(37 in [2, 3, 5, 7, 11, 13, 17, 19, 23, 29, 31, 37, 41, 43, 47, 53, 59])\n",
    "\n",
    "print(\"purple\" in [\"red\", \"green\", \"blue\"])"
   ]
  },
  {
   "cell_type": "code",
   "execution_count": 152,
   "metadata": {},
   "outputs": [
    {
     "name": "stdout",
     "output_type": "stream",
     "text": [
      "['Janice']\n"
     ]
    }
   ],
   "source": [
    "# Appending items to a list, beginning with an empty list\n",
    "\n",
    "names = []\n",
    "\n",
    "names.append('Janice')\n",
    "\n",
    "print(names)"
   ]
  },
  {
   "cell_type": "code",
   "execution_count": 153,
   "metadata": {},
   "outputs": [
    {
     "name": "stdout",
     "output_type": "stream",
     "text": [
      "['Janice', 'Jordan', 'Jonathan', 'Julie', 'Jill']\n"
     ]
    }
   ],
   "source": [
    "names.append('Jordan')\n",
    "names.append('Jonathan')\n",
    "names.append('Julie')\n",
    "names.append('Jill')\n",
    "\n",
    "print(names)"
   ]
  },
  {
   "cell_type": "code",
   "execution_count": 154,
   "metadata": {},
   "outputs": [
    {
     "name": "stdout",
     "output_type": "stream",
     "text": [
      "['Janice', 'Jordan', 'Jonathan', 'Julie', 'Jill', 99, 34, 54, 23, 11, 203]\n"
     ]
    }
   ],
   "source": [
    "# List concatenation\n",
    "\n",
    "numbers = [99,34,54,23,11,203]\n",
    "\n",
    "print(names + numbers)"
   ]
  },
  {
   "cell_type": "code",
   "execution_count": 155,
   "metadata": {},
   "outputs": [
    {
     "name": "stdout",
     "output_type": "stream",
     "text": [
      "['Janice', 'Jordan', 'Jonathan', 'Julie', 'Jill', 'Jim', 'Janette', 'Jerry', 'Heather']\n"
     ]
    }
   ],
   "source": [
    "# More list concatenation\n",
    "\n",
    "names += ['Jim','Janette','Jerry', 'Heather']\n",
    "\n",
    "print(names)"
   ]
  },
  {
   "cell_type": "code",
   "execution_count": 157,
   "metadata": {},
   "outputs": [
    {
     "name": "stdout",
     "output_type": "stream",
     "text": [
      "['Janice', 'Jordan', 'Jonathan', 'Julie', 'Jill', 'Jim', 'Janette', 'Jerry', 'Heather', [99, 34, 54, 23, 11, 203], [99, 34, 54, 23, 11, 203]]\n"
     ]
    }
   ],
   "source": [
    "# Note that append() is not the same as concatenation with \"+\"\n",
    "\n",
    "names.append(numbers)\n",
    "\n",
    "print(names)"
   ]
  },
  {
   "cell_type": "code",
   "execution_count": null,
   "metadata": {
    "collapsed": true
   },
   "outputs": [],
   "source": []
  },
  {
   "cell_type": "markdown",
   "metadata": {},
   "source": [
    "## *Comparison and conditionals*"
   ]
  },
  {
   "cell_type": "code",
   "execution_count": 64,
   "metadata": {},
   "outputs": [
    {
     "name": "stdout",
     "output_type": "stream",
     "text": [
      "True\n",
      "False\n",
      "True\n",
      "True\n"
     ]
    }
   ],
   "source": [
    "# We can check whether two values are the same with the comparison operator \"==\", which works \n",
    "# for strings as well as numbers.\n",
    "\n",
    "number = 12\n",
    "word = \"giraffe\"\n",
    "\n",
    "print(number==12)\n",
    "print(number==13)\n",
    "print(word == \"giraffe\")"
   ]
  },
  {
   "cell_type": "code",
   "execution_count": 60,
   "metadata": {},
   "outputs": [
    {
     "name": "stdout",
     "output_type": "stream",
     "text": [
      "False\n",
      "True\n",
      "True\n"
     ]
    }
   ],
   "source": [
    "# The \"!=\" operator asks whether two values are different.\n",
    "\n",
    "print(number!=12)\n",
    "print(number!=13)\n",
    "print(word!=\"pineapple\")"
   ]
  },
  {
   "cell_type": "code",
   "execution_count": 66,
   "metadata": {},
   "outputs": [
    {
     "name": "stdout",
     "output_type": "stream",
     "text": [
      "True\n",
      "False\n"
     ]
    }
   ],
   "source": [
    "# True and False are known as boolean values, which together comprise their own data type.\n",
    "\n",
    "print(True==True)\n",
    "print(True==False)"
   ]
  },
  {
   "cell_type": "code",
   "execution_count": 67,
   "metadata": {},
   "outputs": [
    {
     "name": "stdout",
     "output_type": "stream",
     "text": [
      "The value is equal to 12.\n"
     ]
    }
   ],
   "source": [
    "# Conditional statements are a fundamental part of all programming languages. \n",
    "# We use the \"if\" operator to make something happen if a boolean expression is equal to True.\n",
    "\n",
    "number=12\n",
    "\n",
    "if number==12:\n",
    "    print(\"The value is equal to 12.\")"
   ]
  },
  {
   "cell_type": "code",
   "execution_count": 68,
   "metadata": {},
   "outputs": [
    {
     "name": "stdout",
     "output_type": "stream",
     "text": [
      "The value is not equal to 12.\n"
     ]
    }
   ],
   "source": [
    "number=11\n",
    "\n",
    "if number!=12:\n",
    "    print(\"The value is not equal to 12.\")"
   ]
  },
  {
   "cell_type": "code",
   "execution_count": null,
   "metadata": {
    "collapsed": true
   },
   "outputs": [],
   "source": [
    "# By adding \"else\" below \"if,\" we can tell Python to do something if the boolean expression\n",
    "# is not equal to True.\n",
    "\n",
    "number=10\n",
    "\n",
    "if number==12:\n",
    "    print(\"The value is equal to 12.\")\n",
    "else:\n",
    "    print(\"The value is not equal to 12.\")"
   ]
  },
  {
   "cell_type": "markdown",
   "metadata": {},
   "source": [
    "## *Loops and functions*"
   ]
  },
  {
   "cell_type": "code",
   "execution_count": 70,
   "metadata": {},
   "outputs": [
    {
     "name": "stdout",
     "output_type": "stream",
     "text": [
      "Austria is great.\n",
      "Belgium is great.\n",
      "Bulgaria is great.\n",
      "Croatia is great.\n",
      "Republic of Cyprus is great.\n",
      "Czech Republic is great.\n",
      "Denmark is great.\n",
      "Estonia is great.\n",
      "Finland is great.\n",
      "France is great.\n",
      "Germany is great.\n",
      "Greece is great.\n",
      "Hungary is great.\n",
      "Ireland is great.\n",
      "Italy is great.\n",
      "Latvia is great.\n",
      "Lithuania is great.\n",
      "Luxembourg is great.\n",
      "Malta is great.\n",
      "Netherlands is great.\n",
      "Poland is great.\n",
      "Portugal is great.\n",
      "Romania is great.\n",
      "Slovakia is great.\n",
      "Slovenia is great.\n",
      "Spain is great.\n",
      "Sweden is great.\n",
      "UK is great.\n"
     ]
    }
   ],
   "source": [
    "# A \"for loop\" is a structure that lets us iterate through lists and related data structures \n",
    "# so we can do something with each item one at a time.\n",
    "\n",
    "for country in eu_countries:\n",
    "    print(country + ' is great.')"
   ]
  },
  {
   "cell_type": "code",
   "execution_count": 71,
   "metadata": {},
   "outputs": [
    {
     "name": "stdout",
     "output_type": "stream",
     "text": [
      "Austria is great.\n",
      "Belgium is great.\n",
      "Bulgaria is great.\n",
      "Croatia is great.\n",
      "Republic of Cyprus is great.\n",
      "Czech Republic is great.\n",
      "Denmark is great.\n",
      "Estonia is great.\n",
      "Finland is great.\n",
      "France is great.\n",
      "Germany is great.\n",
      "Greece is great.\n",
      "Hungary is great.\n",
      "Ireland is great.\n",
      "Italy is great.\n",
      "Latvia is great.\n",
      "Lithuania is great.\n",
      "Luxembourg is great.\n",
      "Malta is great.\n",
      "Netherlands is great.\n",
      "Poland is great.\n",
      "Portugal is great.\n",
      "Romania is great.\n",
      "Slovakia is great.\n",
      "Slovenia is great.\n",
      "Spain is great.\n",
      "Sweden is great.\n",
      "UK is great.\n"
     ]
    }
   ],
   "source": [
    "# We can create functions to automate processes we want to repeat. Use the \"def\" declaration \n",
    "# to begin a function definition. The code below will produce the same output as the last example.\n",
    "\n",
    "def is_great(word):\n",
    "    return word + ' is great.'\n",
    "\n",
    "for country in eu_countries:\n",
    "    print(is_great(country))"
   ]
  },
  {
   "cell_type": "markdown",
   "metadata": {},
   "source": [
    "## *Navigating the file system*"
   ]
  },
  {
   "cell_type": "code",
   "execution_count": 72,
   "metadata": {},
   "outputs": [
    {
     "data": {
      "text/plain": [
       "'/home/sharedfolder/HILT-Audio-ML/Day_1'"
      ]
     },
     "execution_count": 72,
     "metadata": {},
     "output_type": "execute_result"
    }
   ],
   "source": [
    "# This cell imports the 'os' package (which stands for \"operating system\"),\n",
    "# then prints the current working directory, just like \"ls\" does in Bash.\n",
    "\n",
    "import os\n",
    "\n",
    "os.getcwd()"
   ]
  },
  {
   "cell_type": "code",
   "execution_count": 74,
   "metadata": {},
   "outputs": [
    {
     "data": {
      "text/plain": [
       "'/'"
      ]
     },
     "execution_count": 74,
     "metadata": {},
     "output_type": "execute_result"
    }
   ],
   "source": [
    "# Just like \"cd\" in Bash, os.chdir() changes the working directory.\n",
    "\n",
    "os.chdir(\"/\")\n",
    "\n",
    "os.getcwd()"
   ]
  },
  {
   "cell_type": "code",
   "execution_count": 75,
   "metadata": {},
   "outputs": [
    {
     "name": "stdout",
     "output_type": "stream",
     "text": [
      "['usr', 'var', 'tmp', 'root', 'dev', 'etc', '.dockerenv', 'home', 'opt', 'bin', 'lib', 'run', 'sbin', 'srv', 'mnt', 'lib64', 'proc', 'sys', 'boot', 'media']\n"
     ]
    }
   ],
   "source": [
    "# Use os.listdir() with any directory pathname as an argument, and it will return a \n",
    "# list of all the files in that directory. As in Bash, \"./\" refers to the current working directory.\n",
    "\n",
    "filenames = os.listdir(\"./\")\n",
    "\n",
    "print(filenames)"
   ]
  },
  {
   "cell_type": "code",
   "execution_count": 167,
   "metadata": {},
   "outputs": [
    {
     "name": "stdout",
     "output_type": "stream",
     "text": [
      "['01_sine_440.wav', '02_CBD-440607_NBC1600-MaryNobleBackstageWife_chime.wav', '03_357305__mtg__clarinet-f-major.wav', '04_brassproject_patteson.mp3', '05_Ravel_Bolero_Andre_Rieu.mp3', '06_Amen_Break_-_normal_fast_and_slow_version-qwQLk7NcpO4.wav', '07_acoustic-kick.wav', '08_Spinee_-_Save_Me-157140751.mp3', '09_Creeley-Robert_23_The-Warning_Chicago_5-15-61.wav', '10_Creeley_Company_supercut.mp3', '11_OSullivan-Maggie_10_Lottery-&-Requiem_States-of-Emergency_Rockdrill-11_05.mp3', '12_Mi-Kim-Myung_The-Oceans-Held-Up-a-Snarling-Dog_Segue-ZINC_2-20-16.mp3', '13_Myles_-_Philly_ICA_-_2010_-_interstitial.mp3', '14_CBD-440606_NBC0500-News.annotations.csv', '14_CBD-440606_NBC0500-News.mp3', '15_square_150.wav']\n"
     ]
    }
   ],
   "source": [
    "# Now let's rename some files. First we'll change our working directory to \n",
    "# \"sample_audio,\" then create a list of filenames in the directory.\n",
    "\n",
    "os.chdir('/home/sharedfolder/sample_audio')\n",
    "\n",
    "filenames = os.listdir('./')\n",
    "\n",
    "print(filenames)"
   ]
  },
  {
   "cell_type": "code",
   "execution_count": 169,
   "metadata": {},
   "outputs": [
    {
     "name": "stdout",
     "output_type": "stream",
     "text": [
      "['01_sine_440.wav',\n",
      " '02_CBD-440607_NBC1600-MaryNobleBackstageWife_chime.wav',\n",
      " '03_357305__mtg__clarinet-f-major.wav',\n",
      " '04_brassproject_patteson.mp3',\n",
      " '05_Ravel_Bolero_Andre_Rieu.mp3',\n",
      " '06_Amen_Break_-_normal_fast_and_slow_version-qwQLk7NcpO4.wav',\n",
      " '07_acoustic-kick.wav',\n",
      " '08_Spinee_-_Save_Me-157140751.mp3',\n",
      " '09_Creeley-Robert_23_The-Warning_Chicago_5-15-61.wav',\n",
      " '10_Creeley_Company_supercut.mp3',\n",
      " '11_OSullivan-Maggie_10_Lottery-&-Requiem_States-of-Emergency_Rockdrill-11_05.mp3',\n",
      " '12_Mi-Kim-Myung_The-Oceans-Held-Up-a-Snarling-Dog_Segue-ZINC_2-20-16.mp3',\n",
      " '13_Myles_-_Philly_ICA_-_2010_-_interstitial.mp3',\n",
      " '14_CBD-440606_NBC0500-News.annotations.csv',\n",
      " '14_CBD-440606_NBC0500-News.mp3',\n",
      " '15_square_150.wav']\n"
     ]
    }
   ],
   "source": [
    "# The pprint module, short for \"prettyprint,\" can help make lists more readable.\n",
    "\n",
    "from pprint import pprint\n",
    "\n",
    "pprint(filenames)"
   ]
  },
  {
   "cell_type": "code",
   "execution_count": 170,
   "metadata": {},
   "outputs": [
    {
     "name": "stdout",
     "output_type": "stream",
     "text": [
      "['01_sine_440.wav',\n",
      " '02_CBD-440607_NBC1600-MaryNobleBackstageWife_chime.wav',\n",
      " '03_357305__mtg__clarinet-f-major.wav',\n",
      " '04_brassproject_patteson.mp3',\n",
      " '05_Ravel_Bolero_Andre_Rieu.mp3',\n",
      " '06_Amen_Break_-_normal_fast_and_slow_version-qwQLk7NcpO4.wav',\n",
      " '07_acoustic-kick.wav',\n",
      " '08_Spinee_-_Save_Me-157140751.mp3',\n",
      " '09_Creeley-Robert_23_The-Warning_Chicago_5-15-61.wav',\n",
      " '10_Creeley_Company_supercut.mp3',\n",
      " '11_OSullivan-Maggie_10_Lottery-&-Requiem_States-of-Emergency_Rockdrill-11_05.mp3',\n",
      " '12_Mi-Kim-Myung_The-Oceans-Held-Up-a-Snarling-Dog_Segue-ZINC_2-20-16.mp3',\n",
      " '13_Myles_-_Philly_ICA_-_2010_-_interstitial.mp3',\n",
      " '14_CBD-440606_NBC0500-News.annotations.csv',\n",
      " '14_CBD-440606_NBC0500-News.mp3',\n",
      " '15_square_150.wav']\n"
     ]
    }
   ],
   "source": [
    "# Now we'll use os.rename() to replace spaces with underscores in our audio files.\n",
    "\n",
    "filenames = os.listdir('./')\n",
    "\n",
    "for filename in filenames:\n",
    "    os.rename(filename, filename.replace(' ','_'))\n",
    "\n",
    "pprint(os.listdir('./'))"
   ]
  },
  {
   "cell_type": "markdown",
   "metadata": {},
   "source": [
    "## *List comprehensions*"
   ]
  },
  {
   "cell_type": "code",
   "execution_count": 174,
   "metadata": {},
   "outputs": [
    {
     "name": "stdout",
     "output_type": "stream",
     "text": [
      "['01_sine_440',\n",
      " '02_CBD-440607_NBC1600-MaryNobleBackstageWife_chime',\n",
      " '03_357305__mtg__clarinet-f-major',\n",
      " '04_brassproject_patteson',\n",
      " '05_Ravel_Bolero_Andre_Rieu',\n",
      " '06_Amen_Break_-_normal_fast_and_slow_version-qwQLk7NcpO4',\n",
      " '07_acoustic-kick',\n",
      " '08_Spinee_-_Save_Me-157140751',\n",
      " '09_Creeley-Robert_23_The-Warning_Chicago_5-15-61',\n",
      " '10_Creeley_Company_supercut',\n",
      " '11_OSullivan-Maggie_10_Lottery-&-Requiem_States-of-Emergency_Rockdrill-11_05',\n",
      " '12_Mi-Kim-Myung_The-Oceans-Held-Up-a-Snarling-Dog_Segue-ZINC_2-20-16',\n",
      " '13_Myles_-_Philly_ICA_-_2010_-_interstitial',\n",
      " '14_CBD-440606_NBC0500-News.annotations',\n",
      " '14_CBD-440606_NBC0500-News',\n",
      " '15_square_150']\n"
     ]
    }
   ],
   "source": [
    "# Python's \"list comprehension\" feature makes it possible to filter and transform \n",
    "# lists in a single line of code. Here we create a list of basenames, i.e. filenames  \n",
    "# with their extnsions removed.\n",
    "\n",
    "filenames = os.listdir('./')\n",
    "\n",
    "basenames = [item.replace('.mp3','').replace('.wav','').replace('.csv','') for item in filenames]\n",
    "\n",
    "pprint(basenames)"
   ]
  },
  {
   "cell_type": "code",
   "execution_count": null,
   "metadata": {
    "collapsed": true
   },
   "outputs": [],
   "source": [
    "# If our goal is to extract a list of basenames from a large, heterogeneous set \n",
    "# of files, how might the method used above lead us astray? \n",
    "\n",
    "# Any ideas on how  we might do better?"
   ]
  },
  {
   "cell_type": "code",
   "execution_count": 177,
   "metadata": {},
   "outputs": [
    {
     "name": "stdout",
     "output_type": "stream",
     "text": [
      "['04_brassproject_patteson',\n",
      " '05_Ravel_Bolero_Andre_Rieu',\n",
      " '08_Spinee_-_Save_Me-157140751',\n",
      " '10_Creeley_Company_supercut',\n",
      " '11_OSullivan-Maggie_10_Lottery-&-Requiem_States-of-Emergency_Rockdrill-11_05',\n",
      " '12_Mi-Kim-Myung_The-Oceans-Held-Up-a-Snarling-Dog_Segue-ZINC_2-20-16',\n",
      " '13_Myles_-_Philly_ICA_-_2010_-_interstitial',\n",
      " '14_CBD-440606_NBC0500-News']\n"
     ]
    }
   ],
   "source": [
    "# We can also use list comprehensions to extract a subset of items based on a\n",
    "# conditional statement. Here we extract basenames from just the MP3s in our directory.\n",
    "\n",
    "filenames = os.listdir('./')\n",
    "\n",
    "mp3_basenames = [item.replace('.mp3','') for item in filenames if '.mp3' in item]\n",
    "\n",
    "pprint(mp3_basenames)"
   ]
  },
  {
   "cell_type": "code",
   "execution_count": null,
   "metadata": {
    "collapsed": true
   },
   "outputs": [],
   "source": [
    "# If we just want to filter items in a list without making any changes, \n",
    "# here's what that looks like.\n",
    "\n",
    "filenames = os.listdir('./')\n",
    "\n",
    "mp3_filenames = [item for item in filenames if '.mp3' in item]\n",
    "\n",
    "pprint(mp3_basenames)"
   ]
  },
  {
   "cell_type": "code",
   "execution_count": null,
   "metadata": {},
   "outputs": [],
   "source": [
    "# Since MP3 files in real-world collections might end in \".MP3\" or \".mp3\" or \n",
    "# perhaps \".Mp3,\" using lower() to convert the filename to lowercase in your \n",
    "# conditional statement is a good practice.\n",
    "\n",
    "filenames = os.listdir('./')\n",
    "\n",
    "mp3_filenames = [item for item in filenames if '.mp3' in item.lower()]\n",
    "\n",
    "pprint(mp3_basenames)"
   ]
  },
  {
   "cell_type": "code",
   "execution_count": 185,
   "metadata": {},
   "outputs": [
    {
     "name": "stdout",
     "output_type": "stream",
     "text": [
      "the oceans held up a snarling dog\n",
      "THE OCEANS HELD UP A SNARLING DOG\n",
      "The Oceans Held Up A Snarling Dog\n"
     ]
    }
   ],
   "source": [
    "# We can also convert strings to uppercase and title case like so:\n",
    "\n",
    "qrst = \"The oceans held up a snarling dog\"\n",
    "\n",
    "print(qrst.lower())\n",
    "print(qrst.upper())\n",
    "print(qrst.title())"
   ]
  },
  {
   "cell_type": "markdown",
   "metadata": {},
   "source": [
    "## *Reading and writing text files*"
   ]
  },
  {
   "cell_type": "code",
   "execution_count": 193,
   "metadata": {},
   "outputs": [
    {
     "data": {
      "text/plain": [
       "\"979.696326531,1,469.600362812,David Anderson report on the RAF\\n1875.853061224,1,96.391836735,First invasion announcement from Gen. Eisenhower's headquarters\\n2208.310566893,1,148.121632653,The Stars and Stripes Forever\\n\""
      ]
     },
     "execution_count": 193,
     "metadata": {},
     "output_type": "execute_result"
    }
   ],
   "source": [
    "# Here's the shortest format for reading a text file and assigning it to a string variable in Python.\n",
    "\n",
    "text = open(\"14_CBD-440606_NBC0500-News.annotations.csv\").read()\n",
    "\n",
    "text"
   ]
  },
  {
   "cell_type": "code",
   "execution_count": 199,
   "metadata": {},
   "outputs": [
    {
     "name": "stdout",
     "output_type": "stream",
     "text": [
      "['979.696326531,1,469.600362812,David Anderson report on the RAF',\n",
      " \"1875.853061224,1,96.391836735,First invasion announcement from Gen. Eisenhower's headquarters\",\n",
      " '2208.310566893,1,148.121632653,The Stars and Stripes Forever']\n"
     ]
    }
   ],
   "source": [
    "# More often, we'll want to import a text file as a list of lines, discarding newline characters.\n",
    "\n",
    "line_list=open(\"14_CBD-440606_NBC0500-News.annotations.csv\").read().splitlines()\n",
    "\n",
    "pprint(line_list)"
   ]
  },
  {
   "cell_type": "code",
   "execution_count": 200,
   "metadata": {
    "collapsed": true
   },
   "outputs": [],
   "source": [
    "# We can write string data to a new text file like so:\n",
    "\n",
    "with open(\"text_output_1.txt\",\"w\") as fo:\n",
    "    fo.write(\"This is the first line.\\n\")\n",
    "    fo.write(\"This is another second line.\")"
   ]
  },
  {
   "cell_type": "code",
   "execution_count": 201,
   "metadata": {},
   "outputs": [],
   "source": [
    "# Or like so, which writes each item in a list to a separate line.\n",
    "\n",
    "lines = [\"This\", \"is\", \"a\", \"list\", \"of\", \"lines.\"]\n",
    "\n",
    "with open(\"text_output_2.txt\",\"w\") as fo:\n",
    "    fo.writelines([item+'\\n' for item in lines])"
   ]
  },
  {
   "cell_type": "markdown",
   "metadata": {},
   "source": [
    "## *Executing Bash commands from within Python*\n",
    "\n",
    "While there are Python packages available for just about any task you can think of, the command-line programs we'd use in Bash are often much simpler to understand. And while Bash has its own powerful scripting syntax, Python scripts are often easier to write and more readable. Fortunately, we can get the best of both world by using Python to execute Bash commands."
   ]
  },
  {
   "cell_type": "code",
   "execution_count": 189,
   "metadata": {},
   "outputs": [
    {
     "data": {
      "text/plain": [
       "0"
      ]
     },
     "execution_count": 189,
     "metadata": {},
     "output_type": "execute_result"
    }
   ],
   "source": [
    "# os.system() executes a string argument as if you'd typed it directly into Bash. \n",
    "# This is fine for simple commands like this one, which creates a new directory \n",
    "# called \"new_directory.\"\n",
    "\n",
    "dir_name= \"new_directory\"\n",
    "\n",
    "os.system('mkdir ' + dir_name)"
   ]
  },
  {
   "cell_type": "code",
   "execution_count": 187,
   "metadata": {},
   "outputs": [
    {
     "name": "stdout",
     "output_type": "stream",
     "text": [
      "['http://media.sas.upenn.edu/pennsound/authors/Morris/Close-Lstening/Morris-Tracie_04_Discussion2_WPS1_NY_5-22-05.mp3',\n",
      " 'http://media.sas.upenn.edu/pennsound/authors/Morris/Close-Lstening/Morris-Tracie_05_Theres-Traces_WPS1_NY_5-22-05.mp3',\n",
      " 'http://media.sas.upenn.edu/pennsound/authors/Morris/Close-Lstening/Morris-Tracie_06_Physical-Plane_WPS1_NY_5-22-05.mp3']\n"
     ]
    }
   ],
   "source": [
    "# Recall, however, that Bash interprets every space that isn't escaped with a backslash \n",
    "# as a delimiter between arguments; it's possible to work around this contstraint by \n",
    "# adding double quotes around everything, but this usually results in jumbled code and \n",
    "# often creates unexpected results. Instead of pulling your hair out, you should use \n",
    "# subprocess.call() by default, which takes a list of arguments and executes them in \n",
    "# Bash while dealing with Bash's quirks.\n",
    "\n",
    "# As a simple example, let's download some files with wget. We'll start by creating a \n",
    "# list of URLs.\n",
    "\n",
    "# Note the backslash at the end of each line below, which tells Python to disregard the \n",
    "# line break. The result is more readable than using a single long line. \n",
    "\n",
    "urls = ['http://media.sas.upenn.edu/pennsound/authors/Morris/Close-Lstening/Morris-Tracie_04_Discussion2_WPS1_NY_5-22-05.mp3', \\\n",
    "        'http://media.sas.upenn.edu/pennsound/authors/Morris/Close-Lstening/Morris-Tracie_05_Theres-Traces_WPS1_NY_5-22-05.mp3', \\\n",
    "        'http://media.sas.upenn.edu/pennsound/authors/Morris/Close-Lstening/Morris-Tracie_06_Physical-Plane_WPS1_NY_5-22-05.mp3']\n",
    "\n",
    "pprint(urls)"
   ]
  },
  {
   "cell_type": "code",
   "execution_count": 188,
   "metadata": {},
   "outputs": [
    {
     "name": "stdout",
     "output_type": "stream",
     "text": [
      "['wget', 'http://media.sas.upenn.edu/pennsound/authors/Morris/Close-Lstening/Morris-Tracie_04_Discussion2_WPS1_NY_5-22-05.mp3']\n",
      "['wget', 'http://media.sas.upenn.edu/pennsound/authors/Morris/Close-Lstening/Morris-Tracie_05_Theres-Traces_WPS1_NY_5-22-05.mp3']\n",
      "['wget', 'http://media.sas.upenn.edu/pennsound/authors/Morris/Close-Lstening/Morris-Tracie_06_Physical-Plane_WPS1_NY_5-22-05.mp3']\n"
     ]
    }
   ],
   "source": [
    "# Now we'll import the subprocess package and execute our commands using a for loop.\n",
    "\n",
    "import subprocess\n",
    "\n",
    "for item in urls:\n",
    "    subprocess.call(['wget',item])"
   ]
  }
 ],
 "metadata": {
  "kernelspec": {
   "display_name": "Python 2",
   "language": "python",
   "name": "python2"
  },
  "language_info": {
   "codemirror_mode": {
    "name": "ipython",
    "version": 2
   },
   "file_extension": ".py",
   "mimetype": "text/x-python",
   "name": "python",
   "nbconvert_exporter": "python",
   "pygments_lexer": "ipython2",
   "version": "2.7.6"
  }
 },
 "nbformat": 4,
 "nbformat_minor": 2
}
