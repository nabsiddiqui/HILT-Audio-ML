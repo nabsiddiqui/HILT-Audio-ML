{
 "cells": [
  {
   "cell_type": "markdown",
   "metadata": {},
   "source": [
    "### Python Introduction\n",
    "\n",
    "Each box on this page is called a \"cell.\" Click in the cell below to highight it, then click the \"play\" button at the top of the window to run the code. Pressing `Shift+Return` while a cell is highlighted will also run a cell."
   ]
  },
  {
   "cell_type": "code",
   "execution_count": null,
   "metadata": {
    "collapsed": true
   },
   "outputs": [],
   "source": [
    "1+1"
   ]
  },
  {
   "cell_type": "code",
   "execution_count": null,
   "metadata": {
    "collapsed": true
   },
   "outputs": [],
   "source": [
    "print('1337 skillz')"
   ]
  },
  {
   "cell_type": "markdown",
   "metadata": {},
   "source": [
    "We’ll begin by assigning some data to variables."
   ]
  },
  {
   "cell_type": "code",
   "execution_count": null,
   "metadata": {
    "collapsed": true
   },
   "outputs": [],
   "source": [
    "x=5\n",
    "y=5.0\n",
    "z=\"Hello\"\n",
    "print(y)"
   ]
  },
  {
   "cell_type": "markdown",
   "metadata": {},
   "source": [
    "Note that `x+x` gives a result of 10, while `x+y` returns 10.0. That’s because 5 and 5.0 are different data types in Python. The former is an **int**, or integer, while the latter is a **float**, or floating point value.\n"
   ]
  },
  {
   "cell_type": "code",
   "execution_count": null,
   "metadata": {
    "collapsed": true
   },
   "outputs": [],
   "source": [
    "x+x"
   ]
  },
  {
   "cell_type": "code",
   "execution_count": null,
   "metadata": {
    "collapsed": true
   },
   "outputs": [],
   "source": [
    "x+y"
   ]
  },
  {
   "cell_type": "markdown",
   "metadata": {},
   "source": [
    "Now try using the `+` operator on two strings."
   ]
  },
  {
   "cell_type": "code",
   "execution_count": null,
   "metadata": {
    "collapsed": true
   },
   "outputs": [],
   "source": [
    "z + \" Jupyter\""
   ]
  },
  {
   "cell_type": "markdown",
   "metadata": {},
   "source": [
    "Note that `+` is used for two different purposes: adding numbers and concatenating strings. By the way, you can use single or double quotes to enclose string text in Python — or even triple quotes, if you're working with a string that contains double quotes and/or line breaks."
   ]
  },
  {
   "cell_type": "code",
   "execution_count": null,
   "metadata": {
    "collapsed": true
   },
   "outputs": [],
   "source": [
    "print('''Fleas and lice\n",
    "a horse pissing\n",
    "next to my pillow''')\n",
    "\n",
    "# Bashō, translated by David Young"
   ]
  },
  {
   "cell_type": "markdown",
   "metadata": {},
   "source": [
    "Next we’ll link a series of values using Python’s list data type. There several ways to represent an ordered sequence of items in Python, but we’ll be using list most frequently.\n"
   ]
  },
  {
   "cell_type": "code",
   "execution_count": null,
   "metadata": {},
   "outputs": [],
   "source": [
    "eu_countries=['Austria', 'Belgium', 'Bulgaria', 'Croatia', 'Republic of Cyprus', 'Czech Republic', 'Denmark', 'Estonia', 'Finland', 'France', 'Germany', 'Greece', 'Hungary', 'Ireland', 'Italy', 'Latvia', 'Lithuania', 'Luxembourg', 'Malta', 'Netherlands', 'Poland', 'Portugal', 'Romania', 'Slovakia', 'Slovenia', 'Spain', 'Sweden', 'UK']\n",
    "\n",
    "eu_countries"
   ]
  },
  {
   "cell_type": "markdown",
   "metadata": {},
   "source": [
    "We can refer to individual list members using bracket annotation. As in most programming languages, we begin counting from 0 when working with ordered data.\n"
   ]
  },
  {
   "cell_type": "code",
   "execution_count": null,
   "metadata": {},
   "outputs": [],
   "source": [
    "eu_countries[3]"
   ]
  },
  {
   "cell_type": "markdown",
   "metadata": {},
   "source": [
    "If you try to access an out-of-range index value, you’ll get an error."
   ]
  },
  {
   "cell_type": "code",
   "execution_count": null,
   "metadata": {},
   "outputs": [],
   "source": [
    "eu_countries[99]"
   ]
  },
  {
   "cell_type": "markdown",
   "metadata": {},
   "source": [
    "We can also create a subset of a list using Python’s slice notation."
   ]
  },
  {
   "cell_type": "code",
   "execution_count": null,
   "metadata": {},
   "outputs": [],
   "source": [
    "print(eu_countries[3:7])"
   ]
  },
  {
   "cell_type": "code",
   "execution_count": null,
   "metadata": {},
   "outputs": [],
   "source": [
    "print(eu_countries[6:])"
   ]
  },
  {
   "cell_type": "code",
   "execution_count": null,
   "metadata": {},
   "outputs": [],
   "source": [
    "print(eu_countries[:8])"
   ]
  },
  {
   "cell_type": "code",
   "execution_count": null,
   "metadata": {},
   "outputs": [],
   "source": [
    "print(eu_countries[-5:])"
   ]
  },
  {
   "cell_type": "markdown",
   "metadata": {},
   "source": [
    "If we want to know the length of a list or string, the `len` function can tell us."
   ]
  },
  {
   "cell_type": "code",
   "execution_count": null,
   "metadata": {},
   "outputs": [],
   "source": [
    "len(eu_countries)"
   ]
  },
  {
   "cell_type": "markdown",
   "metadata": {},
   "source": [
    "\n",
    "Conditional statements are a fundamental part of all programming languages. We use the `if` operator to evaluate conditionals.\n"
   ]
  },
  {
   "cell_type": "code",
   "execution_count": null,
   "metadata": {},
   "outputs": [],
   "source": [
    "number=12\n",
    "\n",
    "if number==12:\n",
    "    print(\"The value is equal to 12.\")"
   ]
  },
  {
   "cell_type": "code",
   "execution_count": null,
   "metadata": {},
   "outputs": [],
   "source": [
    "number=11\n",
    "\n",
    "if number!=12:\n",
    "    print(\"The value is not equal to 12.\")"
   ]
  },
  {
   "cell_type": "markdown",
   "metadata": {},
   "source": [
    "By adding `else`, we can tell Python to do something if the conditional isn’t true.\n"
   ]
  },
  {
   "cell_type": "code",
   "execution_count": null,
   "metadata": {},
   "outputs": [],
   "source": [
    "number=10\n",
    "\n",
    "if number==12:\n",
    "    print(\"The value is equal to 12.\")\n",
    "else:\n",
    "    print(\"The value is not equal to 12.\")"
   ]
  },
  {
   "cell_type": "markdown",
   "metadata": {},
   "source": [
    "A **for loop** is a structure that lets us iterate through lists and other data structures so we can refer to each item one at a time.\n"
   ]
  },
  {
   "cell_type": "code",
   "execution_count": null,
   "metadata": {},
   "outputs": [],
   "source": [
    "for country in eu_countries:\n",
    "    print(country + ' is great.')"
   ]
  },
  {
   "cell_type": "markdown",
   "metadata": {},
   "source": [
    "Finally, we can create functions to automate repetitive processes. Use the `def` declaration to start s function definition. The code below will produce the same output as the last example."
   ]
  },
  {
   "cell_type": "code",
   "execution_count": null,
   "metadata": {},
   "outputs": [],
   "source": [
    "def is_great(word):\n",
    "    return word + ' is great.'\n",
    "\n",
    "for country in eu_countries:\n",
    "    print(is_great(country))"
   ]
  },
  {
   "cell_type": "markdown",
   "metadata": {},
   "source": [
    "In this case we're not saving much effort, but as we proceed you’ll find that functions will help you write simpler, more readable code."
   ]
  },
  {
   "cell_type": "code",
   "execution_count": null,
   "metadata": {},
   "outputs": [],
   "source": [
    "# This cell imports the 'os' package, then prints the current directory.\n",
    "\n",
    "import os\n",
    "\n",
    "os.getcwd()"
   ]
  },
  {
   "cell_type": "code",
   "execution_count": null,
   "metadata": {},
   "outputs": [],
   "source": [
    "os.chdir(\"/\")\n",
    "\n",
    "os.getcwd()"
   ]
  },
  {
   "cell_type": "code",
   "execution_count": null,
   "metadata": {},
   "outputs": [],
   "source": [
    "filenames = os.listdir(\"./\")\n",
    "\n",
    "print(filenames)"
   ]
  },
  {
   "cell_type": "markdown",
   "metadata": {},
   "source": [
    "### More syntax basics"
   ]
  },
  {
   "cell_type": "code",
   "execution_count": null,
   "metadata": {},
   "outputs": [],
   "source": [
    "## String concatenation\n",
    "\n",
    "print(\"Hello Jupyter!\")\n",
    "print(\"Hello\" + \" Jupyter!\")"
   ]
  },
  {
   "cell_type": "code",
   "execution_count": null,
   "metadata": {},
   "outputs": [],
   "source": [
    "### Integer Arithmetic\n",
    "\n",
    "int1=1000\n",
    "int2=15\n",
    "\n",
    "print(int1+int2) # add\n",
    "print(int1-int2) # subtract\n",
    "print(int1*int2) # multiply\n",
    "print(int1/int2) # divide\n",
    "print(float1**float2) # exponent"
   ]
  },
  {
   "cell_type": "code",
   "execution_count": null,
   "metadata": {},
   "outputs": [],
   "source": [
    "### Floating Point Arithmetic\n",
    "\n",
    "float1=1000.0\n",
    "float2=15.5\n",
    "\n",
    "print(float1+float2) # add\n",
    "print(float1-float2) # subtract\n",
    "print(float1*float2) # multiply\n",
    "print(float1/float2) # divide\n",
    "print(float1**float2) # exponent"
   ]
  },
  {
   "cell_type": "code",
   "execution_count": null,
   "metadata": {},
   "outputs": [],
   "source": [
    "# The pprint module shows us the list above in a more readable format.\n",
    "\n",
    "from pprint import pprint\n",
    "\n",
    "pprint(filenames)"
   ]
  },
  {
   "cell_type": "markdown",
   "metadata": {},
   "source": [
    "Incidentally, lines beginning with '!' in Jupyter are executed in Bash. This can be a handy shortcut while you work, but avoid using it in your final workflows."
   ]
  },
  {
   "cell_type": "code",
   "execution_count": null,
   "metadata": {},
   "outputs": [],
   "source": [
    "!ls"
   ]
  },
  {
   "cell_type": "code",
   "execution_count": null,
   "metadata": {},
   "outputs": [],
   "source": [
    "## Lists\n",
    "\n",
    "# String Manipulation\n",
    "## In which we split and reassemble a sentence.\n",
    "\n",
    "sentence = \"A green hunting cap squeezed the top of a fleshy balloon of a head.\"\n",
    "print(sentence)\n",
    "\n",
    "words = sentence.split(\" \")\n",
    "print(words)"
   ]
  },
  {
   "cell_type": "code",
   "execution_count": null,
   "metadata": {},
   "outputs": [],
   "source": [
    "joined_sentence = \"_\".join(words)\n",
    "print(joined_sentence)"
   ]
  },
  {
   "cell_type": "code",
   "execution_count": null,
   "metadata": {},
   "outputs": [],
   "source": [
    "# The 'replace()' function\n",
    "\n",
    "print(sentence.replace(\" \",\"_\"))"
   ]
  },
  {
   "cell_type": "code",
   "execution_count": null,
   "metadata": {},
   "outputs": [],
   "source": [
    "# Review: List slice notation\n",
    "\n",
    "print(len(words))\n",
    "print(words[4])\n",
    "print(words[2:5])\n",
    "print(words[2:])\n",
    "print(words[:2])\n",
    "print(words[-4])\n",
    "print(words[-4:])"
   ]
  },
  {
   "cell_type": "code",
   "execution_count": null,
   "metadata": {},
   "outputs": [],
   "source": [
    "# Appending items to a list\n",
    "\n",
    "names = []\n",
    "\n",
    "names.append('Janice')\n",
    "\n",
    "print(names)"
   ]
  },
  {
   "cell_type": "code",
   "execution_count": null,
   "metadata": {},
   "outputs": [],
   "source": [
    "names.append('Jordan')\n",
    "names.append('Jonathan')\n",
    "names.append('Julie')\n",
    "names.append('Jill')\n",
    "\n",
    "print(names)"
   ]
  },
  {
   "cell_type": "code",
   "execution_count": null,
   "metadata": {},
   "outputs": [],
   "source": [
    "# Lists concatenation\n",
    "\n",
    "numbers = [99,34,54,23,11,203]\n",
    "\n",
    "print(names + numbers)"
   ]
  },
  {
   "cell_type": "code",
   "execution_count": null,
   "metadata": {},
   "outputs": [],
   "source": [
    "# More list concatenation\n",
    "\n",
    "names += ['Jim','Janette','Jerry', 'Heather']\n",
    "\n",
    "print(names)"
   ]
  },
  {
   "cell_type": "code",
   "execution_count": null,
   "metadata": {},
   "outputs": [],
   "source": [
    "# Checking for inclusion in a list\n",
    "\n",
    "\"Jerry\" in names"
   ]
  },
  {
   "cell_type": "code",
   "execution_count": null,
   "metadata": {},
   "outputs": [],
   "source": [
    "\"Charles\" in names"
   ]
  },
  {
   "cell_type": "code",
   "execution_count": 4,
   "metadata": {
    "collapsed": true
   },
   "outputs": [],
   "source": [
    "###"
   ]
  },
  {
   "cell_type": "code",
   "execution_count": 8,
   "metadata": {},
   "outputs": [
    {
     "name": "stdout",
     "output_type": "stream",
     "text": [
      "['HILT_HILT_HILT_.DS_Store',\n",
      " 'HILT_HILT_HILT_01_sine_440.wav',\n",
      " 'HILT_HILT_HILT_02_CBD-440607_NBC1600-MaryNobleBackstageWife_chime.wav',\n",
      " 'HILT_HILT_HILT_03_357305__mtg__clarinet-f-major.wav',\n",
      " 'HILT_HILT_HILT_04_brassproject_patteson.mp3',\n",
      " 'HILT_HILT_HILT_04_brassproject_patteson.wav',\n",
      " 'HILT_HILT_HILT_05_Ravel_Bolero_Andre_Rieu.mp3',\n",
      " 'HILT_HILT_HILT_05_Ravel_Bolero_Andre_Rieu.wav',\n",
      " 'HILT_HILT_HILT_06_Amen_Break_-_normal_fast_and_slow_version-qwQLk7NcpO4.wav',\n",
      " 'HILT_HILT_HILT_07_acoustic-kick.wav',\n",
      " 'HILT_HILT_HILT_08_Spinee_-_Save_Me-157140751.mp3',\n",
      " 'HILT_HILT_HILT_09_Creeley-Robert_23_The-Warning_Chicago_5-15-61.wav',\n",
      " 'HILT_HILT_HILT_10_Creeley_Company_supercut.mp3',\n",
      " 'HILT_HILT_HILT_10_Creeley_Company_supercut.wav',\n",
      " 'HILT_HILT_HILT_11_OSullivan-Maggie_10_Lottery-&-Requiem_States-of-Emergency_Rockdrill-11_05.mp3',\n",
      " 'HILT_HILT_HILT_11_OSullivan-Maggie_10_Lottery-&-Requiem_States-of-Emergency_Rockdrill-11_05.wav',\n",
      " 'HILT_HILT_HILT_12_Mi-Kim-Myung_The-Oceans-Held-Up-a-Snarling-Dog_Segue-ZINC_2-20-16.mp3',\n",
      " 'HILT_HILT_HILT_12_Mi-Kim-Myung_The-Oceans-Held-Up-a-Snarling-Dog_Segue-ZINC_2-20-16.wav',\n",
      " 'HILT_HILT_HILT_13_Myles_-_Philly_ICA_-_2010_-_interstitial.mp3',\n",
      " 'HILT_HILT_HILT_14_CBD-440606_NBC0540-News.mp3',\n",
      " 'HILT_HILT_HILT_14_CBD-440606_NBC0540-News.wav',\n",
      " 'HILT_HILT_HILT_15_square_150.wav',\n",
      " 'HILT_HILT_HILT_audiofile.wav',\n",
      " 'HILT_HILT_HILT_index.html',\n",
      " 'HILT_HILT_HILT_robots.txt',\n",
      " 'HILT_HILT_HILT_Stockhausen-Karlheinz_Gruppen.mp3',\n",
      " 'HILT_HILT_HILT_ubu']\n"
     ]
    }
   ],
   "source": [
    "filenames = os.listdir('./')\n",
    "\n",
    "os.chdir('/home/sharedfolder/sample_audio')\n",
    "\n",
    "pprint(os.listdir('./'))"
   ]
  },
  {
   "cell_type": "code",
   "execution_count": 9,
   "metadata": {},
   "outputs": [
    {
     "name": "stdout",
     "output_type": "stream",
     "text": [
      "['HILT_HILT_HILT_.DS_Store',\n",
      " 'HILT_HILT_HILT_01_sine_440.wav',\n",
      " 'HILT_HILT_HILT_02_CBD-440607_NBC1600-MaryNobleBackstageWife_chime.wav',\n",
      " 'HILT_HILT_HILT_03_357305__mtg__clarinet-f-major.wav',\n",
      " 'HILT_HILT_HILT_04_brassproject_patteson.mp3',\n",
      " 'HILT_HILT_HILT_04_brassproject_patteson.wav',\n",
      " 'HILT_HILT_HILT_05_Ravel_Bolero_Andre_Rieu.mp3',\n",
      " 'HILT_HILT_HILT_05_Ravel_Bolero_Andre_Rieu.wav',\n",
      " 'HILT_HILT_HILT_06_Amen_Break_-_normal_fast_and_slow_version-qwQLk7NcpO4.wav',\n",
      " 'HILT_HILT_HILT_07_acoustic-kick.wav',\n",
      " 'HILT_HILT_HILT_08_Spinee_-_Save_Me-157140751.mp3',\n",
      " 'HILT_HILT_HILT_09_Creeley-Robert_23_The-Warning_Chicago_5-15-61.wav',\n",
      " 'HILT_HILT_HILT_10_Creeley_Company_supercut.mp3',\n",
      " 'HILT_HILT_HILT_10_Creeley_Company_supercut.wav',\n",
      " 'HILT_HILT_HILT_11_OSullivan-Maggie_10_Lottery-&-Requiem_States-of-Emergency_Rockdrill-11_05.mp3',\n",
      " 'HILT_HILT_HILT_11_OSullivan-Maggie_10_Lottery-&-Requiem_States-of-Emergency_Rockdrill-11_05.wav',\n",
      " 'HILT_HILT_HILT_12_Mi-Kim-Myung_The-Oceans-Held-Up-a-Snarling-Dog_Segue-ZINC_2-20-16.mp3',\n",
      " 'HILT_HILT_HILT_12_Mi-Kim-Myung_The-Oceans-Held-Up-a-Snarling-Dog_Segue-ZINC_2-20-16.wav',\n",
      " 'HILT_HILT_HILT_13_Myles_-_Philly_ICA_-_2010_-_interstitial.mp3',\n",
      " 'HILT_HILT_HILT_14_CBD-440606_NBC0540-News.mp3',\n",
      " 'HILT_HILT_HILT_14_CBD-440606_NBC0540-News.wav',\n",
      " 'HILT_HILT_HILT_15_square_150.wav',\n",
      " 'HILT_HILT_HILT_audiofile.wav',\n",
      " 'HILT_HILT_HILT_index.html',\n",
      " 'HILT_HILT_HILT_robots.txt',\n",
      " 'HILT_HILT_HILT_Stockhausen-Karlheinz_Gruppen.mp3',\n",
      " 'HILT_HILT_HILT_ubu']\n"
     ]
    }
   ],
   "source": [
    "filenames = os.listdir('./')\n",
    "\n",
    "for filename in filenames:\n",
    "    os.rename(filename, filename.replace(' ','_'))\n",
    "\n",
    "pprint(os.listdir('./'))"
   ]
  },
  {
   "cell_type": "code",
   "execution_count": 11,
   "metadata": {},
   "outputs": [
    {
     "name": "stdout",
     "output_type": "stream",
     "text": [
      "['HILT_HILT_HILT_HILT_HILT_.DS_Store',\n",
      " 'HILT_HILT_HILT_HILT_HILT_01_sine_440.wav',\n",
      " 'HILT_HILT_HILT_HILT_HILT_02_CBD-440607_NBC1600-MaryNobleBackstageWife_chime.wav',\n",
      " 'HILT_HILT_HILT_HILT_HILT_03_357305__mtg__clarinet-f-major.wav',\n",
      " 'HILT_HILT_HILT_HILT_HILT_04_brassproject_patteson.mp3',\n",
      " 'HILT_HILT_HILT_HILT_HILT_04_brassproject_patteson.wav',\n",
      " 'HILT_HILT_HILT_HILT_HILT_05_Ravel_Bolero_Andre_Rieu.mp3',\n",
      " 'HILT_HILT_HILT_HILT_HILT_05_Ravel_Bolero_Andre_Rieu.wav',\n",
      " 'HILT_HILT_HILT_HILT_HILT_06_Amen_Break_-_normal_fast_and_slow_version-qwQLk7NcpO4.wav',\n",
      " 'HILT_HILT_HILT_HILT_HILT_07_acoustic-kick.wav',\n",
      " 'HILT_HILT_HILT_HILT_HILT_08_Spinee_-_Save_Me-157140751.mp3',\n",
      " 'HILT_HILT_HILT_HILT_HILT_09_Creeley-Robert_23_The-Warning_Chicago_5-15-61.wav',\n",
      " 'HILT_HILT_HILT_HILT_HILT_10_Creeley_Company_supercut.mp3',\n",
      " 'HILT_HILT_HILT_HILT_HILT_10_Creeley_Company_supercut.wav',\n",
      " 'HILT_HILT_HILT_HILT_HILT_11_OSullivan-Maggie_10_Lottery-&-Requiem_States-of-Emergency_Rockdrill-11_05.mp3',\n",
      " 'HILT_HILT_HILT_HILT_HILT_11_OSullivan-Maggie_10_Lottery-&-Requiem_States-of-Emergency_Rockdrill-11_05.wav',\n",
      " 'HILT_HILT_HILT_HILT_HILT_12_Mi-Kim-Myung_The-Oceans-Held-Up-a-Snarling-Dog_Segue-ZINC_2-20-16.mp3',\n",
      " 'HILT_HILT_HILT_HILT_HILT_12_Mi-Kim-Myung_The-Oceans-Held-Up-a-Snarling-Dog_Segue-ZINC_2-20-16.wav',\n",
      " 'HILT_HILT_HILT_HILT_HILT_13_Myles_-_Philly_ICA_-_2010_-_interstitial.mp3',\n",
      " 'HILT_HILT_HILT_HILT_HILT_14_CBD-440606_NBC0540-News.mp3',\n",
      " 'HILT_HILT_HILT_HILT_HILT_14_CBD-440606_NBC0540-News.wav',\n",
      " 'HILT_HILT_HILT_HILT_HILT_15_square_150.wav',\n",
      " 'HILT_HILT_HILT_HILT_HILT_audiofile.wav',\n",
      " 'HILT_HILT_HILT_HILT_HILT_index.html',\n",
      " 'HILT_HILT_HILT_HILT_HILT_robots.txt',\n",
      " 'HILT_HILT_HILT_HILT_HILT_Stockhausen-Karlheinz_Gruppen.mp3',\n",
      " 'HILT_HILT_HILT_HILT_HILT_ubu']\n"
     ]
    }
   ],
   "source": [
    "filenames = os.listdir('./')\n",
    "\n",
    "for filename in filenames:\n",
    "    os.rename(filename, \"HILT_\"+filename)\n",
    "\n",
    "pprint(os.listdir('./'))"
   ]
  },
  {
   "cell_type": "code",
   "execution_count": 14,
   "metadata": {},
   "outputs": [
    {
     "name": "stdout",
     "output_type": "stream",
     "text": [
      "['HILT_HILT_HILT_HILT_HILT_.DS_Store',\n",
      " 'HILT_HILT_HILT_HILT_HILT_01_sine_440',\n",
      " 'HILT_HILT_HILT_HILT_HILT_02_CBD-440607_NBC1600-MaryNobleBackstageWife_chime',\n",
      " 'HILT_HILT_HILT_HILT_HILT_03_357305__mtg__clarinet-f-major',\n",
      " 'HILT_HILT_HILT_HILT_HILT_04_brassproject_patteson',\n",
      " 'HILT_HILT_HILT_HILT_HILT_04_brassproject_patteson',\n",
      " 'HILT_HILT_HILT_HILT_HILT_05_Ravel_Bolero_Andre_Rieu',\n",
      " 'HILT_HILT_HILT_HILT_HILT_05_Ravel_Bolero_Andre_Rieu',\n",
      " 'HILT_HILT_HILT_HILT_HILT_06_Amen_Break_-_normal_fast_and_slow_version-qwQLk7NcpO4',\n",
      " 'HILT_HILT_HILT_HILT_HILT_07_acoustic-kick',\n",
      " 'HILT_HILT_HILT_HILT_HILT_08_Spinee_-_Save_Me-157140751',\n",
      " 'HILT_HILT_HILT_HILT_HILT_09_Creeley-Robert_23_The-Warning_Chicago_5-15-61',\n",
      " 'HILT_HILT_HILT_HILT_HILT_10_Creeley_Company_supercut',\n",
      " 'HILT_HILT_HILT_HILT_HILT_10_Creeley_Company_supercut',\n",
      " 'HILT_HILT_HILT_HILT_HILT_11_OSullivan-Maggie_10_Lottery-&-Requiem_States-of-Emergency_Rockdrill-11_05',\n",
      " 'HILT_HILT_HILT_HILT_HILT_11_OSullivan-Maggie_10_Lottery-&-Requiem_States-of-Emergency_Rockdrill-11_05',\n",
      " 'HILT_HILT_HILT_HILT_HILT_12_Mi-Kim-Myung_The-Oceans-Held-Up-a-Snarling-Dog_Segue-ZINC_2-20-16',\n",
      " 'HILT_HILT_HILT_HILT_HILT_12_Mi-Kim-Myung_The-Oceans-Held-Up-a-Snarling-Dog_Segue-ZINC_2-20-16',\n",
      " 'HILT_HILT_HILT_HILT_HILT_13_Myles_-_Philly_ICA_-_2010_-_interstitial',\n",
      " 'HILT_HILT_HILT_HILT_HILT_14_CBD-440606_NBC0540-News',\n",
      " 'HILT_HILT_HILT_HILT_HILT_14_CBD-440606_NBC0540-News',\n",
      " 'HILT_HILT_HILT_HILT_HILT_15_square_150',\n",
      " 'HILT_HILT_HILT_HILT_HILT_audiofile',\n",
      " 'HILT_HILT_HILT_HILT_HILT_index.html',\n",
      " 'HILT_HILT_HILT_HILT_HILT_robots.txt',\n",
      " 'HILT_HILT_HILT_HILT_HILT_Stockhausen-Karlheinz_Gruppen',\n",
      " 'HILT_HILT_HILT_HILT_HILT_ubu']\n"
     ]
    }
   ],
   "source": [
    "# List comprehension format\n",
    "\n",
    "filenames = os.listdir('./')\n",
    "\n",
    "basenames = [item.replace('.mp3','').replace('.wav','') for item in filenames]\n",
    "\n",
    "pprint(basenames)"
   ]
  },
  {
   "cell_type": "code",
   "execution_count": 15,
   "metadata": {},
   "outputs": [
    {
     "name": "stdout",
     "output_type": "stream",
     "text": [
      "['HILT_HILT_HILT_HILT_HILT_04_brassproject_patteson',\n",
      " 'HILT_HILT_HILT_HILT_HILT_05_Ravel_Bolero_Andre_Rieu',\n",
      " 'HILT_HILT_HILT_HILT_HILT_08_Spinee_-_Save_Me-157140751',\n",
      " 'HILT_HILT_HILT_HILT_HILT_10_Creeley_Company_supercut',\n",
      " 'HILT_HILT_HILT_HILT_HILT_11_OSullivan-Maggie_10_Lottery-&-Requiem_States-of-Emergency_Rockdrill-11_05',\n",
      " 'HILT_HILT_HILT_HILT_HILT_12_Mi-Kim-Myung_The-Oceans-Held-Up-a-Snarling-Dog_Segue-ZINC_2-20-16',\n",
      " 'HILT_HILT_HILT_HILT_HILT_13_Myles_-_Philly_ICA_-_2010_-_interstitial',\n",
      " 'HILT_HILT_HILT_HILT_HILT_14_CBD-440606_NBC0540-News',\n",
      " 'HILT_HILT_HILT_HILT_HILT_Stockhausen-Karlheinz_Gruppen']\n"
     ]
    }
   ],
   "source": [
    "# More list comprehension\n",
    "\n",
    "filenames = os.listdir('./')\n",
    "\n",
    "mp3_basenames = [item.replace('.mp3','') for item in filenames if '.mp3' in item]\n",
    "\n",
    "pprint(mp3_basenames)"
   ]
  },
  {
   "cell_type": "code",
   "execution_count": 22,
   "metadata": {},
   "outputs": [
    {
     "name": "stdout",
     "output_type": "stream",
     "text": [
      "['HILT_HILT_HILT_HILT_HILT_04_brassproject_patteson.mp3',\n",
      " 'HILT_HILT_HILT_HILT_HILT_05_Ravel_Bolero_Andre_Rieu.mp3',\n",
      " 'HILT_HILT_HILT_HILT_HILT_08_Spinee_-_Save_Me-157140751.mp3',\n",
      " 'HILT_HILT_HILT_HILT_HILT_10_Creeley_Company_supercut.mp3',\n",
      " 'HILT_HILT_HILT_HILT_HILT_11_OSullivan-Maggie_10_Lottery-&-Requiem_States-of-Emergency_Rockdrill-11_05.mp3',\n",
      " 'HILT_HILT_HILT_HILT_HILT_12_Mi-Kim-Myung_The-Oceans-Held-Up-a-Snarling-Dog_Segue-ZINC_2-20-16.mp3',\n",
      " 'HILT_HILT_HILT_HILT_HILT_13_Myles_-_Philly_ICA_-_2010_-_interstitial.mp3',\n",
      " 'HILT_HILT_HILT_HILT_HILT_14_CBD-440606_NBC0540-News.mp3',\n",
      " 'HILT_HILT_HILT_HILT_HILT_Stockhausen-Karlheinz_Gruppen.mp3']\n"
     ]
    }
   ],
   "source": [
    "# More list comprehension\n",
    "\n",
    "filenames = os.listdir('./')\n",
    "\n",
    "mp3_filenames = [item for item in filenames if '.mp3' in item]\n",
    "\n",
    "pprint(mp3_filenames)"
   ]
  },
  {
   "cell_type": "code",
   "execution_count": 23,
   "metadata": {},
   "outputs": [
    {
     "name": "stdout",
     "output_type": "stream",
     "text": [
      "['HILT_HILT_HILT_HILT_HILT_04_brassproject_patteson.mp3',\n",
      " 'HILT_HILT_HILT_HILT_HILT_05_Ravel_Bolero_Andre_Rieu.mp3',\n",
      " 'HILT_HILT_HILT_HILT_HILT_08_Spinee_-_Save_Me-157140751.mp3',\n",
      " 'HILT_HILT_HILT_HILT_HILT_10_Creeley_Company_supercut.mp3',\n",
      " 'HILT_HILT_HILT_HILT_HILT_11_OSullivan-Maggie_10_Lottery-&-Requiem_States-of-Emergency_Rockdrill-11_05.mp3',\n",
      " 'HILT_HILT_HILT_HILT_HILT_12_Mi-Kim-Myung_The-Oceans-Held-Up-a-Snarling-Dog_Segue-ZINC_2-20-16.mp3',\n",
      " 'HILT_HILT_HILT_HILT_HILT_13_Myles_-_Philly_ICA_-_2010_-_interstitial.mp3',\n",
      " 'HILT_HILT_HILT_HILT_HILT_14_CBD-440606_NBC0540-News.mp3',\n",
      " 'HILT_HILT_HILT_HILT_HILT_Stockhausen-Karlheinz_Gruppen.mp3']\n"
     ]
    }
   ],
   "source": [
    "# More list comprehension\n",
    "\n",
    "filenames = os.listdir('./')\n",
    "\n",
    "mp3_filenames = [item for item in filenames if '.mp3' in item.lower()]\n",
    "\n",
    "pprint(mp3_basenames)"
   ]
  },
  {
   "cell_type": "markdown",
   "metadata": {},
   "source": [
    "### Executing Bash commands from Python with the \"subprocess\" module"
   ]
  },
  {
   "cell_type": "code",
   "execution_count": 33,
   "metadata": {},
   "outputs": [
    {
     "name": "stdout",
     "output_type": "stream",
     "text": [
      "['http://media.sas.upenn.edu/pennsound/authors/Morris/Close-Lstening/Morris-Tracie_04_Discussion2_WPS1_NY_5-22-05.mp3',\n",
      " 'http://media.sas.upenn.edu/pennsound/authors/Morris/Close-Lstening/Morris-Tracie_05_Theres-Traces_WPS1_NY_5-22-05.mp3',\n",
      " 'http://media.sas.upenn.edu/pennsound/authors/Morris/Close-Lstening/Morris-Tracie_06_Physical-Plane_WPS1_NY_5-22-05.mp3']\n"
     ]
    }
   ],
   "source": [
    "# First, let's create a list of \n",
    "\n",
    "urls = ['http://media.sas.upenn.edu/pennsound/authors/Morris/Close-Lstening/Morris-Tracie_04_Discussion2_WPS1_NY_5-22-05.mp3', \\\n",
    "        'http://media.sas.upenn.edu/pennsound/authors/Morris/Close-Lstening/Morris-Tracie_05_Theres-Traces_WPS1_NY_5-22-05.mp3', \\\n",
    "        'http://media.sas.upenn.edu/pennsound/authors/Morris/Close-Lstening/Morris-Tracie_06_Physical-Plane_WPS1_NY_5-22-05.mp3']\n",
    "\n",
    "pprint(urls)"
   ]
  },
  {
   "cell_type": "code",
   "execution_count": 32,
   "metadata": {},
   "outputs": [
    {
     "name": "stdout",
     "output_type": "stream",
     "text": [
      "['wget', 'http://media.sas.upenn.edu/pennsound/authors/Morris/Close-Lstening/Morris-Tracie_04_Discussion2_WPS1_NY_5-22-05.mp3']\n",
      "['wget', 'http://media.sas.upenn.edu/pennsound/authors/Morris/Close-Lstening/Morris-Tracie_05_Theres-Traces_WPS1_NY_5-22-05.mp3']\n",
      "['wget', 'http://media.sas.upenn.edu/pennsound/authors/Morris/Close-Lstening/Morris-Tracie_06_Physical-Plane_WPS1_NY_5-22-05.mp3']\n"
     ]
    }
   ],
   "source": [
    "for item in urls:\n",
    "    print(['wget',item])"
   ]
  },
  {
   "cell_type": "code",
   "execution_count": 29,
   "metadata": {},
   "outputs": [],
   "source": [
    "import subprocess\n",
    "\n"
   ]
  },
  {
   "cell_type": "code",
   "execution_count": null,
   "metadata": {},
   "outputs": [],
   "source": []
  },
  {
   "cell_type": "code",
   "execution_count": null,
   "metadata": {
    "collapsed": true
   },
   "outputs": [],
   "source": []
  },
  {
   "cell_type": "code",
   "execution_count": null,
   "metadata": {
    "collapsed": true
   },
   "outputs": [],
   "source": []
  },
  {
   "cell_type": "markdown",
   "metadata": {},
   "source": [
    "### Text input/output"
   ]
  },
  {
   "cell_type": "code",
   "execution_count": null,
   "metadata": {
    "collapsed": true
   },
   "outputs": [],
   "source": [
    "# The shortest format for creating a string from a text file:\n",
    "\n",
    "text=open(\"test_file.txt\").read()\n",
    "\n",
    "print(text)"
   ]
  },
  {
   "cell_type": "code",
   "execution_count": null,
   "metadata": {
    "collapsed": true
   },
   "outputs": [],
   "source": [
    "\n",
    "# Or we can work with one line at a time. Note that the newline character at the end of the\n",
    "# first line ends up creating a gap when the lines are printed separately.\n",
    "\n",
    "with open(\"test_file.txt\") as fi:\n",
    "    for line in fi:\n",
    "    print(line)\n"
   ]
  },
  {
   "cell_type": "code",
   "execution_count": null,
   "metadata": {
    "collapsed": true
   },
   "outputs": [],
   "source": [
    "\n",
    "# Load a text file as a list of lines, discarding newline characters.\n",
    "\n",
    "line_list=open(\"test_file.txt\").read().splitlines()\n",
    "\n",
    "print(line_list)"
   ]
  },
  {
   "cell_type": "code",
   "execution_count": null,
   "metadata": {
    "collapsed": true
   },
   "outputs": [],
   "source": [
    "# And we can write string data to a new text file like so:\n",
    "\n",
    "fo=open(\"test_file_2.txt\",\"w\")  ### Swap in your username here. ##\\#\n",
    "\n",
    "fo.write(\"This is another first line.\\n\")\n",
    "fo.write(\"This is another second line.\")\n",
    "\n",
    "fo.close()\n",
    "\n",
    "# A file called \"test_file_2.txt\" should appear in `sharedfolder`."
   ]
  },
  {
   "cell_type": "code",
   "execution_count": null,
   "metadata": {
    "collapsed": true
   },
   "outputs": [],
   "source": []
  },
  {
   "cell_type": "code",
   "execution_count": null,
   "metadata": {
    "collapsed": true
   },
   "outputs": [],
   "source": []
  },
  {
   "cell_type": "code",
   "execution_count": null,
   "metadata": {
    "collapsed": true
   },
   "outputs": [],
   "source": [
    "\n",
    "#### **11.** Accessing the shell from Python with the `os` package (if time permits)\n",
    "The next section is intended as an instructor demonstration, to be included if time permits.\n",
    "\n",
    "First, let’s check the length of the film with `exiftool`. Open a new terminal window and enter the following.\n",
    "\tcd ~/Desktop\n",
    "\texiftool Bucket.mp4\n",
    "\n",
    "The file comes to 1:05:57, or 3907 seconds. Lets extract 10 5-second clips at random and combine them to create a new video.\n",
    "\n",
    " ```python\n",
    "import os\n",
    "import random\n",
    "\n",
    "total*time=3907\n",
    "clip*time=5\n",
    "\n",
    "def random*start():\n",
    "\treturn random.random()*(total*time-clip*time)\n",
    "\n",
    "os.system('cd /Users/yourname/Desktop/')\n",
    "\n",
    "for i in range(10):\n",
    "\tos.system(\"ffmpeg -i Bucket.mp4 -ss \"+str(random*start())+\" -t 4 clip\"+str(i)+\".mpg\")\n",
    "\n",
    "os.system('''ffmpeg -i \"concat:clip0.mpg|clip1.mpg|clip2.mpg|clip3.mpg|clip4.mpg|clip5.mpg|clip6.mpg|clip7.mpg|clip8.mpg|clip9.mpg\" -c copy collage.mpg''')\n",
    "```\n"
   ]
  },
  {
   "cell_type": "code",
   "execution_count": null,
   "metadata": {
    "collapsed": true
   },
   "outputs": [],
   "source": []
  },
  {
   "cell_type": "code",
   "execution_count": null,
   "metadata": {
    "collapsed": true
   },
   "outputs": [],
   "source": []
  },
  {
   "cell_type": "code",
   "execution_count": null,
   "metadata": {
    "collapsed": true
   },
   "outputs": [],
   "source": []
  }
 ],
 "metadata": {
  "kernelspec": {
   "display_name": "Python 2",
   "language": "python",
   "name": "python2"
  },
  "language_info": {
   "codemirror_mode": {
    "name": "ipython",
    "version": 2
   },
   "file_extension": ".py",
   "mimetype": "text/x-python",
   "name": "python",
   "nbconvert_exporter": "python",
   "pygments_lexer": "ipython2",
   "version": "2.7.6"
  }
 },
 "nbformat": 4,
 "nbformat_minor": 2
}
