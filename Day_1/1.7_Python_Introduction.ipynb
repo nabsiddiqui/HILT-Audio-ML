{
 "cells": [
  {
   "cell_type": "markdown",
   "metadata": {},
   "source": [
    "# Python Introduction\n",
    "\n",
    "In this module we'll briefly walk through a handful of tools and techniques in Python — but I don't expect you to remember every last detail! My goal is to give you a lay of the land; think of it as an interactive cheat sheet you can come back to later.\n",
    "\n",
    "Each rectangular box in the Jupyter interface is called a **cell**. Click inside a cell below to highight it, then click the \"play\" button at the top of the window to run the code. Or just press **`Shift+Return`**, which does the same thing."
   ]
  },
  {
   "cell_type": "code",
   "execution_count": null,
   "metadata": {},
   "outputs": [],
   "source": [
    "# Text on the right side of a pound sign is \"commented out,\" meaning it won't run as code.\n",
    "# Let's start by running the same commands we just tried in the Python shell.\n",
    "\n",
    "1+1"
   ]
  },
  {
   "cell_type": "code",
   "execution_count": null,
   "metadata": {},
   "outputs": [],
   "source": [
    "print('1337 skillz')"
   ]
  },
  {
   "cell_type": "code",
   "execution_count": null,
   "metadata": {},
   "outputs": [],
   "source": [
    "# Note that if we include multiple expressions in a cell that each generate output, \n",
    "# we'll only see output from the last one in the series.\n",
    "\n",
    "1+1\n",
    "50-9\n",
    "200+200"
   ]
  },
  {
   "cell_type": "code",
   "execution_count": null,
   "metadata": {},
   "outputs": [],
   "source": [
    "# But if we include multiple print() functions, each one will write to a separate line.\n",
    "# For the sake of clarity, I tend to print all my outputs by default.\n",
    "\n",
    "print(1+1)\n",
    "print(50-9)\n",
    "print(200+200)"
   ]
  },
  {
   "cell_type": "code",
   "execution_count": null,
   "metadata": {},
   "outputs": [],
   "source": [
    "# We use the equals sign (with or without spaces on either side) to assign variables in Python.\n",
    "# These variables then stand in for the values we've given them.\n",
    "\n",
    "abc = 42\n",
    "xyz=\"Hello\"\n",
    "\n",
    "print(abc)\n",
    "print(xyz)"
   ]
  },
  {
   "cell_type": "markdown",
   "metadata": {},
   "source": [
    "## *Arithmetic operations*"
   ]
  },
  {
   "cell_type": "code",
   "execution_count": null,
   "metadata": {},
   "outputs": [],
   "source": [
    "# Arithmetic syntax is fairly straightforward. In this cell we're working with integers, a.k.a. ints.\n",
    "\n",
    "int1 = 13\n",
    "int2 = 7\n",
    "\n",
    "print(int1+int2)    # addition\n",
    "print(int1-int2)    # subtraction\n",
    "print(int1*int2)    # multiplication\n",
    "print(int1/int2)    # division\n",
    "print(int1**int2)   # exponentiation\n",
    "\n",
    "# Note that integer division always rounds down."
   ]
  },
  {
   "cell_type": "code",
   "execution_count": null,
   "metadata": {},
   "outputs": [],
   "source": [
    "# Floating-point numbers, known as floats, are numbers with decimal values. \n",
    "# They're a different data type than ints, but the same syntax applies for arithmetic.\n",
    "\n",
    "float1 = 13.0\n",
    "float2 = 7.0\n",
    "\n",
    "print(float1+float2)  # add\n",
    "print(float1-float2) # subtract\n",
    "print(float1*float2) # multiply\n",
    "print(float1/float2) # divide\n",
    "print(float1**float2) # exponent"
   ]
  },
  {
   "cell_type": "code",
   "execution_count": null,
   "metadata": {},
   "outputs": [],
   "source": [
    "# When we combine floats and ints in arithmetic expressions, the result is always a float.\n",
    "\n",
    "x = 5\n",
    "y = 8.0\n",
    "\n",
    "print(x+x)\n",
    "print(x+y)"
   ]
  },
  {
   "cell_type": "code",
   "execution_count": null,
   "metadata": {},
   "outputs": [],
   "source": [
    "# We can, however, use the int() and float() functions to \"cast\" ints to floats and vice-versa.\n",
    "# Note that casting a float to an int always rounds down.\n",
    "\n",
    "print(int(15.9))\n",
    "print(float(7))"
   ]
  },
  {
   "cell_type": "code",
   "execution_count": null,
   "metadata": {},
   "outputs": [],
   "source": [
    "# We can also cast strings (if they happen to be numbers) to int and float types.\n",
    "\n",
    "print(int(\"5\"))\n",
    "print(float(\"5\"))"
   ]
  },
  {
   "cell_type": "markdown",
   "metadata": {},
   "source": [
    "## *Strings and lists*"
   ]
  },
  {
   "cell_type": "code",
   "execution_count": null,
   "metadata": {},
   "outputs": [],
   "source": [
    "# Now try using the \"+\" operator on two strings.\n",
    "\n",
    "zyx = 'Hello'\n",
    "\n",
    "print(zyx + \" Jupyter!\")\n",
    "\n",
    "# Note that we've used \"+\" for two different purposes so far: adding numbers as well as \n",
    "# combining, or concatenating, strings. In the parlance of CS, \"+\" is an \"overloaded\" operator."
   ]
  },
  {
   "cell_type": "code",
   "execution_count": null,
   "metadata": {},
   "outputs": [],
   "source": [
    "# In the cell above we enclosed one string in single quotes and put the other in double quotes.\n",
    "# Either is fine; whichever you choose is up to you. But if your string contains a single quote \n",
    "# character, you'll need to enclose it in double quotes.\n",
    "\n",
    "print(\"This is a string that's got an apostrophe in it.\")"
   ]
  },
  {
   "cell_type": "code",
   "execution_count": null,
   "metadata": {},
   "outputs": [],
   "source": [
    "# If you're working with a string that contains double quotes and/or line breaks, use triple \n",
    "# quotes instead (three single quotes in a row).\n",
    "\n",
    "print('''Fleas and lice\n",
    "a horse pissing\n",
    "next to my pillow''')\n",
    "\n",
    "# (the best Bashō poem, translated by David Young)"
   ]
  },
  {
   "cell_type": "code",
   "execution_count": null,
   "metadata": {},
   "outputs": [],
   "source": [
    "# The replace() function replaces a character or series of characters with another.\n",
    "\n",
    "filename = \"11_OSullivan-Maggie_10_Lottery-&-Requiem_States-of-Emergency_Rockdrill-11_05.mp3\"\n",
    "\n",
    "print(filename.replace(\"_\",\", \"))"
   ]
  },
  {
   "cell_type": "code",
   "execution_count": null,
   "metadata": {},
   "outputs": [],
   "source": [
    "# And you can chain replace() together to make multiple replacements.\n",
    "\n",
    "filename = \"11_OSullivan-Maggie_10_Lottery-&-Requiem_States-of-Emergency_Rockdrill-11_05.mp3\"\n",
    "\n",
    "print(filename.replace(\"_\",\", \").replace(\".mp3\",\"\"))"
   ]
  },
  {
   "cell_type": "code",
   "execution_count": null,
   "metadata": {},
   "outputs": [],
   "source": [
    "# Use the split() function to divide a string into a list using a specified delimiter.\n",
    "\n",
    "filename = \"11_OSullivan-Maggie_10_Lottery-&-Requiem_States-of-Emergency_Rockdrill-11_05.mp3\"\n",
    "\n",
    "fields = filename.split(\"_\")\n",
    "\n",
    "print(fields)"
   ]
  },
  {
   "cell_type": "code",
   "execution_count": null,
   "metadata": {},
   "outputs": [],
   "source": [
    "# join() is the exact opposite of split().\n",
    "\n",
    "fields = ['11', 'OSullivan-Maggie', '10', 'Lottery-&-Requiem', 'States-of-Emergency', 'Rockdrill-11', '05.mp3']\n",
    "\n",
    "joined_sentence = \" | \".join(fields)\n",
    "\n",
    "print(joined_sentence)"
   ]
  },
  {
   "cell_type": "code",
   "execution_count": null,
   "metadata": {
    "collapsed": true
   },
   "outputs": [],
   "source": [
    "## Can you do a better job of parsing the filename above?\n",
    "\n",
    "\n",
    "\n"
   ]
  },
  {
   "cell_type": "code",
   "execution_count": null,
   "metadata": {},
   "outputs": [],
   "source": [
    "# There are a few ways to represent an ordered sequence of items in Python, but \n",
    "# we’ll be using lists most frequently.\n",
    "\n",
    "eu_countries=['Austria', 'Belgium', 'Bulgaria', 'Croatia', 'Republic of Cyprus', 'Czech Republic', 'Denmark', 'Estonia', 'Finland', 'France', 'Germany', 'Greece', 'Hungary', 'Ireland', 'Italy', 'Latvia', 'Lithuania', 'Luxembourg', 'Malta', 'Netherlands', 'Poland', 'Portugal', 'Romania', 'Slovakia', 'Slovenia', 'Spain', 'Sweden', 'UK']\n",
    "\n",
    "print(eu_countries)"
   ]
  },
  {
   "cell_type": "code",
   "execution_count": null,
   "metadata": {},
   "outputs": [],
   "source": [
    "# We can refer to individual list members using bracket notation. As in most programming \n",
    "# languages, we begin counting from 0 when working with ordered data — so list index 3\n",
    "# is actually the fourth item in the list.\n",
    "\n",
    "eu_countries[3]"
   ]
  },
  {
   "cell_type": "code",
   "execution_count": null,
   "metadata": {},
   "outputs": [],
   "source": [
    "# If you try to access an out-of-range index value, you’ll get an error.\n",
    "\n",
    "eu_countries[99]"
   ]
  },
  {
   "cell_type": "code",
   "execution_count": null,
   "metadata": {},
   "outputs": [],
   "source": [
    "# We can also create a subset of a list using Python’s slice notation.\n",
    "\n",
    "eu_countries[3:7]"
   ]
  },
  {
   "cell_type": "code",
   "execution_count": null,
   "metadata": {},
   "outputs": [],
   "source": [
    "eu_countries[6:]"
   ]
  },
  {
   "cell_type": "code",
   "execution_count": null,
   "metadata": {},
   "outputs": [],
   "source": [
    "eu_countries[:7]"
   ]
  },
  {
   "cell_type": "code",
   "execution_count": null,
   "metadata": {},
   "outputs": [],
   "source": [
    "eu_countries[-3:]"
   ]
  },
  {
   "cell_type": "code",
   "execution_count": null,
   "metadata": {},
   "outputs": [],
   "source": [
    "# If we want to know the length of a list or string, the len() function can tell us.\n",
    "\n",
    "len(eu_countries)"
   ]
  },
  {
   "cell_type": "code",
   "execution_count": null,
   "metadata": {},
   "outputs": [],
   "source": [
    "# The \"in\" operator checks whether one string is a substring of another ...\n",
    "\n",
    "\"green\" in \"A green hunting cap squeezed the top of the fleshy balloon of a head.\""
   ]
  },
  {
   "cell_type": "code",
   "execution_count": null,
   "metadata": {},
   "outputs": [],
   "source": [
    "# ... and whether a given value is included in a list.\n",
    "\n",
    "print(37 in [2, 3, 5, 7, 11, 13, 17, 19, 23, 29, 31, 37, 41, 43, 47, 53, 59])\n",
    "\n",
    "print(\"purple\" in [\"red\", \"green\", \"blue\"])"
   ]
  },
  {
   "cell_type": "code",
   "execution_count": null,
   "metadata": {},
   "outputs": [],
   "source": [
    "# Appending items to a list, beginning with an empty list\n",
    "\n",
    "names = []\n",
    "\n",
    "names.append('Janice')\n",
    "\n",
    "print(names)"
   ]
  },
  {
   "cell_type": "code",
   "execution_count": null,
   "metadata": {},
   "outputs": [],
   "source": [
    "names.append('Jordan')\n",
    "names.append('Jonathan')\n",
    "names.append('Julie')\n",
    "names.append('Jill')\n",
    "\n",
    "print(names)"
   ]
  },
  {
   "cell_type": "code",
   "execution_count": null,
   "metadata": {},
   "outputs": [],
   "source": [
    "# List concatenation\n",
    "\n",
    "numbers = [99,34,54,23,11,203]\n",
    "\n",
    "print(names + numbers)"
   ]
  },
  {
   "cell_type": "code",
   "execution_count": null,
   "metadata": {},
   "outputs": [],
   "source": [
    "# More list concatenation\n",
    "\n",
    "names += ['Jim','Janette','Jerry', 'Heather']\n",
    "\n",
    "print(names)"
   ]
  },
  {
   "cell_type": "code",
   "execution_count": null,
   "metadata": {},
   "outputs": [],
   "source": [
    "# Note that append() is not the same as concatenation with \"+\"\n",
    "\n",
    "names.append(numbers)\n",
    "\n",
    "print(names)"
   ]
  },
  {
   "cell_type": "code",
   "execution_count": null,
   "metadata": {
    "collapsed": true
   },
   "outputs": [],
   "source": []
  },
  {
   "cell_type": "markdown",
   "metadata": {},
   "source": [
    "## *Comparison and conditionals*"
   ]
  },
  {
   "cell_type": "code",
   "execution_count": null,
   "metadata": {},
   "outputs": [],
   "source": [
    "# We can check whether two values are the same with the comparison operator \"==\", which works \n",
    "# for strings as well as numbers.\n",
    "\n",
    "number = 12\n",
    "word = \"giraffe\"\n",
    "\n",
    "print(number==12)\n",
    "print(number==13)\n",
    "print(word == \"giraffe\")"
   ]
  },
  {
   "cell_type": "code",
   "execution_count": null,
   "metadata": {},
   "outputs": [],
   "source": [
    "# The \"!=\" operator asks whether two values are different.\n",
    "\n",
    "print(number!=12)\n",
    "print(number!=13)\n",
    "print(word!=\"pineapple\")"
   ]
  },
  {
   "cell_type": "code",
   "execution_count": null,
   "metadata": {},
   "outputs": [],
   "source": [
    "# True and False are known as boolean values, which together comprise their own data type.\n",
    "\n",
    "print(True==True)\n",
    "print(True==False)"
   ]
  },
  {
   "cell_type": "code",
   "execution_count": null,
   "metadata": {},
   "outputs": [],
   "source": [
    "# Conditional statements are a fundamental part of all programming languages. \n",
    "# We use the \"if\" operator to make something happen if a boolean expression is equal to True.\n",
    "\n",
    "number=12\n",
    "\n",
    "if number==12:\n",
    "    print(\"The value is equal to 12.\")"
   ]
  },
  {
   "cell_type": "code",
   "execution_count": null,
   "metadata": {},
   "outputs": [],
   "source": [
    "number=11\n",
    "\n",
    "if number!=12:\n",
    "    print(\"The value is not equal to 12.\")"
   ]
  },
  {
   "cell_type": "code",
   "execution_count": null,
   "metadata": {},
   "outputs": [],
   "source": [
    "# By adding \"else\" below \"if,\" we can tell Python to do something if the boolean expression\n",
    "# is not equal to True.\n",
    "\n",
    "number=10\n",
    "\n",
    "if number==12:\n",
    "    print(\"The value is equal to 12.\")\n",
    "else:\n",
    "    print(\"The value is not equal to 12.\")"
   ]
  },
  {
   "cell_type": "markdown",
   "metadata": {},
   "source": [
    "## *Loops and functions*"
   ]
  },
  {
   "cell_type": "code",
   "execution_count": null,
   "metadata": {},
   "outputs": [],
   "source": [
    "# A \"for loop\" is a structure that lets us iterate through lists and related data structures \n",
    "# so we can do something with each item one at a time.\n",
    "\n",
    "for country in eu_countries:\n",
    "    print(country + ' is great.')"
   ]
  },
  {
   "cell_type": "code",
   "execution_count": null,
   "metadata": {},
   "outputs": [],
   "source": [
    "# We can create functions to automate processes we want to repeat. Use the \"def\" declaration \n",
    "# to begin a function definition. The code below will produce the same output as the last example.\n",
    "\n",
    "def is_great(word):\n",
    "    return word + ' is great.'\n",
    "\n",
    "for country in eu_countries:\n",
    "    print(is_great(country))"
   ]
  },
  {
   "cell_type": "markdown",
   "metadata": {},
   "source": [
    "## *Navigating the file system*"
   ]
  },
  {
   "cell_type": "code",
   "execution_count": null,
   "metadata": {},
   "outputs": [],
   "source": [
    "# This cell imports the 'os' package (which stands for \"operating system\"),\n",
    "# then prints the current working directory, just like \"ls\" does in Bash.\n",
    "\n",
    "import os\n",
    "\n",
    "os.getcwd()"
   ]
  },
  {
   "cell_type": "code",
   "execution_count": null,
   "metadata": {},
   "outputs": [],
   "source": [
    "# Just like \"cd\" in Bash, os.chdir() changes the working directory.\n",
    "\n",
    "os.chdir(\"/\")\n",
    "\n",
    "os.getcwd()"
   ]
  },
  {
   "cell_type": "code",
   "execution_count": null,
   "metadata": {},
   "outputs": [],
   "source": [
    "# Use os.listdir() with any directory pathname as an argument, and it will return a \n",
    "# list of all the files in that directory. As in Bash, \"./\" refers to the current working directory.\n",
    "\n",
    "filenames = os.listdir(\"./\")\n",
    "\n",
    "print(filenames)"
   ]
  },
  {
   "cell_type": "code",
   "execution_count": null,
   "metadata": {},
   "outputs": [],
   "source": [
    "# Now let's rename some files. First we'll change our working directory to \n",
    "# \"sample_audio,\" then create a list of filenames in the directory.\n",
    "\n",
    "os.chdir('/home/sharedfolder/sample_audio')\n",
    "\n",
    "filenames = os.listdir('./')\n",
    "\n",
    "print(filenames)"
   ]
  },
  {
   "cell_type": "code",
   "execution_count": null,
   "metadata": {},
   "outputs": [],
   "source": [
    "# The pprint module, short for \"prettyprint,\" can help make lists more readable.\n",
    "\n",
    "from pprint import pprint\n",
    "\n",
    "pprint(filenames)"
   ]
  },
  {
   "cell_type": "code",
   "execution_count": null,
   "metadata": {},
   "outputs": [],
   "source": [
    "# Now we'll use os.rename() to replace spaces with underscores in our audio files.\n",
    "\n",
    "filenames = os.listdir('./')\n",
    "\n",
    "for filename in filenames:\n",
    "    os.rename(filename, filename.replace(' ','_'))\n",
    "\n",
    "pprint(os.listdir('./'))"
   ]
  },
  {
   "cell_type": "markdown",
   "metadata": {},
   "source": [
    "## *List comprehensions*"
   ]
  },
  {
   "cell_type": "code",
   "execution_count": null,
   "metadata": {},
   "outputs": [],
   "source": [
    "# Python's \"list comprehension\" feature makes it possible to filter and transform \n",
    "# lists in a single line of code. Here we create a list of basenames, i.e. filenames  \n",
    "# with their extnsions removed.\n",
    "\n",
    "filenames = os.listdir('./')\n",
    "\n",
    "basenames = [item.replace('.mp3','').replace('.wav','').replace('.csv','') for item in filenames]\n",
    "\n",
    "pprint(basenames)"
   ]
  },
  {
   "cell_type": "code",
   "execution_count": null,
   "metadata": {
    "collapsed": true
   },
   "outputs": [],
   "source": [
    "# If our goal is to extract a list of basenames from a large, heterogeneous set \n",
    "# of files, how might the method used above lead us astray? \n",
    "\n",
    "# Any ideas on how  we might do better?"
   ]
  },
  {
   "cell_type": "code",
   "execution_count": null,
   "metadata": {},
   "outputs": [],
   "source": [
    "# We can also use list comprehensions to extract a subset of items based on a\n",
    "# conditional statement. Here we extract basenames from just the MP3s in our directory.\n",
    "\n",
    "filenames = os.listdir('./')\n",
    "\n",
    "mp3_basenames = [item.replace('.mp3','') for item in filenames if '.mp3' in item]\n",
    "\n",
    "pprint(mp3_basenames)"
   ]
  },
  {
   "cell_type": "code",
   "execution_count": null,
   "metadata": {},
   "outputs": [],
   "source": [
    "# If we just want to filter items in a list without making any changes, \n",
    "# here's what that looks like.\n",
    "\n",
    "filenames = os.listdir('./')\n",
    "\n",
    "mp3_filenames = [item for item in filenames if '.mp3' in item]\n",
    "\n",
    "pprint(mp3_basenames)"
   ]
  },
  {
   "cell_type": "code",
   "execution_count": null,
   "metadata": {},
   "outputs": [],
   "source": [
    "# Since MP3 files in real-world collections might end in \".MP3\" or \".mp3\" or \n",
    "# perhaps \".Mp3,\" using lower() to convert the filename to lowercase in your \n",
    "# conditional statement is a good practice.\n",
    "\n",
    "filenames = os.listdir('./')\n",
    "\n",
    "mp3_filenames = [item for item in filenames if '.mp3' in item.lower()]\n",
    "\n",
    "pprint(mp3_basenames)"
   ]
  },
  {
   "cell_type": "code",
   "execution_count": null,
   "metadata": {},
   "outputs": [],
   "source": [
    "# We can also convert strings to uppercase and title case like so:\n",
    "\n",
    "qrst = \"The oceans held up a snarling dog\"\n",
    "\n",
    "print(qrst.lower())\n",
    "print(qrst.upper())\n",
    "print(qrst.title())"
   ]
  },
  {
   "cell_type": "markdown",
   "metadata": {},
   "source": [
    "## *Reading and writing text files*"
   ]
  },
  {
   "cell_type": "code",
   "execution_count": null,
   "metadata": {},
   "outputs": [],
   "source": [
    "# Here's the shortest format for reading a text file and assigning it to a string variable in Python.\n",
    "\n",
    "text = open(\"14_CBD-440606_NBC0500-News.annotations.csv\").read()\n",
    "\n",
    "text"
   ]
  },
  {
   "cell_type": "code",
   "execution_count": null,
   "metadata": {},
   "outputs": [],
   "source": [
    "# More often, we'll want to import a text file as a list of lines, discarding newline characters.\n",
    "\n",
    "line_list=open(\"14_CBD-440606_NBC0500-News.annotations.csv\").read().splitlines()\n",
    "\n",
    "pprint(line_list)"
   ]
  },
  {
   "cell_type": "code",
   "execution_count": null,
   "metadata": {
    "collapsed": true
   },
   "outputs": [],
   "source": [
    "# We can write string data to a new text file like so:\n",
    "\n",
    "with open(\"text_output_1.txt\",\"w\") as fo:\n",
    "    fo.write(\"This is the first line.\\n\")\n",
    "    fo.write(\"This is another second line.\")"
   ]
  },
  {
   "cell_type": "code",
   "execution_count": null,
   "metadata": {},
   "outputs": [],
   "source": [
    "# Or like so, which writes each item in a list to a separate line.\n",
    "\n",
    "lines = [\"This\", \"is\", \"a\", \"list\", \"of\", \"lines.\"]\n",
    "\n",
    "with open(\"text_output_2.txt\",\"w\") as fo:\n",
    "    fo.writelines([item+'\\n' for item in lines])"
   ]
  },
  {
   "cell_type": "markdown",
   "metadata": {},
   "source": [
    "## *Executing Bash commands from within Python*\n",
    "\n",
    "While there are Python packages available for just about any task you can think of, the command-line programs we'd use in Bash are often much simpler to understand. And while Bash has its own powerful scripting syntax, Python scripts are often easier to write and more readable. Fortunately, we can get the best of both world by using Python to execute Bash commands."
   ]
  },
  {
   "cell_type": "code",
   "execution_count": null,
   "metadata": {},
   "outputs": [],
   "source": [
    "# os.system() executes a string argument as if you'd typed it directly into Bash. \n",
    "# This is fine for simple commands like this one, which creates a new directory \n",
    "# called \"new_directory.\"\n",
    "\n",
    "dir_name= \"new_directory\"\n",
    "\n",
    "os.system('mkdir ' + dir_name)"
   ]
  },
  {
   "cell_type": "code",
   "execution_count": null,
   "metadata": {},
   "outputs": [],
   "source": [
    "# Recall, however, that Bash interprets every space that isn't escaped with a backslash \n",
    "# as a delimiter between arguments; it's possible to work around this contstraint by \n",
    "# adding double quotes around everything, but this usually results in jumbled code and \n",
    "# often creates unexpected results. Instead of pulling your hair out, you should use \n",
    "# subprocess.call() by default, which takes a list of arguments and executes them in \n",
    "# Bash while dealing with Bash's quirks.\n",
    "\n",
    "# As a simple example, let's download some files with wget. We'll start by creating a \n",
    "# list of URLs.\n",
    "\n",
    "# Note the backslash at the end of each line below, which tells Python to disregard the \n",
    "# line break. The result is more readable than using a single long line. \n",
    "\n",
    "urls = ['http://media.sas.upenn.edu/pennsound/authors/Morris/Close-Lstening/Morris-Tracie_04_Discussion2_WPS1_NY_5-22-05.mp3', \\\n",
    "        'http://media.sas.upenn.edu/pennsound/authors/Morris/Close-Lstening/Morris-Tracie_05_Theres-Traces_WPS1_NY_5-22-05.mp3', \\\n",
    "        'http://media.sas.upenn.edu/pennsound/authors/Morris/Close-Lstening/Morris-Tracie_06_Physical-Plane_WPS1_NY_5-22-05.mp3']\n",
    "\n",
    "pprint(urls)"
   ]
  },
  {
   "cell_type": "code",
   "execution_count": null,
   "metadata": {},
   "outputs": [],
   "source": [
    "# Now we'll import the subprocess package and execute our commands using a for loop.\n",
    "\n",
    "import subprocess\n",
    "\n",
    "for item in urls:\n",
    "    subprocess.call(['wget',item])"
   ]
  }
 ],
 "metadata": {
  "kernelspec": {
   "display_name": "Python 2",
   "language": "python",
   "name": "python2"
  },
  "language_info": {
   "codemirror_mode": {
    "name": "ipython",
    "version": 2
   },
   "file_extension": ".py",
   "mimetype": "text/x-python",
   "name": "python",
   "nbconvert_exporter": "python",
   "pygments_lexer": "ipython2",
   "version": "2.7.6"
  }
 },
 "nbformat": 4,
 "nbformat_minor": 2
}
