{
 "cells": [
  {
   "cell_type": "markdown",
   "metadata": {},
   "source": [
    "We’ll begin by assigning some data to variables."
   ]
  },
  {
   "cell_type": "code",
   "execution_count": null,
   "metadata": {
    "collapsed": true
   },
   "outputs": [],
   "source": [
    "x=5\n",
    "y=5.0\n",
    "z=\"Hello\""
   ]
  },
  {
   "cell_type": "markdown",
   "metadata": {},
   "source": [
    "Note that `x+x` gives a result of 10, while `x+y` returns 10.0. That’s because 5 and 5.0 are different data types in Python. The former is an **int**, or integer, while the latter is a **float**, or floating point value.\n"
   ]
  },
  {
   "cell_type": "code",
   "execution_count": null,
   "metadata": {
    "collapsed": true
   },
   "outputs": [],
   "source": [
    "x+x"
   ]
  },
  {
   "cell_type": "code",
   "execution_count": null,
   "metadata": {
    "collapsed": true
   },
   "outputs": [],
   "source": [
    "x+y"
   ]
  },
  {
   "cell_type": "markdown",
   "metadata": {},
   "source": [
    "Now try using the `+` operator on two strings."
   ]
  },
  {
   "cell_type": "code",
   "execution_count": null,
   "metadata": {
    "collapsed": true
   },
   "outputs": [],
   "source": [
    "z + \" Jupyter\""
   ]
  },
  {
   "cell_type": "markdown",
   "metadata": {},
   "source": [
    "Note that `+` is used for two different purposes: adding numbers and concatenating strings. By the way, you can use single or double quotes to enclose string text in Python — or even triple quotes, if you're working with a string that contains double quotes and/or line breaks."
   ]
  },
  {
   "cell_type": "code",
   "execution_count": null,
   "metadata": {
    "collapsed": true
   },
   "outputs": [],
   "source": [
    "print('''This is a \"great\" sen\n",
    "ten\n",
    "ce.''')"
   ]
  },
  {
   "cell_type": "markdown",
   "metadata": {},
   "source": [
    "Next we’ll link a series of values using Python’s list data type. There several ways to represent an ordered sequence of items in Python, but we’ll be using list most frequently.\n"
   ]
  },
  {
   "cell_type": "code",
   "execution_count": null,
   "metadata": {
    "collapsed": true
   },
   "outputs": [],
   "source": [
    "eu_countries=['Austria', 'Belgium', 'Bulgaria', 'Croatia', 'Republic of Cyprus', 'Czech Republic', 'Denmark', 'Estonia', 'Finland', 'France', 'Germany', 'Greece', 'Hungary', 'Ireland', 'Italy', 'Latvia', 'Lithuania', 'Luxembourg', 'Malta', 'Netherlands', 'Poland', 'Portugal', 'Romania', 'Slovakia', 'Slovenia', 'Spain', 'Sweden', 'UK']\n",
    "\n",
    "eu_countries"
   ]
  },
  {
   "cell_type": "markdown",
   "metadata": {},
   "source": [
    "We can refer to individual list members using bracket annotation. As in most programming languages, we begin counting from 0 when working with ordered data.\n"
   ]
  },
  {
   "cell_type": "code",
   "execution_count": null,
   "metadata": {
    "collapsed": true
   },
   "outputs": [],
   "source": [
    "eu_countries[3]"
   ]
  },
  {
   "cell_type": "markdown",
   "metadata": {},
   "source": [
    "If you try to access an out-of-range index value, you’ll get an error."
   ]
  },
  {
   "cell_type": "code",
   "execution_count": null,
   "metadata": {
    "collapsed": true
   },
   "outputs": [],
   "source": [
    "eu_countries[99]"
   ]
  },
  {
   "cell_type": "markdown",
   "metadata": {},
   "source": [
    "We can also create a subset of a list using Python’s slice notation."
   ]
  },
  {
   "cell_type": "code",
   "execution_count": null,
   "metadata": {
    "collapsed": true
   },
   "outputs": [],
   "source": [
    "eu_countries[3:7]"
   ]
  },
  {
   "cell_type": "code",
   "execution_count": null,
   "metadata": {
    "collapsed": true
   },
   "outputs": [],
   "source": [
    "print(eu_countries[6:])"
   ]
  },
  {
   "cell_type": "code",
   "execution_count": null,
   "metadata": {
    "collapsed": true
   },
   "outputs": [],
   "source": [
    "print(eu_countries[:8])"
   ]
  },
  {
   "cell_type": "code",
   "execution_count": null,
   "metadata": {
    "collapsed": true
   },
   "outputs": [],
   "source": [
    "print(eu_countries[-5:])"
   ]
  },
  {
   "cell_type": "markdown",
   "metadata": {},
   "source": [
    "If we want to know the length of a list or string, the `len` function can tell us."
   ]
  },
  {
   "cell_type": "code",
   "execution_count": null,
   "metadata": {
    "collapsed": true
   },
   "outputs": [],
   "source": [
    "len(eu_countries)"
   ]
  },
  {
   "cell_type": "markdown",
   "metadata": {},
   "source": [
    "\n",
    "Conditional statements are a fundamental part of all programming languages. We use the `if` operator to evaluate conditionals.\n"
   ]
  },
  {
   "cell_type": "code",
   "execution_count": null,
   "metadata": {
    "collapsed": true
   },
   "outputs": [],
   "source": [
    "number=12\n",
    "\n",
    "if number==12:\n",
    "    print(\"The value is 12, an integer.\")\n"
   ]
  },
  {
   "cell_type": "markdown",
   "metadata": {},
   "source": [
    "By adding `else`, we can tell Python to do something if the conditional isn’t true.\n"
   ]
  },
  {
   "cell_type": "code",
   "execution_count": null,
   "metadata": {
    "collapsed": true
   },
   "outputs": [],
   "source": [
    "number=10\n",
    "\n",
    "if number==12:\n",
    "\t print(\"The value is 12, an integer.\")\n",
    "else:\n",
    "\t print(\"The value is not 12.\")"
   ]
  },
  {
   "cell_type": "markdown",
   "metadata": {},
   "source": [
    "A **for loop** is a structure that lets us iterate through lists and other data structures so we can refer to each item one at a time.\n"
   ]
  },
  {
   "cell_type": "code",
   "execution_count": null,
   "metadata": {
    "collapsed": true
   },
   "outputs": [],
   "source": [
    "\n",
    "for country in eu_countries:\n",
    "    print(country + ' is great.')\n"
   ]
  },
  {
   "cell_type": "code",
   "execution_count": null,
   "metadata": {
    "collapsed": true
   },
   "outputs": [],
   "source": []
  },
  {
   "cell_type": "code",
   "execution_count": null,
   "metadata": {
    "collapsed": true
   },
   "outputs": [],
   "source": []
  },
  {
   "cell_type": "code",
   "execution_count": null,
   "metadata": {
    "collapsed": true
   },
   "outputs": [],
   "source": []
  },
  {
   "cell_type": "code",
   "execution_count": null,
   "metadata": {
    "collapsed": true
   },
   "outputs": [],
   "source": [
    "\n",
    "\n",
    "Finally, we can create functions to automate repetitive processes. Use the `def` declaration to start s function definition. The code below will produce the same output as the last example.\n",
    "\n",
    "python\n",
    "def is*great(word):\n",
    "    return word + ' is great.'\n",
    "\n",
    "for country in eu*countries:\n",
    "    print(is*great(country))\n",
    "\n",
    "\n",
    "In this case we’re not saving much effort, but as we proceed you’ll find that functions will help you write simpler, more readable code.\n"
   ]
  },
  {
   "cell_type": "code",
   "execution_count": null,
   "metadata": {
    "collapsed": true
   },
   "outputs": [],
   "source": [
    "## Very basics\n",
    "\n",
    "print(\"Hello Jupyter!\")\n",
    "print(\"Hello\" + \" Jupyter!\")"
   ]
  },
  {
   "cell_type": "code",
   "execution_count": null,
   "metadata": {
    "collapsed": true
   },
   "outputs": [],
   "source": [
    "### Integer Arithmetic\n",
    "\n",
    "int1=10000\n",
    "int2=150\n",
    "\n",
    "print(int1+int2) # add\n",
    "print(int1-int2) # subtract\n",
    "print(int1*int2) # multiply\n",
    "print(int1/int2) # divide"
   ]
  },
  {
   "cell_type": "code",
   "execution_count": null,
   "metadata": {
    "collapsed": true
   },
   "outputs": [],
   "source": [
    "### Floating Point Arithmetic\n",
    "\n",
    "float1=10000.0\n",
    "float2=150.5\n",
    "\n",
    "print(float1+float2) # add\n",
    "print(float1-float2) # subtract\n",
    "print(float1*float2) # multiply\n",
    "print(float1/float2) # divide"
   ]
  },
  {
   "cell_type": "code",
   "execution_count": null,
   "metadata": {
    "collapsed": true
   },
   "outputs": [],
   "source": [
    "# This cell imports the 'os' package, then prints a list of filenames in \n",
    "# the root directory of our Docker container.\n",
    "\n",
    "import os\n",
    "\n",
    "os.chdir(\"/\") ### Swap in your username here. ##\\#\n",
    "\n",
    "filenames = os.listdir(\"./\")  ### Swap in your username here. ##\\#\n",
    "\n",
    "print(filenames)\n"
   ]
  },
  {
   "cell_type": "code",
   "execution_count": null,
   "metadata": {
    "collapsed": true
   },
   "outputs": [],
   "source": [
    "# The pprint module shows us the list above in a more readable format.\n",
    "\n",
    "from pprint import pprint\n",
    "\n",
    "pprint(filenames)"
   ]
  },
  {
   "cell_type": "markdown",
   "metadata": {},
   "source": [
    "Incidentally, lines beginning with '!' in Jupyter are executed in Bash. This can be a handy shortcut while you work, but avoid using it in your final workflows."
   ]
  },
  {
   "cell_type": "code",
   "execution_count": null,
   "metadata": {
    "collapsed": true
   },
   "outputs": [],
   "source": [
    "!ls"
   ]
  },
  {
   "cell_type": "code",
   "execution_count": null,
   "metadata": {
    "collapsed": true
   },
   "outputs": [],
   "source": [
    "## Lists\n",
    "\n",
    "# String Manipulation\n",
    "## In which we split and reassemble a sentence.\n",
    "\n",
    "\n",
    "sentence=\"A green hunting cap squeezed the top of a fleshy balloon of a head.\"\n",
    "\n",
    "print(sentence)\n",
    "\n",
    "\n",
    "words=sentence.split(\" \")\n",
    "print(words)\n"
   ]
  },
  {
   "cell_type": "code",
   "execution_count": null,
   "metadata": {
    "collapsed": true
   },
   "outputs": [],
   "source": [
    "rejoined=\"|\".join(words)\n",
    "print(rejoined)"
   ]
  },
  {
   "cell_type": "code",
   "execution_count": null,
   "metadata": {
    "collapsed": true
   },
   "outputs": [],
   "source": [
    "# List Slice Notation\n",
    "\n",
    "print(len(words))\n",
    "\n",
    "print(words[4]())\n",
    "print(words[2:5]())\n",
    "print(words[2:]())\n",
    "print(words[:2]())\n",
    "print(words[-4]())\n",
    "print(words[-4:]())"
   ]
  },
  {
   "cell_type": "code",
   "execution_count": null,
   "metadata": {
    "collapsed": true
   },
   "outputs": [],
   "source": [
    "# Appending items to a list\n",
    "\n",
    "names = []\n",
    "\n",
    "names.append('Janice')\n",
    "\n",
    "print(names)"
   ]
  },
  {
   "cell_type": "code",
   "execution_count": null,
   "metadata": {
    "collapsed": true
   },
   "outputs": [],
   "source": [
    "names.append('Jordan')\n",
    "names.append('Jonathan')\n",
    "names.append('Julie')\n",
    "names.append('Jill')\n",
    "\n",
    "print(names)"
   ]
  },
  {
   "cell_type": "code",
   "execution_count": null,
   "metadata": {
    "collapsed": true
   },
   "outputs": [],
   "source": [
    "# Lists concatenation\n",
    "\n",
    "numbers = [99,34,54,23,11,203]\n",
    "\n",
    "print(names + numbers)\n"
   ]
  },
  {
   "cell_type": "code",
   "execution_count": null,
   "metadata": {
    "collapsed": true
   },
   "outputs": [],
   "source": [
    "# More list concatenation\n",
    "\n",
    "names += ['Jim','Janette','Jerry', 'Heather']\n",
    "\n",
    "print(names)"
   ]
  },
  {
   "cell_type": "code",
   "execution_count": null,
   "metadata": {
    "collapsed": true
   },
   "outputs": [],
   "source": [
    "# List comprehension format\n",
    "\n",
    "b_names = [name.replace('J','B') for name in names]\n",
    "\n",
    "print b_names"
   ]
  },
  {
   "cell_type": "code",
   "execution_count": null,
   "metadata": {
    "collapsed": true
   },
   "outputs": [],
   "source": [
    "# More list comprehension\n",
    "\n",
    "x_names = [name.replace('H','X') for name in names if 'H' in name]\n",
    "\n",
    "print x_names"
   ]
  },
  {
   "cell_type": "code",
   "execution_count": null,
   "metadata": {
    "collapsed": true
   },
   "outputs": [],
   "source": [
    "# List comprehension pt. 3\n",
    "\n",
    "w_names = [name.replace('H','W').replace('J','W') for name in names if 'h' in name.lower()]\n",
    "\n",
    "print w_names"
   ]
  },
  {
   "cell_type": "code",
   "execution_count": null,
   "metadata": {
    "collapsed": true
   },
   "outputs": [],
   "source": []
  },
  {
   "cell_type": "code",
   "execution_count": null,
   "metadata": {
    "collapsed": true
   },
   "outputs": [],
   "source": []
  },
  {
   "cell_type": "code",
   "execution_count": null,
   "metadata": {
    "collapsed": true
   },
   "outputs": [],
   "source": [
    "# The shortest format for creating a string from a text file:\n",
    "\n",
    "text=open(\"test_file.txt\").read()  ### Swap in your username here. ##\\#\n",
    "\n",
    "print(text)\n"
   ]
  },
  {
   "cell_type": "code",
   "execution_count": null,
   "metadata": {
    "collapsed": true
   },
   "outputs": [],
   "source": [
    "\n",
    "# Or we can work with one line at a time. Note that the newline character at the end of the\n",
    "# first line ends up creating a gap when the lines are printed separately.\n",
    "\n",
    "with open(\"test_file.txt\") as fi:\n",
    "    for line in fi:\n",
    "    print(line)\n"
   ]
  },
  {
   "cell_type": "code",
   "execution_count": null,
   "metadata": {
    "collapsed": true
   },
   "outputs": [],
   "source": [
    "\n",
    "# Load a text file as a list of lines, discarding newline characters.\n",
    "\n",
    "line_list=open(\"test_file.txt\").read().splitlines()\n",
    "\n",
    "print(line_list)"
   ]
  },
  {
   "cell_type": "code",
   "execution_count": null,
   "metadata": {
    "collapsed": true
   },
   "outputs": [],
   "source": [
    "\n",
    "\n",
    "# And we can write string data to a new text file like so:\n",
    "\n",
    "fo=open(\"test_file_2.txt\",\"w\")  ### Swap in your username here. ##\\#\n",
    "\n",
    "fo.write(\"This is another first line.\\n\")\n",
    "fo.write(\"This is another second line.\")\n",
    "\n",
    "fo.close()\n",
    "\n",
    "# A file called \"test_file_2.txt\" should appear in `sharedfolder`.\n",
    "\n"
   ]
  },
  {
   "cell_type": "code",
   "execution_count": null,
   "metadata": {
    "collapsed": true
   },
   "outputs": [],
   "source": []
  },
  {
   "cell_type": "code",
   "execution_count": null,
   "metadata": {
    "collapsed": true
   },
   "outputs": [],
   "source": []
  },
  {
   "cell_type": "code",
   "execution_count": null,
   "metadata": {
    "collapsed": true
   },
   "outputs": [],
   "source": [
    "\n",
    "#### **11.** Accessing the shell from Python with the `os` package (if time permits)\n",
    "The next section is intended as an instructor demonstration, to be included if time permits.\n",
    "\n",
    "First, let’s check the length of the film with `exiftool`. Open a new terminal window and enter the following.\n",
    "\tcd ~/Desktop\n",
    "\texiftool Bucket.mp4\n",
    "\n",
    "The file comes to 1:05:57, or 3907 seconds. Lets extract 10 5-second clips at random and combine them to create a new video.\n",
    "\n",
    " ```python\n",
    "import os\n",
    "import random\n",
    "\n",
    "total*time=3907\n",
    "clip*time=5\n",
    "\n",
    "def random*start():\n",
    "\treturn random.random()*(total*time-clip*time)\n",
    "\n",
    "os.system('cd /Users/yourname/Desktop/')\n",
    "\n",
    "for i in range(10):\n",
    "\tos.system(\"ffmpeg -i Bucket.mp4 -ss \"+str(random*start())+\" -t 4 clip\"+str(i)+\".mpg\")\n",
    "\n",
    "os.system('''ffmpeg -i \"concat:clip0.mpg|clip1.mpg|clip2.mpg|clip3.mpg|clip4.mpg|clip5.mpg|clip6.mpg|clip7.mpg|clip8.mpg|clip9.mpg\" -c copy collage.mpg''')\n",
    "```\n"
   ]
  },
  {
   "cell_type": "code",
   "execution_count": null,
   "metadata": {
    "collapsed": true
   },
   "outputs": [],
   "source": []
  },
  {
   "cell_type": "code",
   "execution_count": null,
   "metadata": {
    "collapsed": true
   },
   "outputs": [],
   "source": []
  },
  {
   "cell_type": "code",
   "execution_count": null,
   "metadata": {
    "collapsed": true
   },
   "outputs": [],
   "source": []
  }
 ],
 "metadata": {
  "kernelspec": {
   "display_name": "Python 2",
   "language": "python",
   "name": "python2"
  },
  "language_info": {
   "codemirror_mode": {
    "name": "ipython",
    "version": 2
   },
   "file_extension": ".py",
   "mimetype": "text/x-python",
   "name": "python",
   "nbconvert_exporter": "python",
   "pygments_lexer": "ipython2",
   "version": "2.7.6"
  }
 },
 "nbformat": 4,
 "nbformat_minor": 2
}
