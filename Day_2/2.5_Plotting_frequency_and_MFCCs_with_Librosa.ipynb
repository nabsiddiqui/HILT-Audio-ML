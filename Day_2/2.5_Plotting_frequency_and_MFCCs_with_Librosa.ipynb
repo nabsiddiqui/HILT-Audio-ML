{
 "cells": [
  {
   "cell_type": "code",
   "execution_count": null,
   "metadata": {},
   "outputs": [],
   "source": [
    "!wget http://www.stephenmclaughlin.net/HILT/09_Creeley-Robert_23_The-Warning_Chicago_5-15-61.wav"
   ]
  },
  {
   "cell_type": "code",
   "execution_count": null,
   "metadata": {
    "collapsed": true
   },
   "outputs": [],
   "source": [
    "import os\n",
    "import numpy as np\n",
    "import librosa\n",
    "from matplotlib import pyplot as plt\n",
    "%matplotlib inline\n",
    "\n",
    "os.chdir('/home/sharedfolder')\n",
    "\n",
    "wav_pathname = '09_Creeley-Robert_23_The-Warning_Chicago_5-15-61.wav'\n",
    "\n",
    "sample_array, sample_rate = librosa.load(wav_pathname)\n"
   ]
  },
  {
   "cell_type": "markdown",
   "metadata": {},
   "source": [
    "We've just assigned two variables: `samples` is a numpy array of sample values; `sample_rate` is the sample rate, an integer. Print each of them and see what they look like.\n",
    "\n",
    "By default, Librosa will resample the signal to 22.5kHz. Alternatively, we can set the sample rate manually like so:\n",
    "\n",
    "    librosa.load(wav_pathname, sr=44100)\n",
    "\n",
    "Or disable resampling and use the file's original sample rate:\n",
    "\n",
    "    librosa.load(wav_pathname, sr=None)"
   ]
  },
  {
   "cell_type": "code",
   "execution_count": null,
   "metadata": {
    "collapsed": true
   },
   "outputs": [],
   "source": [
    "\n",
    "spectral_frames = librosa.stft(sample_array, hop_length=512).T\n",
    "\n",
    "spectral_power_frames = [abs(frame_values) for frame_values in spectral_frames]\n"
   ]
  },
  {
   "cell_type": "code",
   "execution_count": null,
   "metadata": {},
   "outputs": [],
   "source": [
    "## Plotting random spectral frames\n",
    "\n",
    "import random\n",
    "\n",
    "i = random.randint(0,len(spectral_power_frames))\n",
    "\n",
    "print(i)\n",
    "\n",
    "plt.figure(figsize=(10,5))\n",
    "plt.plot(spectral_power_frames[i])\n",
    "plt.show()"
   ]
  },
  {
   "cell_type": "code",
   "execution_count": null,
   "metadata": {},
   "outputs": [],
   "source": [
    "## Plotting average spectral power over time\n",
    "\n",
    "mean_power_vals = [np.mean(frame_values) for frame_values in spectral_power_frames]\n",
    "\n",
    "plt.figure(figsize=(10,5))\n",
    "plt.plot(mean_power_vals)\n",
    "plt.show()"
   ]
  },
  {
   "cell_type": "code",
   "execution_count": null,
   "metadata": {
    "collapsed": true
   },
   "outputs": [],
   "source": [
    "## Extracting MFCCs\n",
    "\n",
    "mfcc_frames = librosa.feature.mfcc(sample_array, sample_rate, hop_length=512, n_mfcc=13).T\n"
   ]
  },
  {
   "cell_type": "code",
   "execution_count": null,
   "metadata": {},
   "outputs": [],
   "source": [
    "## Plotting random spectral frames\n",
    "\n",
    "import random\n",
    "\n",
    "i = random.randint(0,len(mfcc_frames))\n",
    "\n",
    "print(i)\n",
    "\n",
    "plt.figure(figsize=(10,5))\n",
    "plt.plot(mfcc_frames[i])\n",
    "plt.show()"
   ]
  },
  {
   "cell_type": "code",
   "execution_count": null,
   "metadata": {},
   "outputs": [],
   "source": [
    "## Plotting average MFCC values over time\n",
    "\n",
    "mean_mfcc_vals = [np.mean(frame_values) for frame_values in mfcc_frames]\n",
    "\n",
    "plt.figure(figsize=(10,5))\n",
    "plt.plot(mean_mfcc_vals)\n",
    "plt.show()"
   ]
  },
  {
   "cell_type": "code",
   "execution_count": null,
   "metadata": {},
   "outputs": [],
   "source": [
    "## Plotting average MFCC values over time, excluding 0th coefficient\n",
    "\n",
    "mean_mfcc_vals = [np.mean(frame_values[1:]) for frame_values in mfcc_frames]\n",
    "\n",
    "plt.figure(figsize=(10,5))\n",
    "plt.plot(mean_mfcc_vals)\n",
    "plt.show()"
   ]
  },
  {
   "cell_type": "code",
   "execution_count": null,
   "metadata": {},
   "outputs": [],
   "source": [
    "## Comparing spectral and MFCC frames\n",
    "\n",
    "import random\n",
    "\n",
    "i = random.randint(0,len(mfcc_frames))\n",
    "\n",
    "print(i)\n",
    "\n",
    "plt.figure(figsize=(10,3))\n",
    "plt.plot(spectral_power_frames[i])\n",
    "plt.show()\n",
    "\n",
    "plt.figure(figsize=(10,3))\n",
    "plt.plot(mfcc_frames[i][1:]) # excluding 0th coefficient\n",
    "plt.show()"
   ]
  },
  {
   "cell_type": "code",
   "execution_count": null,
   "metadata": {
    "collapsed": true
   },
   "outputs": [],
   "source": []
  },
  {
   "cell_type": "code",
   "execution_count": null,
   "metadata": {},
   "outputs": [],
   "source": [
    "sample_array"
   ]
  },
  {
   "cell_type": "markdown",
   "metadata": {},
   "source": [
    "Now let's flip it and reverse it. In Python, we can easily reverse the order of a list called `xyz` with the bracket notation `xyz[::-1]`.\n"
   ]
  },
  {
   "cell_type": "code",
   "execution_count": null,
   "metadata": {
    "collapsed": true
   },
   "outputs": [],
   "source": [
    "librosa.output.write_wav('Reverse_Creeley_The-Warning_61.wav', sample_array[::-1], sample_rate)"
   ]
  },
  {
   "cell_type": "markdown",
   "metadata": {},
   "source": [
    "Play the new file \"Reverse_Creeley_The-Warning_61.wav\" in an audio editor.\n",
    "\n",
    "Now let's add some white noise to the original recording.\n"
   ]
  },
  {
   "cell_type": "code",
   "execution_count": null,
   "metadata": {},
   "outputs": [],
   "source": [
    "\n",
    "noise_array=[]\n",
    "\n",
    "for sample in sample_array:\n",
    "    noise_array.append(((random.random()-0.5)*0.1)+sample)\n",
    "\n",
    "noise_array = np.array(noise_array)\n",
    "\n",
    "librosa.output.write_wav('Noisy_Creeley_The-Warning_61.wav', noise_array, sample_rate)\n",
    "\n"
   ]
  },
  {
   "cell_type": "code",
   "execution_count": null,
   "metadata": {},
   "outputs": [],
   "source": []
  },
  {
   "cell_type": "code",
   "execution_count": null,
   "metadata": {
    "collapsed": true
   },
   "outputs": [],
   "source": []
  },
  {
   "cell_type": "code",
   "execution_count": null,
   "metadata": {},
   "outputs": [],
   "source": [
    "\n"
   ]
  }
 ],
 "metadata": {
  "kernelspec": {
   "display_name": "Python 2",
   "language": "python",
   "name": "python2"
  },
  "language_info": {
   "codemirror_mode": {
    "name": "ipython",
    "version": 2
   },
   "file_extension": ".py",
   "mimetype": "text/x-python",
   "name": "python",
   "nbconvert_exporter": "python",
   "pygments_lexer": "ipython2",
   "version": "2.7.6"
  }
 },
 "nbformat": 4,
 "nbformat_minor": 2
}
