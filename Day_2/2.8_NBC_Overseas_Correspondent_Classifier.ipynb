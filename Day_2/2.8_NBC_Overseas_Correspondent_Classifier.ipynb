{
 "cells": [
  {
   "cell_type": "markdown",
   "metadata": {},
   "source": [
    "## *NBC Overseas Correspondent Classifier*"
   ]
  },
  {
   "cell_type": "code",
   "execution_count": 1,
   "metadata": {},
   "outputs": [],
   "source": [
    "import os\n",
    "os.chdir('/home/sharedfolder')"
   ]
  },
  {
   "cell_type": "code",
   "execution_count": 2,
   "metadata": {
    "collapsed": true
   },
   "outputs": [],
   "source": [
    "import os\n",
    "import shutil\n",
    "import random\n",
    "import numpy as np\n",
    "from pyAudioAnalysis import audioTrainTest as aT\n",
    "from pyAudioAnalysis import audioSegmentation as aS"
   ]
  },
  {
   "cell_type": "code",
   "execution_count": 3,
   "metadata": {},
   "outputs": [
    {
     "name": "stdout",
     "output_type": "stream",
     "text": [
      "mkdir: cannot create directory '/home/sharedfolder/NBC_DDay_News': File exists\n",
      "mkdir: cannot create directory '/home/sharedfolder/NBC_DDay_News_Clips': File exists\n",
      "mkdir: cannot create directory '/home/sharedfolder/NBC_DDay_News_Clips_Subset': File exists\n"
     ]
    }
   ],
   "source": [
    "# Creating new directories to keep our files organized\n",
    "\n",
    "!mkdir /home/sharedfolder/NBC_DDay_News\n",
    "!mkdir /home/sharedfolder/NBC_DDay_News_Clips\n",
    "!mkdir /home/sharedfolder/NBC_DDay_News_Clips_Subset"
   ]
  },
  {
   "cell_type": "code",
   "execution_count": 4,
   "metadata": {},
   "outputs": [],
   "source": [
    "# Let's change our working directory to \"NBC_DDay_Complete_Broadcast\" and create a list of filenames.\n",
    "\n",
    "os.chdir('/home/sharedfolder/NBC_DDay_Complete_Broadcast')\n",
    "filenames=os.listdir('./')\n",
    "filenames = [item for item in filenames if 'news' in item.lower()]\n",
    "len(filenames)\n",
    "filenames=filenames[0:5]"
   ]
  },
  {
   "cell_type": "markdown",
   "metadata": {},
   "source": [
    "### *Task:*\n",
    "\n",
    "Move all files whose names contain \"News\" into the directory **`/home/sharedfolder/NBC_DDay_News`**.\n",
    "\n",
    "**Hint:** You can either do this in the terminal or in Python. **`shutil.move(\"filename.mp3\", \"/path/to/directory/\")`** will move a file to another directory, just like **`mv`** does in Bash.\n",
    "\n",
    "If you choose to use Python, one option is to use the list comprehension feature. You may want to create and view your list of \"News\" filenames before you actually move them."
   ]
  },
  {
   "cell_type": "code",
   "execution_count": 5,
   "metadata": {},
   "outputs": [
    {
     "data": {
      "text/plain": [
       "['CBD-440606_NBC0250-MusicandNews.mp3',\n",
       " 'CBD-440606_NBC0250-MusicandNews.mp3.0000_clip.wav',\n",
       " 'CBD-440606_NBC0250-MusicandNews.mp3.0001_clip.wav',\n",
       " 'CBD-440606_NBC0250-MusicandNews.mp3.0002_clip.wav',\n",
       " 'CBD-440606_NBC0250-MusicandNews.mp3.0003_clip.wav']"
      ]
     },
     "execution_count": 5,
     "metadata": {},
     "output_type": "execute_result"
    }
   ],
   "source": [
    "\n",
    "\n",
    "filenames\n"
   ]
  },
  {
   "cell_type": "code",
   "execution_count": 6,
   "metadata": {
    "collapsed": true
   },
   "outputs": [],
   "source": [
    "for filename in filenames:\n",
    "    shutil.copy(filename, \"/home/sharedfolder/NBC_DDay_News\")"
   ]
  },
  {
   "cell_type": "code",
   "execution_count": 8,
   "metadata": {},
   "outputs": [
    {
     "name": "stdout",
     "output_type": "stream",
     "text": [
      "ffmpeg version 3.3.1 Copyright (c) 2000-2017 the FFmpeg developers\n",
      "  built with gcc 4.8 (Ubuntu 4.8.4-2ubuntu1~14.04.3)\n",
      "  configuration: --extra-libs=-ldl --prefix=/opt/ffmpeg --mandir=/usr/share/man --enable-avresample --disable-debug --enable-nonfree --enable-gpl --enable-version3 --enable-libopencore-amrnb --enable-libopencore-amrwb --disable-decoder=amrnb --disable-decoder=amrwb --enable-libpulse --enable-libfreetype --enable-gnutls --enable-libx264 --enable-libx265 --enable-libfdk-aac --enable-libvorbis --enable-libmp3lame --enable-libopus --enable-libvpx --enable-libspeex --enable-libass --enable-avisynth --enable-libsoxr --enable-libxvid --enable-libvidstab --enable-libwavpack --enable-nvenc\n",
      "  libavutil      55. 58.100 / 55. 58.100\n",
      "  libavcodec     57. 89.100 / 57. 89.100\n",
      "  libavformat    57. 71.100 / 57. 71.100\n",
      "  libavdevice    57.  6.100 / 57.  6.100\n",
      "  libavfilter     6. 82.100 /  6. 82.100\n",
      "  libavresample   3.  5.  0 /  3.  5.  0\n",
      "  libswscale      4.  6.100 /  4.  6.100\n",
      "  libswresample   2.  7.100 /  2.  7.100\n",
      "  libpostproc    54.  5.100 / 54.  5.100\n",
      "\u001b[0;35m[mp3 @ 0x3fd6700] \u001b[0m\u001b[0;33mEstimating duration from bitrate, this may be inaccurate\n",
      "\u001b[0mInput #0, mp3, from 'CBD-440606_NBC0250-MusicandNews.mp3':\n",
      "  Duration: 00:10:02.17, start: 0.000000, bitrate: 32 kb/s\n",
      "    Stream #0:0: Audio: mp3, 11025 Hz, stereo, s16p, 32 kb/s\n",
      "Stream mapping:\n",
      "  Stream #0:0 -> #0:0 (mp3 (native) -> pcm_s16le (native))\n",
      "Press [q] to stop, [?] for help\n",
      "Output #0, segment, to 'CBD-440606_NBC0250-MusicandNews.mp3.%04d_clip.wav':\n",
      "  Metadata:\n",
      "    encoder         : Lavf57.71.100\n",
      "    Stream #0:0: Audio: pcm_s16le, 11025 Hz, stereo, s16, 352 kb/s\n",
      "    Metadata:\n",
      "      encoder         : Lavc57.89.100 pcm_s16le\n",
      "size=N/A time=00:10:02.17 bitrate=N/A speed=82.6x    \n",
      "video:0kB audio:25934kB subtitle:0kB other streams:0kB global headers:0kB muxing overhead: unknown\n"
     ]
    }
   ],
   "source": [
    "os.chdir(\"/home/sharedfolder/NBC_DDay_News\")\n",
    "\n",
    "!for f in *.mp3; do ffmpeg -i $f -f segment -segment_time 30 $f.%04d_clip.wav ; done\n",
    "\n"
   ]
  },
  {
   "cell_type": "markdown",
   "metadata": {},
   "source": [
    "### *Splitting recordings into 30-second segments*\n",
    "\n",
    "Next we'll use **`ffmpeg`** to split each file into 30-second WAV chunks (which are quicker and more convenient to work with than full recordings). \n",
    "\n",
    "In the terminal, **`cd`** to the directory **`NBC_DDay_News_Clips`** and run the following command, which will create numbered 30-second segments whose filenames end with **`_clip.wav`**. The process may take a few minutes to complete.\n",
    "\n",
    "```\n",
    "for f in *.mp3; do\n",
    "ffmpeg -i $f -f segment -segment_time 30 $f.%04d_clip.wav ;\n",
    "done\n",
    "```"
   ]
  },
  {
   "cell_type": "code",
   "execution_count": 11,
   "metadata": {},
   "outputs": [
    {
     "name": "stdout",
     "output_type": "stream",
     "text": [
      "ffmpeg version 3.3.1 Copyright (c) 2000-2017 the FFmpeg developers\n",
      "  built with gcc 4.8 (Ubuntu 4.8.4-2ubuntu1~14.04.3)\n",
      "  configuration: --extra-libs=-ldl --prefix=/opt/ffmpeg --mandir=/usr/share/man --enable-avresample --disable-debug --enable-nonfree --enable-gpl --enable-version3 --enable-libopencore-amrnb --enable-libopencore-amrwb --disable-decoder=amrnb --disable-decoder=amrwb --enable-libpulse --enable-libfreetype --enable-gnutls --enable-libx264 --enable-libx265 --enable-libfdk-aac --enable-libvorbis --enable-libmp3lame --enable-libopus --enable-libvpx --enable-libspeex --enable-libass --enable-avisynth --enable-libsoxr --enable-libxvid --enable-libvidstab --enable-libwavpack --enable-nvenc\n",
      "  libavutil      55. 58.100 / 55. 58.100\n",
      "  libavcodec     57. 89.100 / 57. 89.100\n",
      "  libavformat    57. 71.100 / 57. 71.100\n",
      "  libavdevice    57.  6.100 / 57.  6.100\n",
      "  libavfilter     6. 82.100 /  6. 82.100\n",
      "  libavresample   3.  5.  0 /  3.  5.  0\n",
      "  libswscale      4.  6.100 /  4.  6.100\n",
      "  libswresample   2.  7.100 /  2.  7.100\n",
      "  libpostproc    54.  5.100 / 54.  5.100\n",
      "\u001b[0;35m[mp3 @ 0x34c0700] \u001b[0m\u001b[0;33mEstimating duration from bitrate, this may be inaccurate\n",
      "\u001b[0mInput #0, mp3, from 'CBD-440606_NBC0250-MusicandNews.mp3':\n",
      "  Duration: 00:10:02.17, start: 0.000000, bitrate: 32 kb/s\n",
      "    Stream #0:0: Audio: mp3, 11025 Hz, stereo, s16p, 32 kb/s\n",
      "Stream mapping:\n",
      "  Stream #0:0 -> #0:0 (mp3 (native) -> pcm_s16le (native))\n",
      "Press [q] to stop, [?] for help\n",
      "Output #0, segment, to 'CBD-440606_NBC0250-MusicandNews.mp3.%04d_clip.wav':\n",
      "  Metadata:\n",
      "    encoder         : Lavf57.71.100\n",
      "    Stream #0:0: Audio: pcm_s16le, 11025 Hz, stereo, s16, 352 kb/s\n",
      "    Metadata:\n",
      "      encoder         : Lavc57.89.100 pcm_s16le\n",
      "size=N/A time=00:10:02.17 bitrate=N/A speed=71.4x    \n",
      "video:0kB audio:25934kB subtitle:0kB other streams:0kB global headers:0kB muxing overhead: unknown\n"
     ]
    }
   ],
   "source": [
    "!for f in *.mp3; do ffmpeg -i $f -f segment -segment_time 30 $f.%04d_clip.wav ; done"
   ]
  },
  {
   "cell_type": "markdown",
   "metadata": {},
   "source": [
    "### *Task:*\n",
    "\n",
    "Use Python to randomly choose around 300 of the files you just created and move them to the directory **`NBC_DDay_News_Clips_Subset`**.\n",
    "\n",
    "First you'll need to change your current directory to **`/home/sharedfolder/NBC_DDay_News_Clips`** with **`os.chdir(...)`**, then use **`os.listdir('./')`** to create a list of filenames like we did in the third cell of this notebook.\n",
    "\n",
    "**Hint:** Only include filenames that end with **`_clip.wav`**. We only want to work with our 30-second clips in the next step, not the original recordings.\n",
    "\n",
    "Try running the cell below a few times to see how **`random.sample(...)`** chooses items randomly from a list. \n",
    "\n",
    "Once you've created a list of randomly chosen filenames, you can use **`shutil.move(..., ...)`**  to move them to the directory **`NBC_DDay_News_Clips_Subset`**, just like we did a few cells back.\n"
   ]
  },
  {
   "cell_type": "code",
   "execution_count": null,
   "metadata": {
    "collapsed": true
   },
   "outputs": [],
   "source": [
    "random.sample([1,2,3,4,5,6,7,8,9,10], 4)"
   ]
  },
  {
   "cell_type": "code",
   "execution_count": 13,
   "metadata": {},
   "outputs": [],
   "source": [
    "os.chdir('/home/sharedfolder/NBC_DDay_News_Clips')"
   ]
  },
  {
   "cell_type": "code",
   "execution_count": 17,
   "metadata": {},
   "outputs": [],
   "source": [
    "os.chdir('/home/sharedfolder/NBC_DDay_Complete_Broadcast')"
   ]
  },
  {
   "cell_type": "code",
   "execution_count": null,
   "metadata": {},
   "outputs": [],
   "source": []
  },
  {
   "cell_type": "code",
   "execution_count": 23,
   "metadata": {},
   "outputs": [
    {
     "data": {
      "text/plain": [
       "['CBD-440606_NBC0250-MusicandNews.mp3.0000_clip.wav',\n",
       " 'CBD-440606_NBC0250-MusicandNews.mp3.0001_clip.wav',\n",
       " 'CBD-440606_NBC0250-MusicandNews.mp3.0002_clip.wav',\n",
       " 'CBD-440606_NBC0250-MusicandNews.mp3.0003_clip.wav',\n",
       " 'CBD-440606_NBC0250-MusicandNews.mp3.0004_clip.wav',\n",
       " 'CBD-440606_NBC0250-MusicandNews.mp3.0005_clip.wav',\n",
       " 'CBD-440606_NBC0250-MusicandNews.mp3.0006_clip.wav',\n",
       " 'CBD-440606_NBC0250-MusicandNews.mp3.0007_clip.wav',\n",
       " 'CBD-440606_NBC0250-MusicandNews.mp3.0008_clip.wav',\n",
       " 'CBD-440606_NBC0250-MusicandNews.mp3.0009_clip.wav']"
      ]
     },
     "execution_count": 23,
     "metadata": {},
     "output_type": "execute_result"
    }
   ],
   "source": [
    "clip_filenames = [item for item in os.listdir('./') if '_clip.wav' in item]\n",
    "\n",
    "clip_filenames[:10]"
   ]
  },
  {
   "cell_type": "code",
   "execution_count": 25,
   "metadata": {},
   "outputs": [],
   "source": [
    "for filename in clip_filenames:\n",
    "    shutil.move(filename,'/home/sharedfolder/NBC_DDay_News_Clips')"
   ]
  },
  {
   "cell_type": "markdown",
   "metadata": {},
   "source": [
    "The program **`sox`**, known as \"the Swiss Army knife of sound processing programs,\" can create high-quality spectrograms and save them as PNG image files.\n",
    "\n",
    "Back in the terminal, **`cd`** to the directory **`NBC_DDay_News_Clips_Subset`** and run the following command to create spectrograms for every file in the set.\n",
    "\n",
    "```\n",
    "for f in *_clip.wav; do sox $f -n spectrogram -x 1600 -y 513 -r -o $f.png; done\n",
    "```"
   ]
  },
  {
   "cell_type": "code",
   "execution_count": 45,
   "metadata": {},
   "outputs": [],
   "source": [
    "os.chdir('../NBC_DDay_News_Clips')"
   ]
  },
  {
   "cell_type": "code",
   "execution_count": 46,
   "metadata": {},
   "outputs": [
    {
     "name": "stdout",
     "output_type": "stream",
     "text": [
      "sox WARN wav: Premature EOF on .wav input file\r\n"
     ]
    }
   ],
   "source": [
    "!for f in *_clip.wav; do sox $f -n spectrogram -x 1600 -y 513 -r -o $f.png; done"
   ]
  },
  {
   "cell_type": "code",
   "execution_count": null,
   "metadata": {},
   "outputs": [],
   "source": [
    "\n",
    "temp_filenames = os.listdir(\"/home/sharedfolder/NBC_DDay_News_Clips\")\n",
    "\n",
    "temp_filenames = random.sample(temp_filenames, 50)\n"
   ]
  },
  {
   "cell_type": "code",
   "execution_count": null,
   "metadata": {},
   "outputs": [],
   "source": []
  },
  {
   "cell_type": "code",
   "execution_count": null,
   "metadata": {},
   "outputs": [],
   "source": []
  },
  {
   "cell_type": "code",
   "execution_count": null,
   "metadata": {
    "collapsed": true
   },
   "outputs": [],
   "source": []
  },
  {
   "cell_type": "code",
   "execution_count": null,
   "metadata": {
    "collapsed": true
   },
   "outputs": [],
   "source": []
  },
  {
   "cell_type": "code",
   "execution_count": null,
   "metadata": {
    "collapsed": true
   },
   "outputs": [],
   "source": []
  },
  {
   "cell_type": "code",
   "execution_count": 33,
   "metadata": {},
   "outputs": [],
   "source": []
  },
  {
   "cell_type": "code",
   "execution_count": 38,
   "metadata": {},
   "outputs": [
    {
     "name": "stdout",
     "output_type": "stream",
     "text": [
      "0\t../NBC_DDay_News_Clips_Subset\r\n"
     ]
    }
   ],
   "source": []
  },
  {
   "cell_type": "code",
   "execution_count": 39,
   "metadata": {},
   "outputs": [
    {
     "ename": "IOError",
     "evalue": "[Errno 2] No such file or directory: 'CBD-440606_NBC0330-News.mp3.0038_clip.wav'",
     "output_type": "error",
     "traceback": [
      "\u001b[0;31m---------------------------------------------------------------------------\u001b[0m",
      "\u001b[0;31mIOError\u001b[0m                                   Traceback (most recent call last)",
      "\u001b[0;32m<ipython-input-39-2b74800a6754>\u001b[0m in \u001b[0;36m<module>\u001b[0;34m()\u001b[0m\n\u001b[1;32m      1\u001b[0m \u001b[0;32mfor\u001b[0m \u001b[0mfilename\u001b[0m \u001b[0;32min\u001b[0m \u001b[0mtemp_filenames\u001b[0m\u001b[0;34m:\u001b[0m\u001b[0;34m\u001b[0m\u001b[0m\n\u001b[0;32m----> 2\u001b[0;31m     \u001b[0mshutil\u001b[0m\u001b[0;34m.\u001b[0m\u001b[0mcopy\u001b[0m\u001b[0;34m(\u001b[0m\u001b[0mfilename\u001b[0m\u001b[0;34m,\u001b[0m\u001b[0;34m'../NBC_DDay_News_Clips_Subset'\u001b[0m\u001b[0;34m)\u001b[0m\u001b[0;34m\u001b[0m\u001b[0m\n\u001b[0m",
      "\u001b[0;32m/usr/lib/python2.7/shutil.pyc\u001b[0m in \u001b[0;36mcopy\u001b[0;34m(src, dst)\u001b[0m\n\u001b[1;32m    117\u001b[0m     \u001b[0;32mif\u001b[0m \u001b[0mos\u001b[0m\u001b[0;34m.\u001b[0m\u001b[0mpath\u001b[0m\u001b[0;34m.\u001b[0m\u001b[0misdir\u001b[0m\u001b[0;34m(\u001b[0m\u001b[0mdst\u001b[0m\u001b[0;34m)\u001b[0m\u001b[0;34m:\u001b[0m\u001b[0;34m\u001b[0m\u001b[0m\n\u001b[1;32m    118\u001b[0m         \u001b[0mdst\u001b[0m \u001b[0;34m=\u001b[0m \u001b[0mos\u001b[0m\u001b[0;34m.\u001b[0m\u001b[0mpath\u001b[0m\u001b[0;34m.\u001b[0m\u001b[0mjoin\u001b[0m\u001b[0;34m(\u001b[0m\u001b[0mdst\u001b[0m\u001b[0;34m,\u001b[0m \u001b[0mos\u001b[0m\u001b[0;34m.\u001b[0m\u001b[0mpath\u001b[0m\u001b[0;34m.\u001b[0m\u001b[0mbasename\u001b[0m\u001b[0;34m(\u001b[0m\u001b[0msrc\u001b[0m\u001b[0;34m)\u001b[0m\u001b[0;34m)\u001b[0m\u001b[0;34m\u001b[0m\u001b[0m\n\u001b[0;32m--> 119\u001b[0;31m     \u001b[0mcopyfile\u001b[0m\u001b[0;34m(\u001b[0m\u001b[0msrc\u001b[0m\u001b[0;34m,\u001b[0m \u001b[0mdst\u001b[0m\u001b[0;34m)\u001b[0m\u001b[0;34m\u001b[0m\u001b[0m\n\u001b[0m\u001b[1;32m    120\u001b[0m     \u001b[0mcopymode\u001b[0m\u001b[0;34m(\u001b[0m\u001b[0msrc\u001b[0m\u001b[0;34m,\u001b[0m \u001b[0mdst\u001b[0m\u001b[0;34m)\u001b[0m\u001b[0;34m\u001b[0m\u001b[0m\n\u001b[1;32m    121\u001b[0m \u001b[0;34m\u001b[0m\u001b[0m\n",
      "\u001b[0;32m/usr/lib/python2.7/shutil.pyc\u001b[0m in \u001b[0;36mcopyfile\u001b[0;34m(src, dst)\u001b[0m\n\u001b[1;32m     80\u001b[0m                 \u001b[0;32mraise\u001b[0m \u001b[0mSpecialFileError\u001b[0m\u001b[0;34m(\u001b[0m\u001b[0;34m\"`%s` is a named pipe\"\u001b[0m \u001b[0;34m%\u001b[0m \u001b[0mfn\u001b[0m\u001b[0;34m)\u001b[0m\u001b[0;34m\u001b[0m\u001b[0m\n\u001b[1;32m     81\u001b[0m \u001b[0;34m\u001b[0m\u001b[0m\n\u001b[0;32m---> 82\u001b[0;31m     \u001b[0;32mwith\u001b[0m \u001b[0mopen\u001b[0m\u001b[0;34m(\u001b[0m\u001b[0msrc\u001b[0m\u001b[0;34m,\u001b[0m \u001b[0;34m'rb'\u001b[0m\u001b[0;34m)\u001b[0m \u001b[0;32mas\u001b[0m \u001b[0mfsrc\u001b[0m\u001b[0;34m:\u001b[0m\u001b[0;34m\u001b[0m\u001b[0m\n\u001b[0m\u001b[1;32m     83\u001b[0m         \u001b[0;32mwith\u001b[0m \u001b[0mopen\u001b[0m\u001b[0;34m(\u001b[0m\u001b[0mdst\u001b[0m\u001b[0;34m,\u001b[0m \u001b[0;34m'wb'\u001b[0m\u001b[0;34m)\u001b[0m \u001b[0;32mas\u001b[0m \u001b[0mfdst\u001b[0m\u001b[0;34m:\u001b[0m\u001b[0;34m\u001b[0m\u001b[0m\n\u001b[1;32m     84\u001b[0m             \u001b[0mcopyfileobj\u001b[0m\u001b[0;34m(\u001b[0m\u001b[0mfsrc\u001b[0m\u001b[0;34m,\u001b[0m \u001b[0mfdst\u001b[0m\u001b[0;34m)\u001b[0m\u001b[0;34m\u001b[0m\u001b[0m\n",
      "\u001b[0;31mIOError\u001b[0m: [Errno 2] No such file or directory: 'CBD-440606_NBC0330-News.mp3.0038_clip.wav'"
     ]
    }
   ],
   "source": [
    "for filename in temp_filenames:\n",
    "    shutil.copy(filename,'../NBC_DDay_News_Clips_Subset')"
   ]
  },
  {
   "cell_type": "markdown",
   "metadata": {},
   "source": [
    "## *Sorting things out*\n",
    "\n",
    "We should now have a few hundred 30-second WAVs and corresponding PNG spectrograms in the same directory, **`NBC_DDay_News_Clips_Subset`**. Next we'll sort through the PNG files to find the really noisy ones from foreign correpondents — but first we need to create the directories where we'll put them."
   ]
  },
  {
   "cell_type": "code",
   "execution_count": 26,
   "metadata": {
    "collapsed": true
   },
   "outputs": [],
   "source": [
    "# Directories where we'll put our two training classes\n",
    "\n",
    "!mkdir /home/sharedfolder/noisy\n",
    "!mkdir /home/sharedfolder/not_noisy"
   ]
  },
  {
   "cell_type": "markdown",
   "metadata": {
    "collapsed": true
   },
   "source": [
    "Open **`sharedfolder`** on your desktop and start opening spectrogram files with whatever program is most convenient. If a file looks really noisy, drag the corresponding WAV file to the **`noisy`** directory. If not, put the WAV file in **`not_noisy`**.\n",
    "\n",
    "If you can't decide where to put a file, take a quick listen and make a decision. This is your classifier; you call the shots. If you come across a file that contains music, just ignore it and move on.\n",
    "\n",
    "Once you have 20 or 30 WAVs in each class, you're ready to train your model."
   ]
  },
  {
   "cell_type": "markdown",
   "metadata": {
    "collapsed": true
   },
   "source": [
    "## *Training your classifier*\n",
    "\n",
    "Set your working directory to **`/home/sharedfolder`** and create a directory for your new model files."
   ]
  },
  {
   "cell_type": "code",
   "execution_count": null,
   "metadata": {
    "collapsed": true
   },
   "outputs": [],
   "source": [
    "os.chdir('/home/sharedfolder')\n",
    "\n",
    "!mkdir models"
   ]
  },
  {
   "cell_type": "code",
   "execution_count": null,
   "metadata": {
    "collapsed": true
   },
   "outputs": [],
   "source": []
  },
  {
   "cell_type": "code",
   "execution_count": 66,
   "metadata": {},
   "outputs": [],
   "source": [
    "noisy_list = [item.replace('.png','') for item in os.listdir('/home/sharedfolder/all_noises/not_noisy') if '.wav' in item]\n"
   ]
  },
  {
   "cell_type": "code",
   "execution_count": 67,
   "metadata": {
    "collapsed": true
   },
   "outputs": [],
   "source": [
    "\n",
    "not_noisy_list = [item.replace('.png','') for item in os.listdir('/home/sharedfolder/all_noises/noisy') if '.wav' in item]\n",
    "              "
   ]
  },
  {
   "cell_type": "code",
   "execution_count": 68,
   "metadata": {},
   "outputs": [
    {
     "name": "stdout",
     "output_type": "stream",
     "text": [
      "mkdir: cannot create directory '../noisy_all': File exists\n",
      "mkdir: cannot create directory '../not_noisy_all': File exists\n"
     ]
    }
   ],
   "source": [
    "!mkdir ../noisy_all\n",
    "!mkdir ../not_noisy_all"
   ]
  },
  {
   "cell_type": "code",
   "execution_count": 69,
   "metadata": {},
   "outputs": [
    {
     "name": "stdout",
     "output_type": "stream",
     "text": [
      "CBD-440606_NBC0330-News.mp3.0000_clip.wav\n",
      "CBD-440606_NBC0330-News.mp3.0001_clip.wav\n",
      "CBD-440606_NBC0330-News.mp3.0006_clip.wav\n",
      "CBD-440606_NBC0330-News.mp3.0007_clip.wav\n",
      "CBD-440606_NBC0330-News.mp3.0008_clip.wav\n",
      "CBD-440606_NBC0330-News.mp3.0009_clip.wav\n",
      "CBD-440606_NBC0330-News.mp3.0010_clip.wav\n",
      "CBD-440606_NBC0330-News.mp3.0011_clip.wav\n",
      "CBD-440606_NBC0330-News.mp3.0018_clip.wav\n",
      "CBD-440606_NBC0330-News.mp3.0019_clip.wav\n",
      "CBD-440606_NBC0330-News.mp3.0020_clip.wav\n",
      "CBD-440606_NBC0330-News.mp3.0021_clip.wav\n",
      "CBD-440606_NBC0330-News.mp3.0022_clip.wav\n",
      "CBD-440606_NBC0330-News.mp3.0023_clip.wav\n",
      "CBD-440606_NBC0330-News.mp3.0032_clip.wav\n",
      "CBD-440606_NBC0500-News.mp3.0010_clip.wav\n",
      "CBD-440606_NBC0500-News.mp3.0013_clip.wav\n",
      "CBD-440606_NBC0540-News.mp3.0001_clip.wav\n",
      "CBD-440606_NBC0540-News.mp3.0004_clip.wav\n",
      "CBD-440606_NBC1500-NewsandMusic.mp3.0001_clip.wav\n",
      "CBD-440606_NBC1500-NewsandMusic.mp3.0026_clip.wav\n",
      "CBD-440606_NBC1515-MusicandNews.mp3.0003_clip.wav\n",
      "CBD-440606_NBC1515-MusicandNews.mp3.0006_clip.wav\n",
      "CBD-440606_NBC1515-MusicandNews.mp3.0010_clip.wav\n",
      "CBD-440606_NBC1515-MusicandNews.mp3.0019_clip.wav\n",
      "CBD-440607_NBC1200-NewsAtNoon.mp3.0004_clip.wav\n",
      "CBD-440607_NBC1200-NewsAtNoon.mp3.0020_clip.wav\n",
      "CBD-440607_NBC1230-News.mp3.0040_clip.wav\n",
      "CBD-440607_NBC1230-News.mp3.0049_clip.wav\n",
      "CBD-440606_NBC0330-News.mp3.0000_clip.wav\n",
      "CBD-440606_NBC0330-News.mp3.0001_clip.wav\n",
      "CBD-440606_NBC0330-News.mp3.0006_clip.wav\n",
      "CBD-440606_NBC0330-News.mp3.0007_clip.wav\n",
      "CBD-440606_NBC0330-News.mp3.0008_clip.wav\n",
      "CBD-440606_NBC0330-News.mp3.0009_clip.wav\n",
      "CBD-440606_NBC0330-News.mp3.0010_clip.wav\n",
      "CBD-440606_NBC0330-News.mp3.0011_clip.wav\n",
      "CBD-440606_NBC0330-News.mp3.0018_clip.wav\n",
      "CBD-440606_NBC0330-News.mp3.0019_clip.wav\n",
      "CBD-440606_NBC0330-News.mp3.0020_clip.wav\n",
      "CBD-440606_NBC0330-News.mp3.0021_clip.wav\n",
      "CBD-440606_NBC0330-News.mp3.0022_clip.wav\n",
      "CBD-440606_NBC0330-News.mp3.0023_clip.wav\n",
      "CBD-440606_NBC0330-News.mp3.0032_clip.wav\n",
      "CBD-440606_NBC0500-News.mp3.0010_clip.wav\n",
      "CBD-440606_NBC0500-News.mp3.0013_clip.wav\n",
      "CBD-440606_NBC0540-News.mp3.0001_clip.wav\n",
      "CBD-440606_NBC0540-News.mp3.0004_clip.wav\n",
      "CBD-440606_NBC1500-NewsandMusic.mp3.0001_clip.wav\n",
      "CBD-440606_NBC1500-NewsandMusic.mp3.0026_clip.wav\n",
      "CBD-440606_NBC1515-MusicandNews.mp3.0003_clip.wav\n",
      "CBD-440606_NBC1515-MusicandNews.mp3.0006_clip.wav\n",
      "CBD-440606_NBC1515-MusicandNews.mp3.0010_clip.wav\n",
      "CBD-440606_NBC1515-MusicandNews.mp3.0019_clip.wav\n",
      "CBD-440607_NBC1200-NewsAtNoon.mp3.0004_clip.wav\n",
      "CBD-440607_NBC1200-NewsAtNoon.mp3.0020_clip.wav\n",
      "CBD-440607_NBC1230-News.mp3.0040_clip.wav\n",
      "CBD-440607_NBC1230-News.mp3.0049_clip.wav\n"
     ]
    }
   ],
   "source": [
    "os.chdir('/home/sharedfolder/NBC_DDay_Complete_Broadcast')\n",
    "\n",
    "\n",
    "\n",
    "for item in noisy_list:\n",
    "    try:\n",
    "        shutil.copy(item.replace('.wav.wav','').replace('.wav.wav','.wav'),'../noisy_all')\n",
    "    except:\n",
    "        print item\n",
    "\n",
    "\n",
    "for item in noisy_list:\n",
    "    try:\n",
    "        shutil.copy(item.repalce('.wav.wav','').replace('.wav.wav','.wav'),'../not_noisy_all')\n",
    "    except:\n",
    "        print item\n",
    "\n"
   ]
  },
  {
   "cell_type": "code",
   "execution_count": null,
   "metadata": {
    "collapsed": true
   },
   "outputs": [],
   "source": [
    "not_noisy_list = os.listdir('/home/sharedfolder/all_noises/noisy')\n",
    "\n",
    "\n",
    "os.listdir('home/sharedfolder/all_noises/not_noisy')"
   ]
  },
  {
   "cell_type": "code",
   "execution_count": 64,
   "metadata": {},
   "outputs": [
    {
     "name": "stdout",
     "output_type": "stream",
     "text": [
      "/home/sharedfolder/NBC_DDay_Complete_Broadcast\r\n"
     ]
    }
   ],
   "source": [
    "!pwd"
   ]
  },
  {
   "cell_type": "code",
   "execution_count": null,
   "metadata": {
    "collapsed": true
   },
   "outputs": [],
   "source": []
  },
  {
   "cell_type": "code",
   "execution_count": null,
   "metadata": {
    "collapsed": true
   },
   "outputs": [],
   "source": []
  },
  {
   "cell_type": "code",
   "execution_count": null,
   "metadata": {
    "collapsed": true
   },
   "outputs": [],
   "source": []
  },
  {
   "cell_type": "code",
   "execution_count": null,
   "metadata": {
    "collapsed": true
   },
   "outputs": [],
   "source": []
  },
  {
   "cell_type": "code",
   "execution_count": null,
   "metadata": {
    "collapsed": true
   },
   "outputs": [],
   "source": []
  },
  {
   "cell_type": "code",
   "execution_count": null,
   "metadata": {
    "collapsed": true
   },
   "outputs": [],
   "source": []
  },
  {
   "cell_type": "code",
   "execution_count": null,
   "metadata": {
    "collapsed": true
   },
   "outputs": [],
   "source": []
  },
  {
   "cell_type": "code",
   "execution_count": null,
   "metadata": {
    "collapsed": true
   },
   "outputs": [],
   "source": []
  },
  {
   "cell_type": "code",
   "execution_count": null,
   "metadata": {
    "collapsed": true
   },
   "outputs": [],
   "source": []
  },
  {
   "cell_type": "code",
   "execution_count": null,
   "metadata": {
    "collapsed": true
   },
   "outputs": [],
   "source": []
  },
  {
   "cell_type": "markdown",
   "metadata": {},
   "source": [
    "The following command will train an SVM classifier using the Python package **`pyAudioAnalysis`**, which it will store in the directory **`models`**. Fingers crossed!\n",
    "\n",
    "The list argument **`['not_noisy','noisy']`** in the command below actually points to the directories **`noisy`** and **`not_noisy`**. Because of the order we've chosen, the model will output 0 (zero) for \"not_noisy\" and 1 for \"noisy.\""
   ]
  },
  {
   "cell_type": "code",
   "execution_count": null,
   "metadata": {
    "collapsed": true
   },
   "outputs": [],
   "source": [
    "aT.featureAndTrain(['not_noisy','noisy'], 1.0, 1.0, aT.shortTermWindow, aT.shortTermStep, \"svm\", \"models/svm_NBC_noise\", False)"
   ]
  },
  {
   "cell_type": "markdown",
   "metadata": {},
   "source": [
    "Now let's test the classifier on a single file and see what we get. This one happens to be a foreign correspondent with lots of noise in the background."
   ]
  },
  {
   "cell_type": "code",
   "execution_count": null,
   "metadata": {
    "collapsed": true
   },
   "outputs": [],
   "source": [
    "wav_path = '/home/sharedfolder/NBC_DDay_News_Clips/CBD-440606_NBC0330-News.mp3.0014_clip.wav'\n",
    "\n",
    "classifier_model_path = '/home/sharedfolder/models/svm_NBC_noise'\n",
    "\n",
    "output, classesAll, acc, CM = aS.mtFileClassification(wav_path, classifier_model_path, \"svm\")\n",
    "\n",
    "output"
   ]
  },
  {
   "cell_type": "markdown",
   "metadata": {
    "collapsed": true
   },
   "source": [
    "If the output is a list of all ones, your clssifier worked! Give yourself a pat on the back.\n",
    "\n",
    "Because we ran the classifier on a 30-second file, we get back 30 classifications, one for each second of audio.\n",
    "\n",
    "Find a file you know isn't noisy and see if the classifier gets it right. (Just make sure it isn't one that you included in your training set.)"
   ]
  },
  {
   "cell_type": "code",
   "execution_count": null,
   "metadata": {
    "collapsed": true
   },
   "outputs": [],
   "source": [
    "\n",
    "\n"
   ]
  },
  {
   "cell_type": "code",
   "execution_count": null,
   "metadata": {
    "collapsed": true
   },
   "outputs": [],
   "source": [
    "\n",
    "\n"
   ]
  },
  {
   "cell_type": "markdown",
   "metadata": {
    "collapsed": true
   },
   "source": [
    "## *Task:*\n",
    "\n",
    "Choose 100 files at random from the directory **`NBC_DDay_News_Clips`** and classify them all, using **`print(...)`** to output each filename alongside its classificaiton."
   ]
  },
  {
   "cell_type": "code",
   "execution_count": null,
   "metadata": {
    "collapsed": true
   },
   "outputs": [],
   "source": [
    "\n",
    "\n"
   ]
  },
  {
   "cell_type": "code",
   "execution_count": null,
   "metadata": {
    "collapsed": true
   },
   "outputs": [],
   "source": [
    "\n",
    "\n"
   ]
  },
  {
   "cell_type": "markdown",
   "metadata": {},
   "source": [
    "## *Task:*\n",
    "\n",
    "\n",
    "Create a function called `**is_noisy(...)**` that take a WAV pathname as an argument and returns a decision for the whole file.\n",
    "\n",
    "**Hint:** The **`np.mean(...)`** function, which is part of the **`numpy`** package, will help you get from a list of numbers to a binary decision: 0 or 1, \"noisy\" or \"not_noisy.\" Run the cell below for a demonstration."
   ]
  },
  {
   "cell_type": "code",
   "execution_count": null,
   "metadata": {
    "collapsed": true
   },
   "outputs": [],
   "source": [
    "np.mean([0,0,0,0,0,0,1,1,0,1,0,0,1,1,1,0,1,0,0,0,0,0,1,1,0,0,0,0,0,0])"
   ]
  },
  {
   "cell_type": "code",
   "execution_count": null,
   "metadata": {
    "collapsed": true
   },
   "outputs": [],
   "source": [
    "\n",
    "\n"
   ]
  },
  {
   "cell_type": "code",
   "execution_count": null,
   "metadata": {
    "collapsed": true
   },
   "outputs": [],
   "source": [
    "\n"
   ]
  },
  {
   "cell_type": "markdown",
   "metadata": {},
   "source": [
    "## *Bonus task:*\n",
    "\n",
    "You're probably getting lots of music mixed in with your \"noisy\" classifications.\n",
    "\n",
    "Download the source files for **[pyAudioAnalysis](https://github.com/tyiannak/pyAudioAnalysis)** and add the following trained model files (located in that package's **``data``** directory) to your **`models`** directory.\n",
    "\n",
    "```\n",
    "svmSM\n",
    "svmSM.arff\n",
    "svmSMMEANS\n",
    "```\n",
    "\n",
    "Now write a function called **`is_music(...)`** that takes a WAV pathname as an argument and returns a binary classification.\n",
    "\n",
    "Now create a new function called **`is_foreign_correspondent(...)`** that checks whether a file is \"noisy\" as well as whether it's music. Test it out on a new batch of random clips."
   ]
  },
  {
   "cell_type": "code",
   "execution_count": null,
   "metadata": {
    "collapsed": true
   },
   "outputs": [],
   "source": [
    "\n",
    "\n"
   ]
  },
  {
   "cell_type": "code",
   "execution_count": null,
   "metadata": {
    "collapsed": true
   },
   "outputs": [],
   "source": [
    "\n",
    "\n"
   ]
  },
  {
   "cell_type": "markdown",
   "metadata": {},
   "source": [
    "## *Bonus task:*\n",
    "\n",
    "When you randomly choose clips to classify, check their filenames to make sure they don't come from the same files you used in your "
   ]
  },
  {
   "cell_type": "code",
   "execution_count": null,
   "metadata": {
    "collapsed": true
   },
   "outputs": [],
   "source": [
    "\n",
    "\n"
   ]
  },
  {
   "cell_type": "code",
   "execution_count": null,
   "metadata": {
    "collapsed": true
   },
   "outputs": [],
   "source": [
    "\n",
    "\n"
   ]
  },
  {
   "cell_type": "markdown",
   "metadata": {},
   "source": [
    "## *Bonus task:*\n",
    "\n",
    "Add an audio player widget to your notebook that lets you listen to each clip alongside its classification. Go ahead and crib some code from the [Classify_and_Play](https://github.com/hipstas/audio-tagging-toolkit/blob/master/scripts/Classify_and_Play.zip) notebook we looked at yesterday."
   ]
  },
  {
   "cell_type": "code",
   "execution_count": null,
   "metadata": {
    "collapsed": true
   },
   "outputs": [],
   "source": [
    "\n",
    "\n"
   ]
  },
  {
   "cell_type": "code",
   "execution_count": null,
   "metadata": {
    "collapsed": true
   },
   "outputs": [],
   "source": [
    "\n",
    "\n"
   ]
  },
  {
   "cell_type": "markdown",
   "metadata": {
    "collapsed": true
   },
   "source": [
    "## *Bonus task:*\n",
    "\n",
    "Write your own k-fold cross-validation system to quantify how well your model performs."
   ]
  },
  {
   "cell_type": "code",
   "execution_count": null,
   "metadata": {
    "collapsed": true
   },
   "outputs": [],
   "source": [
    "\n",
    "\n"
   ]
  },
  {
   "cell_type": "code",
   "execution_count": null,
   "metadata": {
    "collapsed": true
   },
   "outputs": [],
   "source": [
    "\n",
    "\n"
   ]
  }
 ],
 "metadata": {
  "kernelspec": {
   "display_name": "Python 2",
   "language": "python",
   "name": "python2"
  },
  "language_info": {
   "codemirror_mode": {
    "name": "ipython",
    "version": 2
   },
   "file_extension": ".py",
   "mimetype": "text/x-python",
   "name": "python",
   "nbconvert_exporter": "python",
   "pygments_lexer": "ipython2",
   "version": "2.7.6"
  }
 },
 "nbformat": 4,
 "nbformat_minor": 2
}
