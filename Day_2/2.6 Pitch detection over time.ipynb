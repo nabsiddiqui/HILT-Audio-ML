{
 "cells": [
  {
   "cell_type": "markdown",
   "metadata": {},
   "source": [
    "\n",
    "## *Pitch detection over time*\n",
    "\n",
    "- [Aubio](https://aubio.org/manual/latest/)\n",
    "- [Aubio pitch methods](https://aubio.org/manpages/latest/aubiopitch.1.html)\n"
   ]
  },
  {
   "cell_type": "code",
   "execution_count": null,
   "metadata": {
    "collapsed": true
   },
   "outputs": [],
   "source": [
    "\n",
    "import sys\n",
    "import numpy as np\n",
    "from numpy import ma\n",
    "from aubio import source, pitch\n",
    "from matplotlib import pyplot as plt\n",
    "\n",
    "%matplotlib inline\n"
   ]
  },
  {
   "cell_type": "code",
   "execution_count": null,
   "metadata": {},
   "outputs": [],
   "source": [
    "\n",
    "filename = \"09_Creeley-Robert_23_The-Warning_Chicago_5-15-61.wav\"\n",
    "\n",
    "\n",
    "downsample = 1\n",
    "samplerate = 44100 // downsample\n",
    "\n",
    "win_s = 2048 // downsample # fft size\n",
    "hop_s = 512  // downsample # hop size\n",
    "\n",
    "s = source(filename, samplerate, hop_s)\n",
    "samplerate = s.samplerate\n",
    "\n",
    "tolerance = 0.8\n",
    "\n",
    "pitch_o = pitch(\"yinfft\", win_s, hop_s, samplerate)\n",
    "pitch_o.set_unit(\"Hz\")\n",
    "pitch_o.set_tolerance(tolerance)\n",
    "\n",
    "pitches = []\n",
    "confidences = []\n"
   ]
  },
  {
   "cell_type": "code",
   "execution_count": null,
   "metadata": {},
   "outputs": [],
   "source": [
    "\n",
    "# total number of frames read\n",
    "total_frames = 0\n",
    "while True:\n",
    "    samples, read = s()\n",
    "    pitch = pitch_o(samples)[0]\n",
    "    #pitch = int(round(pitch))\n",
    "    confidence = pitch_o.get_confidence()\n",
    "    #print(\"%f %f %f\" % (total_frames / float(samplerate), pitch, confidence))\n",
    "    pitches += [pitch]\n",
    "    confidences += [confidence]\n",
    "    total_frames += read\n",
    "    if read < hop_s: break\n",
    "\n",
    "plt.figure(figsize=(100,5))\n",
    "plt.plot(pitches)\n",
    "\n",
    "plt.show()\n"
   ]
  },
  {
   "cell_type": "code",
   "execution_count": null,
   "metadata": {},
   "outputs": [],
   "source": [
    "\n",
    "pitches = np.array(pitches)\n",
    "confidences = np.array(confidences)\n",
    "\n",
    "cleaned_pitches = ma.masked_where(confidences < tolerance, pitches)\n",
    "cleaned_pitches = ma.masked_where(cleaned_pitches > 1000, cleaned_pitches)\n",
    "\n",
    "plt.figure(figsize=(100,5))\n",
    "plt.plot(cleaned_pitches)\n",
    "plt.show()\n"
   ]
  },
  {
   "cell_type": "code",
   "execution_count": null,
   "metadata": {},
   "outputs": [],
   "source": [
    "\n",
    "np.mean(cleaned_pitches)"
   ]
  },
  {
   "cell_type": "code",
   "execution_count": null,
   "metadata": {},
   "outputs": [],
   "source": [
    "\n",
    "plt.figure(figsize=(20,10))\n",
    "plt.hist(cleaned_pitches)"
   ]
  },
  {
   "cell_type": "code",
   "execution_count": null,
   "metadata": {},
   "outputs": [],
   "source": []
  },
  {
   "cell_type": "code",
   "execution_count": null,
   "metadata": {
    "collapsed": true
   },
   "outputs": [],
   "source": []
  },
  {
   "cell_type": "code",
   "execution_count": null,
   "metadata": {
    "collapsed": true
   },
   "outputs": [],
   "source": []
  }
 ],
 "metadata": {
  "kernelspec": {
   "display_name": "Python 2",
   "language": "python",
   "name": "python2"
  },
  "language_info": {
   "codemirror_mode": {
    "name": "ipython",
    "version": 2
   },
   "file_extension": ".py",
   "mimetype": "text/x-python",
   "name": "python",
   "nbconvert_exporter": "python",
   "pygments_lexer": "ipython2",
   "version": "2.7.6"
  }
 },
 "nbformat": 4,
 "nbformat_minor": 2
}
